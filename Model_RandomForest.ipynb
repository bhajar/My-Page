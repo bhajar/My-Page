{
 "cells": [
  {
   "cell_type": "code",
   "execution_count": 1,
   "metadata": {
    "collapsed": true
   },
   "outputs": [],
   "source": [
    "import pandas as pd\n",
    "import numpy as np\n",
    "import matplotlib.pyplot as plt\n",
    "import seaborn as sns\n",
    "\n",
    "# allow plots to appear within the notebook\n",
    "%matplotlib inline"
   ]
  },
  {
   "cell_type": "markdown",
   "metadata": {},
   "source": [
    "# 1. Data Understanding"
   ]
  },
  {
   "cell_type": "code",
   "execution_count": 2,
   "metadata": {
    "collapsed": true
   },
   "outputs": [],
   "source": [
    "# read in dataset\n",
    "dataset = pd.read_csv('./final_data.csv', engine = 'python')"
   ]
  },
  {
   "cell_type": "code",
   "execution_count": 3,
   "metadata": {
    "scrolled": true
   },
   "outputs": [
    {
     "data": {
      "text/html": [
       "<div>\n",
       "<style>\n",
       "    .dataframe thead tr:only-child th {\n",
       "        text-align: right;\n",
       "    }\n",
       "\n",
       "    .dataframe thead th {\n",
       "        text-align: left;\n",
       "    }\n",
       "\n",
       "    .dataframe tbody tr th {\n",
       "        vertical-align: top;\n",
       "    }\n",
       "</style>\n",
       "<table border=\"1\" class=\"dataframe\">\n",
       "  <thead>\n",
       "    <tr style=\"text-align: right;\">\n",
       "      <th></th>\n",
       "      <th>movie_id</th>\n",
       "      <th>original_title</th>\n",
       "      <th>budget</th>\n",
       "      <th>runtime</th>\n",
       "      <th>revenue</th>\n",
       "      <th>original_language</th>\n",
       "      <th>overview</th>\n",
       "      <th>popularity</th>\n",
       "      <th>release_date</th>\n",
       "      <th>status</th>\n",
       "      <th>...</th>\n",
       "      <th>combined_reviews</th>\n",
       "      <th>revenue_class</th>\n",
       "      <th>polarity</th>\n",
       "      <th>genres</th>\n",
       "      <th>keywords</th>\n",
       "      <th>production_companies</th>\n",
       "      <th>production_countries</th>\n",
       "      <th>cast</th>\n",
       "      <th>director</th>\n",
       "      <th>afinn</th>\n",
       "    </tr>\n",
       "  </thead>\n",
       "  <tbody>\n",
       "    <tr>\n",
       "      <th>0</th>\n",
       "      <td>10588</td>\n",
       "      <td>The Cat in the Hat</td>\n",
       "      <td>109000000</td>\n",
       "      <td>82</td>\n",
       "      <td>133960541</td>\n",
       "      <td>en</td>\n",
       "      <td>Conrad and Sally Walden are home alone with th...</td>\n",
       "      <td>18.251129</td>\n",
       "      <td>21 11 2003</td>\n",
       "      <td>Released</td>\n",
       "      <td>...</td>\n",
       "      <td>The Cat in the Hat is close to the dirtiest mo...</td>\n",
       "      <td>Class 7</td>\n",
       "      <td>0.038924</td>\n",
       "      <td>['Comedy', 'Fantasy', 'Family']</td>\n",
       "      <td>['cat', 'brother sister relationship', 'boredo...</td>\n",
       "      <td>['Imagine Entertainment', 'DreamWorks SKG', 'U...</td>\n",
       "      <td>['United States of America']</td>\n",
       "      <td>['Mike Myers', 'Dakota Fanning', 'Spencer Bres...</td>\n",
       "      <td>Bo Welch</td>\n",
       "      <td>103.0</td>\n",
       "    </tr>\n",
       "    <tr>\n",
       "      <th>1</th>\n",
       "      <td>51052</td>\n",
       "      <td>Arthur Christmas</td>\n",
       "      <td>85000000</td>\n",
       "      <td>97</td>\n",
       "      <td>147419472</td>\n",
       "      <td>en</td>\n",
       "      <td>Each Christmas, Santa and his vast army of hig...</td>\n",
       "      <td>19.836830</td>\n",
       "      <td>22 02 2011</td>\n",
       "      <td>Released</td>\n",
       "      <td>...</td>\n",
       "      <td>Arthur Claus (James McAvoy) is the bumbling so...</td>\n",
       "      <td>Class 7</td>\n",
       "      <td>0.237620</td>\n",
       "      <td>['Drama', 'Animation', 'Family', 'Comedy']</td>\n",
       "      <td>['holiday', 'santa claus', 'duringcreditssting...</td>\n",
       "      <td>['Columbia Pictures', 'Aardman Animations', 'S...</td>\n",
       "      <td>['United States of America']</td>\n",
       "      <td>['James McAvoy', 'Hugh Laurie', 'Bill Nighy', ...</td>\n",
       "      <td>Barry Cook</td>\n",
       "      <td>1220.0</td>\n",
       "    </tr>\n",
       "    <tr>\n",
       "      <th>2</th>\n",
       "      <td>12096</td>\n",
       "      <td>The Pink Panther</td>\n",
       "      <td>80000000</td>\n",
       "      <td>93</td>\n",
       "      <td>158851357</td>\n",
       "      <td>en</td>\n",
       "      <td>When the coach of the France soccer team is ki...</td>\n",
       "      <td>25.450534</td>\n",
       "      <td>18 01 2006</td>\n",
       "      <td>Released</td>\n",
       "      <td>...</td>\n",
       "      <td>I can see how this take on \"The Pink Panther\" ...</td>\n",
       "      <td>Class 8</td>\n",
       "      <td>0.033733</td>\n",
       "      <td>['Action', 'Comedy', 'Crime', 'Mystery', 'Fami...</td>\n",
       "      <td>['robbery', 'investigation', 'inspector', 'kil...</td>\n",
       "      <td>['Columbia Pictures', 'International Productio...</td>\n",
       "      <td>['United States of America']</td>\n",
       "      <td>['Steve Martin', 'Kevin Kline', 'Jean Reno', '...</td>\n",
       "      <td>Shawn Levy</td>\n",
       "      <td>91.0</td>\n",
       "    </tr>\n",
       "    <tr>\n",
       "      <th>3</th>\n",
       "      <td>161795</td>\n",
       "      <td>DÃ?Â©jÃ?Â  Vu</td>\n",
       "      <td>80000000</td>\n",
       "      <td>117</td>\n",
       "      <td>181038616</td>\n",
       "      <td>en</td>\n",
       "      <td>L.A. shop owner Dana and Englishman Sean meet ...</td>\n",
       "      <td>0.605645</td>\n",
       "      <td>22 04 1998</td>\n",
       "      <td>Released</td>\n",
       "      <td>...</td>\n",
       "      <td>I can understand that `Déjà vu' isn't everyone...</td>\n",
       "      <td>Class 8</td>\n",
       "      <td>0.149133</td>\n",
       "      <td>['Romance', 'Drama']</td>\n",
       "      <td>['love', 'american', 'pin', 'stranger', 'ruby']</td>\n",
       "      <td>['Rainbow Film Company, The', 'Revere Entertai...</td>\n",
       "      <td>['United States of America']</td>\n",
       "      <td>['Stephen Dillane', 'Victoria Foyt', 'Vanessa ...</td>\n",
       "      <td>Henry Jaglom</td>\n",
       "      <td>212.0</td>\n",
       "    </tr>\n",
       "    <tr>\n",
       "      <th>4</th>\n",
       "      <td>10395</td>\n",
       "      <td>Wolf</td>\n",
       "      <td>70000000</td>\n",
       "      <td>125</td>\n",
       "      <td>131002597</td>\n",
       "      <td>en</td>\n",
       "      <td>Publisher Will Randall becomes a werewolf and ...</td>\n",
       "      <td>13.758526</td>\n",
       "      <td>17 06 1994</td>\n",
       "      <td>Released</td>\n",
       "      <td>...</td>\n",
       "      <td>I like this film. It is different as a horror ...</td>\n",
       "      <td>Class 7</td>\n",
       "      <td>0.184575</td>\n",
       "      <td>['Fantasy']</td>\n",
       "      <td>['adultery', 'heal', 'bite', 'werewolf']</td>\n",
       "      <td>['Columbia Pictures']</td>\n",
       "      <td>['United States of America']</td>\n",
       "      <td>['Jack Nicholson', 'Christopher Plummer', 'Jam...</td>\n",
       "      <td>Mike Nichols</td>\n",
       "      <td>450.0</td>\n",
       "    </tr>\n",
       "  </tbody>\n",
       "</table>\n",
       "<p>5 rows × 38 columns</p>\n",
       "</div>"
      ],
      "text/plain": [
       "   movie_id      original_title     budget  runtime    revenue  \\\n",
       "0     10588  The Cat in the Hat  109000000       82  133960541   \n",
       "1     51052    Arthur Christmas   85000000       97  147419472   \n",
       "2     12096    The Pink Panther   80000000       93  158851357   \n",
       "3    161795       DÃ?Â©jÃ?Â  Vu   80000000      117  181038616   \n",
       "4     10395                Wolf   70000000      125  131002597   \n",
       "\n",
       "  original_language                                           overview  \\\n",
       "0                en  Conrad and Sally Walden are home alone with th...   \n",
       "1                en  Each Christmas, Santa and his vast army of hig...   \n",
       "2                en  When the coach of the France soccer team is ki...   \n",
       "3                en  L.A. shop owner Dana and Englishman Sean meet ...   \n",
       "4                en  Publisher Will Randall becomes a werewolf and ...   \n",
       "\n",
       "   popularity release_date    status   ...    \\\n",
       "0   18.251129   21 11 2003  Released   ...     \n",
       "1   19.836830   22 02 2011  Released   ...     \n",
       "2   25.450534   18 01 2006  Released   ...     \n",
       "3    0.605645   22 04 1998  Released   ...     \n",
       "4   13.758526   17 06 1994  Released   ...     \n",
       "\n",
       "                                    combined_reviews  revenue_class  polarity  \\\n",
       "0  The Cat in the Hat is close to the dirtiest mo...        Class 7  0.038924   \n",
       "1  Arthur Claus (James McAvoy) is the bumbling so...        Class 7  0.237620   \n",
       "2  I can see how this take on \"The Pink Panther\" ...        Class 8  0.033733   \n",
       "3  I can understand that `Déjà vu' isn't everyone...        Class 8  0.149133   \n",
       "4  I like this film. It is different as a horror ...        Class 7  0.184575   \n",
       "\n",
       "                                              genres  \\\n",
       "0                    ['Comedy', 'Fantasy', 'Family']   \n",
       "1         ['Drama', 'Animation', 'Family', 'Comedy']   \n",
       "2  ['Action', 'Comedy', 'Crime', 'Mystery', 'Fami...   \n",
       "3                               ['Romance', 'Drama']   \n",
       "4                                        ['Fantasy']   \n",
       "\n",
       "                                            keywords  \\\n",
       "0  ['cat', 'brother sister relationship', 'boredo...   \n",
       "1  ['holiday', 'santa claus', 'duringcreditssting...   \n",
       "2  ['robbery', 'investigation', 'inspector', 'kil...   \n",
       "3    ['love', 'american', 'pin', 'stranger', 'ruby']   \n",
       "4           ['adultery', 'heal', 'bite', 'werewolf']   \n",
       "\n",
       "                                production_companies  \\\n",
       "0  ['Imagine Entertainment', 'DreamWorks SKG', 'U...   \n",
       "1  ['Columbia Pictures', 'Aardman Animations', 'S...   \n",
       "2  ['Columbia Pictures', 'International Productio...   \n",
       "3  ['Rainbow Film Company, The', 'Revere Entertai...   \n",
       "4                              ['Columbia Pictures']   \n",
       "\n",
       "           production_countries  \\\n",
       "0  ['United States of America']   \n",
       "1  ['United States of America']   \n",
       "2  ['United States of America']   \n",
       "3  ['United States of America']   \n",
       "4  ['United States of America']   \n",
       "\n",
       "                                                cast      director   afinn  \n",
       "0  ['Mike Myers', 'Dakota Fanning', 'Spencer Bres...      Bo Welch   103.0  \n",
       "1  ['James McAvoy', 'Hugh Laurie', 'Bill Nighy', ...    Barry Cook  1220.0  \n",
       "2  ['Steve Martin', 'Kevin Kline', 'Jean Reno', '...    Shawn Levy    91.0  \n",
       "3  ['Stephen Dillane', 'Victoria Foyt', 'Vanessa ...  Henry Jaglom   212.0  \n",
       "4  ['Jack Nicholson', 'Christopher Plummer', 'Jam...  Mike Nichols   450.0  \n",
       "\n",
       "[5 rows x 38 columns]"
      ]
     },
     "execution_count": 3,
     "metadata": {},
     "output_type": "execute_result"
    }
   ],
   "source": [
    "dataset.head()"
   ]
  },
  {
   "cell_type": "code",
   "execution_count": 4,
   "metadata": {},
   "outputs": [
    {
     "data": {
      "text/plain": [
       "(4362, 38)"
      ]
     },
     "execution_count": 4,
     "metadata": {},
     "output_type": "execute_result"
    }
   ],
   "source": [
    "# examine dimension of dataset\n",
    "dataset.shape"
   ]
  },
  {
   "cell_type": "code",
   "execution_count": 5,
   "metadata": {
    "collapsed": true
   },
   "outputs": [],
   "source": [
    "# exclude rows with revenue = 0\n",
    "dataset = dataset[dataset.revenue > 0]"
   ]
  },
  {
   "cell_type": "code",
   "execution_count": 6,
   "metadata": {
    "collapsed": true
   },
   "outputs": [],
   "source": [
    "# exclude rows with budget = 0\n",
    "dataset = dataset[dataset.budget > 0]"
   ]
  },
  {
   "cell_type": "code",
   "execution_count": 7,
   "metadata": {},
   "outputs": [
    {
     "data": {
      "text/plain": [
       "(4157, 38)"
      ]
     },
     "execution_count": 7,
     "metadata": {},
     "output_type": "execute_result"
    }
   ],
   "source": [
    "dataset.shape"
   ]
  },
  {
   "cell_type": "code",
   "execution_count": 8,
   "metadata": {
    "collapsed": true
   },
   "outputs": [],
   "source": [
    "# helper function to list descriptive statistics for each variable\n",
    "def examine_dataframe(df):\n",
    "    for name in df.columns:\n",
    "        print (\"-----------------------------------\")\n",
    "        if df[name].dtype is np.dtype('O'):\n",
    "            print (df[name].value_counts())\n",
    "        else:\n",
    "            print (df[name].describe())"
   ]
  },
  {
   "cell_type": "code",
   "execution_count": 9,
   "metadata": {},
   "outputs": [
    {
     "data": {
      "text/plain": [
       "movie_id                          0\n",
       "original_title                    0\n",
       "budget                            0\n",
       "runtime                           0\n",
       "revenue                           0\n",
       "original_language                 0\n",
       "overview                          0\n",
       "popularity                        0\n",
       "release_date                      0\n",
       "status                            0\n",
       "tagline                         564\n",
       "vote_average                      0\n",
       "vote_count                        0\n",
       "genres_1_name                     4\n",
       "genres_2_name                   755\n",
       "keywords_1_name                 254\n",
       "keywords_2_name                 473\n",
       "keywords_3_name                 703\n",
       "keywords_4_name                 989\n",
       "keywords_5_name                1330\n",
       "production_companies_1_name     222\n",
       "production_companies_2_name    1109\n",
       "production_country_name         110\n",
       "director_name                    13\n",
       "music_composer_name            1600\n",
       "actor_1_name                     22\n",
       "actor_2_name                     28\n",
       "actor_3_name                     34\n",
       "combined_reviews                  0\n",
       "revenue_class                     0\n",
       "polarity                          0\n",
       "genres                            0\n",
       "keywords                          0\n",
       "production_companies              0\n",
       "production_countries              0\n",
       "cast                              0\n",
       "director                         13\n",
       "afinn                             0\n",
       "dtype: int64"
      ]
     },
     "execution_count": 9,
     "metadata": {},
     "output_type": "execute_result"
    }
   ],
   "source": [
    "# count the number of null values in each column\n",
    "dataset.isnull().sum()"
   ]
  },
  {
   "cell_type": "code",
   "execution_count": 10,
   "metadata": {},
   "outputs": [
    {
     "data": {
      "text/plain": [
       "Drama              1024\n",
       "Comedy              955\n",
       "Action              673\n",
       "Adventure           309\n",
       "Horror              248\n",
       "Crime               164\n",
       "Thriller            146\n",
       "Animation           107\n",
       "Fantasy             103\n",
       "Romance              91\n",
       "Science Fiction      87\n",
       "Documentary          67\n",
       "Family               46\n",
       "Mystery              35\n",
       "Music                29\n",
       "War                  21\n",
       "Western              21\n",
       "History              21\n",
       "comedy                2\n",
       "TV Movie              2\n",
       "Foreign               2\n",
       "Name: genres_1_name, dtype: int64"
      ]
     },
     "execution_count": 10,
     "metadata": {},
     "output_type": "execute_result"
    }
   ],
   "source": [
    "# peek at unique values in genres_1_name\n",
    "#dataset['genres_1_name'].unique() # total of 20 levels\n",
    "dataset.genres_1_name.value_counts() "
   ]
  },
  {
   "cell_type": "code",
   "execution_count": 11,
   "metadata": {},
   "outputs": [
    {
     "data": {
      "text/html": [
       "<div>\n",
       "<style>\n",
       "    .dataframe thead tr:only-child th {\n",
       "        text-align: right;\n",
       "    }\n",
       "\n",
       "    .dataframe thead th {\n",
       "        text-align: left;\n",
       "    }\n",
       "\n",
       "    .dataframe tbody tr th {\n",
       "        vertical-align: top;\n",
       "    }\n",
       "</style>\n",
       "<table border=\"1\" class=\"dataframe\">\n",
       "  <thead>\n",
       "    <tr style=\"text-align: right;\">\n",
       "      <th></th>\n",
       "      <th>movie_id</th>\n",
       "      <th>original_title</th>\n",
       "      <th>budget</th>\n",
       "      <th>runtime</th>\n",
       "      <th>revenue</th>\n",
       "      <th>original_language</th>\n",
       "      <th>overview</th>\n",
       "      <th>popularity</th>\n",
       "      <th>release_date</th>\n",
       "      <th>status</th>\n",
       "      <th>...</th>\n",
       "      <th>combined_reviews</th>\n",
       "      <th>revenue_class</th>\n",
       "      <th>polarity</th>\n",
       "      <th>genres</th>\n",
       "      <th>keywords</th>\n",
       "      <th>production_companies</th>\n",
       "      <th>production_countries</th>\n",
       "      <th>cast</th>\n",
       "      <th>director</th>\n",
       "      <th>afinn</th>\n",
       "    </tr>\n",
       "  </thead>\n",
       "  <tbody>\n",
       "    <tr>\n",
       "      <th>510</th>\n",
       "      <td>219716</td>\n",
       "      <td>Sparkler</td>\n",
       "      <td>1000000</td>\n",
       "      <td>96</td>\n",
       "      <td>5494</td>\n",
       "      <td>en</td>\n",
       "      <td>Melba is a Californian trailer-park girl who i...</td>\n",
       "      <td>0.547654</td>\n",
       "      <td>19 03 1999</td>\n",
       "      <td>Released</td>\n",
       "      <td>...</td>\n",
       "      <td>I avoided this movie for the longest time beca...</td>\n",
       "      <td>Class 1</td>\n",
       "      <td>0.149117</td>\n",
       "      <td>[]</td>\n",
       "      <td>[]</td>\n",
       "      <td>[]</td>\n",
       "      <td>[]</td>\n",
       "      <td>['Park Overall', 'Veronica Cartwright', 'Fredd...</td>\n",
       "      <td>Darren Stein</td>\n",
       "      <td>162.0</td>\n",
       "    </tr>\n",
       "    <tr>\n",
       "      <th>592</th>\n",
       "      <td>281189</td>\n",
       "      <td>Gory Gory Hallelujah</td>\n",
       "      <td>425000</td>\n",
       "      <td>96</td>\n",
       "      <td>12604</td>\n",
       "      <td>en</td>\n",
       "      <td>Four actors compete for the role of Jesus - a ...</td>\n",
       "      <td>0.033883</td>\n",
       "      <td>11 05 2003</td>\n",
       "      <td>Released</td>\n",
       "      <td>...</td>\n",
       "      <td>A friend of mine was able to get ahold of a DV...</td>\n",
       "      <td>Class 1</td>\n",
       "      <td>0.136483</td>\n",
       "      <td>[]</td>\n",
       "      <td>['woman director']</td>\n",
       "      <td>[]</td>\n",
       "      <td>[]</td>\n",
       "      <td>[]</td>\n",
       "      <td>Sue Corcoran</td>\n",
       "      <td>241.0</td>\n",
       "    </tr>\n",
       "  </tbody>\n",
       "</table>\n",
       "<p>2 rows × 38 columns</p>\n",
       "</div>"
      ],
      "text/plain": [
       "     movie_id        original_title   budget  runtime  revenue  \\\n",
       "510    219716              Sparkler  1000000       96     5494   \n",
       "592    281189  Gory Gory Hallelujah   425000       96    12604   \n",
       "\n",
       "    original_language                                           overview  \\\n",
       "510                en  Melba is a Californian trailer-park girl who i...   \n",
       "592                en  Four actors compete for the role of Jesus - a ...   \n",
       "\n",
       "     popularity release_date    status  ...    \\\n",
       "510    0.547654   19 03 1999  Released  ...     \n",
       "592    0.033883   11 05 2003  Released  ...     \n",
       "\n",
       "                                      combined_reviews  revenue_class  \\\n",
       "510  I avoided this movie for the longest time beca...        Class 1   \n",
       "592  A friend of mine was able to get ahold of a DV...        Class 1   \n",
       "\n",
       "     polarity genres            keywords production_companies  \\\n",
       "510  0.149117     []                  []                   []   \n",
       "592  0.136483     []  ['woman director']                   []   \n",
       "\n",
       "    production_countries                                               cast  \\\n",
       "510                   []  ['Park Overall', 'Veronica Cartwright', 'Fredd...   \n",
       "592                   []                                                 []   \n",
       "\n",
       "         director  afinn  \n",
       "510  Darren Stein  162.0  \n",
       "592  Sue Corcoran  241.0  \n",
       "\n",
       "[2 rows x 38 columns]"
      ]
     },
     "execution_count": 11,
     "metadata": {},
     "output_type": "execute_result"
    }
   ],
   "source": [
    "# locate the 2 rows with genre = 'comedy'\n",
    "dataset.loc[dataset.genres_1_name == 'comedy', :]"
   ]
  },
  {
   "cell_type": "code",
   "execution_count": 12,
   "metadata": {},
   "outputs": [
    {
     "data": {
      "text/html": [
       "<div>\n",
       "<style>\n",
       "    .dataframe thead tr:only-child th {\n",
       "        text-align: right;\n",
       "    }\n",
       "\n",
       "    .dataframe thead th {\n",
       "        text-align: left;\n",
       "    }\n",
       "\n",
       "    .dataframe tbody tr th {\n",
       "        vertical-align: top;\n",
       "    }\n",
       "</style>\n",
       "<table border=\"1\" class=\"dataframe\">\n",
       "  <thead>\n",
       "    <tr style=\"text-align: right;\">\n",
       "      <th></th>\n",
       "      <th>movie_id</th>\n",
       "      <th>original_title</th>\n",
       "      <th>budget</th>\n",
       "      <th>runtime</th>\n",
       "      <th>revenue</th>\n",
       "      <th>original_language</th>\n",
       "      <th>overview</th>\n",
       "      <th>popularity</th>\n",
       "      <th>release_date</th>\n",
       "      <th>status</th>\n",
       "      <th>...</th>\n",
       "      <th>combined_reviews</th>\n",
       "      <th>revenue_class</th>\n",
       "      <th>polarity</th>\n",
       "      <th>genres</th>\n",
       "      <th>keywords</th>\n",
       "      <th>production_companies</th>\n",
       "      <th>production_countries</th>\n",
       "      <th>cast</th>\n",
       "      <th>director</th>\n",
       "      <th>afinn</th>\n",
       "    </tr>\n",
       "  </thead>\n",
       "  <tbody>\n",
       "    <tr>\n",
       "      <th>411</th>\n",
       "      <td>346081</td>\n",
       "      <td>Sardaarji</td>\n",
       "      <td>2700000</td>\n",
       "      <td>0</td>\n",
       "      <td>8200000</td>\n",
       "      <td>en</td>\n",
       "      <td>A ghost hunter uses bottles to capture trouble...</td>\n",
       "      <td>0.296981</td>\n",
       "      <td>26 06 2015</td>\n",
       "      <td>Released</td>\n",
       "      <td>...</td>\n",
       "      <td>I attended an advance screening of \"My Week Wi...</td>\n",
       "      <td>Class 2</td>\n",
       "      <td>0.186064</td>\n",
       "      <td>[]</td>\n",
       "      <td>[]</td>\n",
       "      <td>[]</td>\n",
       "      <td>['India']</td>\n",
       "      <td>[]</td>\n",
       "      <td>Rohit Jugraj</td>\n",
       "      <td>436.0</td>\n",
       "    </tr>\n",
       "    <tr>\n",
       "      <th>426</th>\n",
       "      <td>371085</td>\n",
       "      <td>Sharkskin</td>\n",
       "      <td>2100000</td>\n",
       "      <td>0</td>\n",
       "      <td>4233</td>\n",
       "      <td>en</td>\n",
       "      <td>The Post War II story of Manhattan born Mike E...</td>\n",
       "      <td>0.027801</td>\n",
       "      <td>1 01 2015</td>\n",
       "      <td>Released</td>\n",
       "      <td>...</td>\n",
       "      <td>Look  mob movies are basically period pieces...</td>\n",
       "      <td>Class 1</td>\n",
       "      <td>0.035256</td>\n",
       "      <td>[]</td>\n",
       "      <td>[]</td>\n",
       "      <td>[]</td>\n",
       "      <td>[]</td>\n",
       "      <td>[]</td>\n",
       "      <td>NaN</td>\n",
       "      <td>-2.0</td>\n",
       "    </tr>\n",
       "    <tr>\n",
       "      <th>503</th>\n",
       "      <td>206412</td>\n",
       "      <td>Lisa Picard Is Famous</td>\n",
       "      <td>1000000</td>\n",
       "      <td>90</td>\n",
       "      <td>113433</td>\n",
       "      <td>en</td>\n",
       "      <td>A documentarian decides to follow the career o...</td>\n",
       "      <td>0.690089</td>\n",
       "      <td>14 05 2000</td>\n",
       "      <td>Released</td>\n",
       "      <td>...</td>\n",
       "      <td>Historically, Hollywood has done a lousy job o...</td>\n",
       "      <td>Class 1</td>\n",
       "      <td>0.149892</td>\n",
       "      <td>[]</td>\n",
       "      <td>[]</td>\n",
       "      <td>[]</td>\n",
       "      <td>[]</td>\n",
       "      <td>['Laura Kirk', 'Nat DeWolf', 'Griffin Dunne', ...</td>\n",
       "      <td>Griffin Dunne</td>\n",
       "      <td>254.0</td>\n",
       "    </tr>\n",
       "    <tr>\n",
       "      <th>1367</th>\n",
       "      <td>48382</td>\n",
       "      <td>The Book of Mormon Movie, Volume 1: The Journey</td>\n",
       "      <td>2000000</td>\n",
       "      <td>120</td>\n",
       "      <td>1672730</td>\n",
       "      <td>en</td>\n",
       "      <td>The story of Lehi and his wife Sariah and thei...</td>\n",
       "      <td>0.031947</td>\n",
       "      <td>9 12 2003</td>\n",
       "      <td>Released</td>\n",
       "      <td>...</td>\n",
       "      <td>The problem with the Book of Mormon Movie is t...</td>\n",
       "      <td>Class 2</td>\n",
       "      <td>0.074532</td>\n",
       "      <td>[]</td>\n",
       "      <td>[]</td>\n",
       "      <td>[]</td>\n",
       "      <td>[]</td>\n",
       "      <td>['Kirby Heyborne', 'Michael Flynn']</td>\n",
       "      <td>NaN</td>\n",
       "      <td>168.0</td>\n",
       "    </tr>\n",
       "  </tbody>\n",
       "</table>\n",
       "<p>4 rows × 38 columns</p>\n",
       "</div>"
      ],
      "text/plain": [
       "      movie_id                                   original_title   budget  \\\n",
       "411     346081                                        Sardaarji  2700000   \n",
       "426     371085                                        Sharkskin  2100000   \n",
       "503     206412                            Lisa Picard Is Famous  1000000   \n",
       "1367     48382  The Book of Mormon Movie, Volume 1: The Journey  2000000   \n",
       "\n",
       "      runtime  revenue original_language  \\\n",
       "411         0  8200000                en   \n",
       "426         0     4233                en   \n",
       "503        90   113433                en   \n",
       "1367      120  1672730                en   \n",
       "\n",
       "                                               overview  popularity  \\\n",
       "411   A ghost hunter uses bottles to capture trouble...    0.296981   \n",
       "426   The Post War II story of Manhattan born Mike E...    0.027801   \n",
       "503   A documentarian decides to follow the career o...    0.690089   \n",
       "1367  The story of Lehi and his wife Sariah and thei...    0.031947   \n",
       "\n",
       "     release_date    status  ...    \\\n",
       "411    26 06 2015  Released  ...     \n",
       "426     1 01 2015  Released  ...     \n",
       "503    14 05 2000  Released  ...     \n",
       "1367    9 12 2003  Released  ...     \n",
       "\n",
       "                                       combined_reviews  revenue_class  \\\n",
       "411   I attended an advance screening of \"My Week Wi...        Class 2   \n",
       "426     Look  mob movies are basically period pieces...        Class 1   \n",
       "503   Historically, Hollywood has done a lousy job o...        Class 1   \n",
       "1367  The problem with the Book of Mormon Movie is t...        Class 2   \n",
       "\n",
       "      polarity genres keywords production_companies production_countries  \\\n",
       "411   0.186064     []       []                   []            ['India']   \n",
       "426   0.035256     []       []                   []                   []   \n",
       "503   0.149892     []       []                   []                   []   \n",
       "1367  0.074532     []       []                   []                   []   \n",
       "\n",
       "                                                   cast       director  afinn  \n",
       "411                                                  []   Rohit Jugraj  436.0  \n",
       "426                                                  []            NaN   -2.0  \n",
       "503   ['Laura Kirk', 'Nat DeWolf', 'Griffin Dunne', ...  Griffin Dunne  254.0  \n",
       "1367                ['Kirby Heyborne', 'Michael Flynn']            NaN  168.0  \n",
       "\n",
       "[4 rows x 38 columns]"
      ]
     },
     "execution_count": 12,
     "metadata": {},
     "output_type": "execute_result"
    }
   ],
   "source": [
    "# check movies with missing value in genre\n",
    "dataset[dataset.genres_1_name.isnull()]"
   ]
  },
  {
   "cell_type": "code",
   "execution_count": 13,
   "metadata": {
    "collapsed": true
   },
   "outputs": [],
   "source": [
    "# impute values in genres_1_name\n",
    "dataset.loc[411, 'genres_1_name'] = 'Comedy'\n",
    "dataset.loc[426, 'genres_1_name'] = 'Comedy'\n",
    "dataset.loc[503, 'genres_1_name'] = 'Comedy'\n",
    "dataset.loc[1367, 'genres_1_name'] = 'Drama'\n",
    "dataset.loc[510, 'genres_1_name'] = 'Comedy'\n",
    "dataset.loc[592, 'genres_1_name'] = 'Comedy'"
   ]
  },
  {
   "cell_type": "code",
   "execution_count": 14,
   "metadata": {},
   "outputs": [
    {
     "data": {
      "text/plain": [
       "Class 1    481\n",
       "Class 2    674\n",
       "Class 3    480\n",
       "Class 4    574\n",
       "Class 5    438\n",
       "Class 6    386\n",
       "Class 7    340\n",
       "Class 8    222\n",
       "Class 9    562\n",
       "Name: revenue_class, dtype: int64"
      ]
     },
     "execution_count": 14,
     "metadata": {},
     "output_type": "execute_result"
    }
   ],
   "source": [
    "# check distribution of revenue_class\n",
    "dataset.revenue_class.value_counts().sort_index()"
   ]
  },
  {
   "cell_type": "code",
   "execution_count": 15,
   "metadata": {},
   "outputs": [
    {
     "data": {
      "text/html": [
       "<div>\n",
       "<style>\n",
       "    .dataframe thead tr:only-child th {\n",
       "        text-align: right;\n",
       "    }\n",
       "\n",
       "    .dataframe thead th {\n",
       "        text-align: left;\n",
       "    }\n",
       "\n",
       "    .dataframe tbody tr th {\n",
       "        vertical-align: top;\n",
       "    }\n",
       "</style>\n",
       "<table border=\"1\" class=\"dataframe\">\n",
       "  <thead>\n",
       "    <tr style=\"text-align: right;\">\n",
       "      <th></th>\n",
       "      <th>movie_id</th>\n",
       "      <th>original_title</th>\n",
       "      <th>budget</th>\n",
       "      <th>runtime</th>\n",
       "      <th>revenue</th>\n",
       "      <th>original_language</th>\n",
       "      <th>overview</th>\n",
       "      <th>popularity</th>\n",
       "      <th>release_date</th>\n",
       "      <th>status</th>\n",
       "      <th>...</th>\n",
       "      <th>combined_reviews</th>\n",
       "      <th>revenue_class</th>\n",
       "      <th>polarity</th>\n",
       "      <th>genres</th>\n",
       "      <th>keywords</th>\n",
       "      <th>production_companies</th>\n",
       "      <th>production_countries</th>\n",
       "      <th>cast</th>\n",
       "      <th>director</th>\n",
       "      <th>afinn</th>\n",
       "    </tr>\n",
       "  </thead>\n",
       "  <tbody>\n",
       "    <tr>\n",
       "      <th>402</th>\n",
       "      <td>281230</td>\n",
       "      <td>Fort McCoy</td>\n",
       "      <td>3000000</td>\n",
       "      <td>0</td>\n",
       "      <td>78948</td>\n",
       "      <td>en</td>\n",
       "      <td>Unable to serve in World War II because of a h...</td>\n",
       "      <td>0.384496</td>\n",
       "      <td>1 01 2014</td>\n",
       "      <td>Released</td>\n",
       "      <td>...</td>\n",
       "      <td>I walked in with zero expectations and ended u...</td>\n",
       "      <td>Class 1</td>\n",
       "      <td>0.104227</td>\n",
       "      <td>['War', 'Drama', 'History']</td>\n",
       "      <td>['woman director']</td>\n",
       "      <td>[]</td>\n",
       "      <td>[]</td>\n",
       "      <td>['Eric Stoltz', 'Kate Connor', 'Lyndsy Fonseca...</td>\n",
       "      <td>Michael Worth</td>\n",
       "      <td>85.0</td>\n",
       "    </tr>\n",
       "    <tr>\n",
       "      <th>411</th>\n",
       "      <td>346081</td>\n",
       "      <td>Sardaarji</td>\n",
       "      <td>2700000</td>\n",
       "      <td>0</td>\n",
       "      <td>8200000</td>\n",
       "      <td>en</td>\n",
       "      <td>A ghost hunter uses bottles to capture trouble...</td>\n",
       "      <td>0.296981</td>\n",
       "      <td>26 06 2015</td>\n",
       "      <td>Released</td>\n",
       "      <td>...</td>\n",
       "      <td>I attended an advance screening of \"My Week Wi...</td>\n",
       "      <td>Class 2</td>\n",
       "      <td>0.186064</td>\n",
       "      <td>[]</td>\n",
       "      <td>[]</td>\n",
       "      <td>[]</td>\n",
       "      <td>['India']</td>\n",
       "      <td>[]</td>\n",
       "      <td>Rohit Jugraj</td>\n",
       "      <td>436.0</td>\n",
       "    </tr>\n",
       "    <tr>\n",
       "      <th>426</th>\n",
       "      <td>371085</td>\n",
       "      <td>Sharkskin</td>\n",
       "      <td>2100000</td>\n",
       "      <td>0</td>\n",
       "      <td>4233</td>\n",
       "      <td>en</td>\n",
       "      <td>The Post War II story of Manhattan born Mike E...</td>\n",
       "      <td>0.027801</td>\n",
       "      <td>1 01 2015</td>\n",
       "      <td>Released</td>\n",
       "      <td>...</td>\n",
       "      <td>Look  mob movies are basically period pieces...</td>\n",
       "      <td>Class 1</td>\n",
       "      <td>0.035256</td>\n",
       "      <td>[]</td>\n",
       "      <td>[]</td>\n",
       "      <td>[]</td>\n",
       "      <td>[]</td>\n",
       "      <td>[]</td>\n",
       "      <td>NaN</td>\n",
       "      <td>-2.0</td>\n",
       "    </tr>\n",
       "    <tr>\n",
       "      <th>486</th>\n",
       "      <td>102840</td>\n",
       "      <td>Sex With Strangers</td>\n",
       "      <td>1100000</td>\n",
       "      <td>0</td>\n",
       "      <td>247740</td>\n",
       "      <td>en</td>\n",
       "      <td>For some married couples, sex is an obsession ...</td>\n",
       "      <td>0.014406</td>\n",
       "      <td>22 02 2002</td>\n",
       "      <td>Released</td>\n",
       "      <td>...</td>\n",
       "      <td>As a long-time aficionado of this and similar ...</td>\n",
       "      <td>Class 1</td>\n",
       "      <td>0.111336</td>\n",
       "      <td>['Documentary']</td>\n",
       "      <td>[]</td>\n",
       "      <td>[]</td>\n",
       "      <td>[]</td>\n",
       "      <td>[]</td>\n",
       "      <td>NaN</td>\n",
       "      <td>90.0</td>\n",
       "    </tr>\n",
       "    <tr>\n",
       "      <th>513</th>\n",
       "      <td>357441</td>\n",
       "      <td>Karachi se Lahore</td>\n",
       "      <td>1000000</td>\n",
       "      <td>0</td>\n",
       "      <td>17721</td>\n",
       "      <td>en</td>\n",
       "      <td>A road trip from Karachi to Lahore where 5 fri...</td>\n",
       "      <td>0.060003</td>\n",
       "      <td>31 07 2015</td>\n",
       "      <td>Released</td>\n",
       "      <td>...</td>\n",
       "      <td>I went to watch the movie after hearing that i...</td>\n",
       "      <td>Class 1</td>\n",
       "      <td>0.127806</td>\n",
       "      <td>['Family', 'Comedy']</td>\n",
       "      <td>[]</td>\n",
       "      <td>[]</td>\n",
       "      <td>['Pakistan']</td>\n",
       "      <td>['Shehzad Sheikh', 'Ayesha Omar', 'Yasir Hussa...</td>\n",
       "      <td>NaN</td>\n",
       "      <td>277.0</td>\n",
       "    </tr>\n",
       "    <tr>\n",
       "      <th>1422</th>\n",
       "      <td>66468</td>\n",
       "      <td>N-Secure</td>\n",
       "      <td>1600000</td>\n",
       "      <td>0</td>\n",
       "      <td>2592808</td>\n",
       "      <td>en</td>\n",
       "      <td>N-Secure is a no holds-barred thrilling drama ...</td>\n",
       "      <td>0.134560</td>\n",
       "      <td>15 10 2010</td>\n",
       "      <td>Released</td>\n",
       "      <td>...</td>\n",
       "      <td>This movie was almost a total waste of time if...</td>\n",
       "      <td>Class 2</td>\n",
       "      <td>0.061313</td>\n",
       "      <td>['Drama', 'Crime', 'Thriller']</td>\n",
       "      <td>[]</td>\n",
       "      <td>[]</td>\n",
       "      <td>[]</td>\n",
       "      <td>['Cordell Moore', 'Essence Atkins', 'Denise Bo...</td>\n",
       "      <td>David M. Matthews</td>\n",
       "      <td>-37.0</td>\n",
       "    </tr>\n",
       "  </tbody>\n",
       "</table>\n",
       "<p>6 rows × 38 columns</p>\n",
       "</div>"
      ],
      "text/plain": [
       "      movie_id      original_title   budget  runtime  revenue  \\\n",
       "402     281230          Fort McCoy  3000000        0    78948   \n",
       "411     346081           Sardaarji  2700000        0  8200000   \n",
       "426     371085           Sharkskin  2100000        0     4233   \n",
       "486     102840  Sex With Strangers  1100000        0   247740   \n",
       "513     357441   Karachi se Lahore  1000000        0    17721   \n",
       "1422     66468            N-Secure  1600000        0  2592808   \n",
       "\n",
       "     original_language                                           overview  \\\n",
       "402                 en  Unable to serve in World War II because of a h...   \n",
       "411                 en  A ghost hunter uses bottles to capture trouble...   \n",
       "426                 en  The Post War II story of Manhattan born Mike E...   \n",
       "486                 en  For some married couples, sex is an obsession ...   \n",
       "513                 en  A road trip from Karachi to Lahore where 5 fri...   \n",
       "1422                en  N-Secure is a no holds-barred thrilling drama ...   \n",
       "\n",
       "      popularity release_date    status  ...    \\\n",
       "402     0.384496    1 01 2014  Released  ...     \n",
       "411     0.296981   26 06 2015  Released  ...     \n",
       "426     0.027801    1 01 2015  Released  ...     \n",
       "486     0.014406   22 02 2002  Released  ...     \n",
       "513     0.060003   31 07 2015  Released  ...     \n",
       "1422    0.134560   15 10 2010  Released  ...     \n",
       "\n",
       "                                       combined_reviews  revenue_class  \\\n",
       "402   I walked in with zero expectations and ended u...        Class 1   \n",
       "411   I attended an advance screening of \"My Week Wi...        Class 2   \n",
       "426     Look  mob movies are basically period pieces...        Class 1   \n",
       "486   As a long-time aficionado of this and similar ...        Class 1   \n",
       "513   I went to watch the movie after hearing that i...        Class 1   \n",
       "1422  This movie was almost a total waste of time if...        Class 2   \n",
       "\n",
       "      polarity                          genres            keywords  \\\n",
       "402   0.104227     ['War', 'Drama', 'History']  ['woman director']   \n",
       "411   0.186064                              []                  []   \n",
       "426   0.035256                              []                  []   \n",
       "486   0.111336                 ['Documentary']                  []   \n",
       "513   0.127806            ['Family', 'Comedy']                  []   \n",
       "1422  0.061313  ['Drama', 'Crime', 'Thriller']                  []   \n",
       "\n",
       "     production_companies production_countries  \\\n",
       "402                    []                   []   \n",
       "411                    []            ['India']   \n",
       "426                    []                   []   \n",
       "486                    []                   []   \n",
       "513                    []         ['Pakistan']   \n",
       "1422                   []                   []   \n",
       "\n",
       "                                                   cast           director  \\\n",
       "402   ['Eric Stoltz', 'Kate Connor', 'Lyndsy Fonseca...      Michael Worth   \n",
       "411                                                  []       Rohit Jugraj   \n",
       "426                                                  []                NaN   \n",
       "486                                                  []                NaN   \n",
       "513   ['Shehzad Sheikh', 'Ayesha Omar', 'Yasir Hussa...                NaN   \n",
       "1422  ['Cordell Moore', 'Essence Atkins', 'Denise Bo...  David M. Matthews   \n",
       "\n",
       "      afinn  \n",
       "402    85.0  \n",
       "411   436.0  \n",
       "426    -2.0  \n",
       "486    90.0  \n",
       "513   277.0  \n",
       "1422  -37.0  \n",
       "\n",
       "[6 rows x 38 columns]"
      ]
     },
     "execution_count": 15,
     "metadata": {},
     "output_type": "execute_result"
    }
   ],
   "source": [
    "# check the rows with runtime = 0 -> 6 rows (402, 411, 426, 486, 513, 1422)\n",
    "dataset.loc[dataset.runtime == 0, :]"
   ]
  },
  {
   "cell_type": "code",
   "execution_count": 16,
   "metadata": {},
   "outputs": [
    {
     "data": {
      "text/plain": [
       "1912"
      ]
     },
     "execution_count": 16,
     "metadata": {},
     "output_type": "execute_result"
    }
   ],
   "source": [
    "# distribution of director_name \n",
    "#dataset.director_name.value_counts().sort_index()\n",
    "dataset.director_name.nunique() "
   ]
  },
  {
   "cell_type": "code",
   "execution_count": 17,
   "metadata": {},
   "outputs": [
    {
     "data": {
      "text/plain": [
       "994"
      ]
     },
     "execution_count": 17,
     "metadata": {},
     "output_type": "execute_result"
    }
   ],
   "source": [
    "# distribution of production_companies_1_name \n",
    "#dataset.director_name.value_counts().sort_index()\n",
    "dataset.production_companies_1_name.nunique() "
   ]
  },
  {
   "cell_type": "code",
   "execution_count": 18,
   "metadata": {},
   "outputs": [
    {
     "data": {
      "text/plain": [
       "53"
      ]
     },
     "execution_count": 18,
     "metadata": {},
     "output_type": "execute_result"
    }
   ],
   "source": [
    "# distribution of production_country_name \n",
    "dataset.production_country_name.nunique() "
   ]
  },
  {
   "cell_type": "code",
   "execution_count": null,
   "metadata": {
    "collapsed": true
   },
   "outputs": [],
   "source": [
    "# rename several columns by using the 'rename' method\n",
    "dataset.rename(columns={'genres_1_name':'genre', 'production_companies_1_name':'production_co', 'production_country_name':'prod_country'}, inplace=True)\n",
    "dataset.columns"
   ]
  },
  {
   "cell_type": "markdown",
   "metadata": {},
   "source": [
    "# 2. Feature Engineering"
   ]
  },
  {
   "cell_type": "code",
   "execution_count": 19,
   "metadata": {
    "collapsed": true
   },
   "outputs": [],
   "source": [
    "# since both budget and revenue distribution are highly skewed, take log\n",
    "dataset['revenue_log'] = np.log(dataset['revenue'])\n",
    "dataset['budget_log'] = np.log(dataset['budget'])"
   ]
  },
  {
   "cell_type": "code",
   "execution_count": 20,
   "metadata": {
    "collapsed": true
   },
   "outputs": [],
   "source": [
    "# classify revenue class into 3 level categorical variable\n",
    "dataset['gross_level'] = dataset['revenue'].apply(lambda value: ('low' if value < 20000000 else 'medium') if value <= 100000000 else 'high')\n",
    "dataset['gross_level'] = pd.Categorical(dataset['gross_level'], categories=['low', 'medium', 'high'])"
   ]
  },
  {
   "cell_type": "code",
   "execution_count": 21,
   "metadata": {},
   "outputs": [
    {
     "data": {
      "text/plain": [
       "low       1633\n",
       "medium    1400\n",
       "high      1124\n",
       "Name: gross_level, dtype: int64"
      ]
     },
     "execution_count": 21,
     "metadata": {},
     "output_type": "execute_result"
    }
   ],
   "source": [
    "# check distribution of gross_level\n",
    "dataset.gross_level.value_counts()"
   ]
  },
  {
   "cell_type": "code",
   "execution_count": null,
   "metadata": {
    "collapsed": true
   },
   "outputs": [],
   "source": [
    "# replace all spaces with underscores in the director column by using the 'str.replace' method\n",
    "dataset.director = dataset.director.str.replace(' ', '_')\n",
    "#dataset.director"
   ]
  },
  {
   "cell_type": "code",
   "execution_count": null,
   "metadata": {
    "collapsed": true
   },
   "outputs": [],
   "source": [
    "# replace all spaces with underscores in the production company column by using the 'str.replace' method\n",
    "dataset.production_co = dataset.production_co.str.replace(' ', '_')"
   ]
  },
  {
   "cell_type": "code",
   "execution_count": null,
   "metadata": {
    "collapsed": true
   },
   "outputs": [],
   "source": [
    "# one-hot encoding to transform all categorical variables to numerical variables\n",
    "cat_vars=['genre','director','production_co', 'prod_country']\n",
    "for var in cat_vars:\n",
    "    cat_list='var'+'_'+var\n",
    "    cat_list = pd.get_dummies(dataset[var], prefix=var)\n",
    "    train_dummy = dataset.join(cat_list)\n",
    "    dataset = train_dummy\n",
    "    \n",
    "train_vars = dataset.columns.values.tolist()\n",
    "train_keep = [i for i in train_vars if i not in cat_vars]\n",
    "dataset = dataset[train_keep]"
   ]
  },
  {
   "cell_type": "code",
   "execution_count": 22,
   "metadata": {
    "collapsed": true
   },
   "outputs": [],
   "source": [
    "dataset['reviews_len'] = dataset.combined_reviews.astype(list).apply(len)"
   ]
  },
  {
   "cell_type": "markdown",
   "metadata": {},
   "source": [
    "## Descriptive statistics"
   ]
  },
  {
   "cell_type": "code",
   "execution_count": 27,
   "metadata": {},
   "outputs": [
    {
     "data": {
      "text/html": [
       "<div>\n",
       "<style>\n",
       "    .dataframe thead tr:only-child th {\n",
       "        text-align: right;\n",
       "    }\n",
       "\n",
       "    .dataframe thead th {\n",
       "        text-align: left;\n",
       "    }\n",
       "\n",
       "    .dataframe tbody tr th {\n",
       "        vertical-align: top;\n",
       "    }\n",
       "</style>\n",
       "<table border=\"1\" class=\"dataframe\">\n",
       "  <thead>\n",
       "    <tr style=\"text-align: right;\">\n",
       "      <th></th>\n",
       "      <th>movie_id</th>\n",
       "      <th>budget</th>\n",
       "      <th>runtime</th>\n",
       "      <th>revenue</th>\n",
       "      <th>popularity</th>\n",
       "      <th>vote_average</th>\n",
       "      <th>vote_count</th>\n",
       "      <th>polarity</th>\n",
       "      <th>afinn</th>\n",
       "      <th>revenue_log</th>\n",
       "      <th>...</th>\n",
       "      <th>genre_History</th>\n",
       "      <th>genre_Horror</th>\n",
       "      <th>genre_Music</th>\n",
       "      <th>genre_Mystery</th>\n",
       "      <th>genre_Romance</th>\n",
       "      <th>genre_Science Fiction</th>\n",
       "      <th>genre_TV Movie</th>\n",
       "      <th>genre_Thriller</th>\n",
       "      <th>genre_War</th>\n",
       "      <th>genre_Western</th>\n",
       "    </tr>\n",
       "  </thead>\n",
       "  <tbody>\n",
       "    <tr>\n",
       "      <th>count</th>\n",
       "      <td>4157.00</td>\n",
       "      <td>4.157000e+03</td>\n",
       "      <td>4157.00</td>\n",
       "      <td>4.157000e+03</td>\n",
       "      <td>4157.00</td>\n",
       "      <td>4157.00</td>\n",
       "      <td>4157.00</td>\n",
       "      <td>4157.00</td>\n",
       "      <td>4157.00</td>\n",
       "      <td>4157.00</td>\n",
       "      <td>...</td>\n",
       "      <td>4157.00</td>\n",
       "      <td>4157.00</td>\n",
       "      <td>4157.00</td>\n",
       "      <td>4157.00</td>\n",
       "      <td>4157.00</td>\n",
       "      <td>4157.00</td>\n",
       "      <td>4157.00</td>\n",
       "      <td>4157.00</td>\n",
       "      <td>4157.00</td>\n",
       "      <td>4157.00</td>\n",
       "    </tr>\n",
       "    <tr>\n",
       "      <th>mean</th>\n",
       "      <td>47647.27</td>\n",
       "      <td>3.458008e+07</td>\n",
       "      <td>108.07</td>\n",
       "      <td>9.683178e+07</td>\n",
       "      <td>23.58</td>\n",
       "      <td>6.17</td>\n",
       "      <td>769.32</td>\n",
       "      <td>0.13</td>\n",
       "      <td>377.25</td>\n",
       "      <td>16.84</td>\n",
       "      <td>...</td>\n",
       "      <td>0.01</td>\n",
       "      <td>0.06</td>\n",
       "      <td>0.01</td>\n",
       "      <td>0.01</td>\n",
       "      <td>0.02</td>\n",
       "      <td>0.02</td>\n",
       "      <td>0.00</td>\n",
       "      <td>0.04</td>\n",
       "      <td>0.01</td>\n",
       "      <td>0.01</td>\n",
       "    </tr>\n",
       "    <tr>\n",
       "      <th>std</th>\n",
       "      <td>77056.11</td>\n",
       "      <td>4.140284e+07</td>\n",
       "      <td>20.84</td>\n",
       "      <td>1.700102e+08</td>\n",
       "      <td>33.34</td>\n",
       "      <td>1.00</td>\n",
       "      <td>1295.42</td>\n",
       "      <td>0.06</td>\n",
       "      <td>306.64</td>\n",
       "      <td>2.48</td>\n",
       "      <td>...</td>\n",
       "      <td>0.07</td>\n",
       "      <td>0.24</td>\n",
       "      <td>0.08</td>\n",
       "      <td>0.09</td>\n",
       "      <td>0.15</td>\n",
       "      <td>0.14</td>\n",
       "      <td>0.02</td>\n",
       "      <td>0.18</td>\n",
       "      <td>0.07</td>\n",
       "      <td>0.07</td>\n",
       "    </tr>\n",
       "    <tr>\n",
       "      <th>min</th>\n",
       "      <td>5.00</td>\n",
       "      <td>1.000000e+00</td>\n",
       "      <td>0.00</td>\n",
       "      <td>4.230000e+02</td>\n",
       "      <td>0.00</td>\n",
       "      <td>0.00</td>\n",
       "      <td>0.00</td>\n",
       "      <td>-0.08</td>\n",
       "      <td>-1230.00</td>\n",
       "      <td>6.05</td>\n",
       "      <td>...</td>\n",
       "      <td>0.00</td>\n",
       "      <td>0.00</td>\n",
       "      <td>0.00</td>\n",
       "      <td>0.00</td>\n",
       "      <td>0.00</td>\n",
       "      <td>0.00</td>\n",
       "      <td>0.00</td>\n",
       "      <td>0.00</td>\n",
       "      <td>0.00</td>\n",
       "      <td>0.00</td>\n",
       "    </tr>\n",
       "    <tr>\n",
       "      <th>25%</th>\n",
       "      <td>8617.00</td>\n",
       "      <td>7.000000e+06</td>\n",
       "      <td>95.00</td>\n",
       "      <td>7.808524e+06</td>\n",
       "      <td>6.13</td>\n",
       "      <td>5.60</td>\n",
       "      <td>77.00</td>\n",
       "      <td>0.10</td>\n",
       "      <td>167.00</td>\n",
       "      <td>15.87</td>\n",
       "      <td>...</td>\n",
       "      <td>0.00</td>\n",
       "      <td>0.00</td>\n",
       "      <td>0.00</td>\n",
       "      <td>0.00</td>\n",
       "      <td>0.00</td>\n",
       "      <td>0.00</td>\n",
       "      <td>0.00</td>\n",
       "      <td>0.00</td>\n",
       "      <td>0.00</td>\n",
       "      <td>0.00</td>\n",
       "    </tr>\n",
       "    <tr>\n",
       "      <th>50%</th>\n",
       "      <td>13374.00</td>\n",
       "      <td>2.000000e+07</td>\n",
       "      <td>104.00</td>\n",
       "      <td>3.480840e+07</td>\n",
       "      <td>14.96</td>\n",
       "      <td>6.20</td>\n",
       "      <td>293.00</td>\n",
       "      <td>0.14</td>\n",
       "      <td>370.00</td>\n",
       "      <td>17.37</td>\n",
       "      <td>...</td>\n",
       "      <td>0.00</td>\n",
       "      <td>0.00</td>\n",
       "      <td>0.00</td>\n",
       "      <td>0.00</td>\n",
       "      <td>0.00</td>\n",
       "      <td>0.00</td>\n",
       "      <td>0.00</td>\n",
       "      <td>0.00</td>\n",
       "      <td>0.00</td>\n",
       "      <td>0.00</td>\n",
       "    </tr>\n",
       "    <tr>\n",
       "      <th>75%</th>\n",
       "      <td>46829.00</td>\n",
       "      <td>4.500000e+07</td>\n",
       "      <td>118.00</td>\n",
       "      <td>1.095023e+08</td>\n",
       "      <td>30.91</td>\n",
       "      <td>6.80</td>\n",
       "      <td>852.00</td>\n",
       "      <td>0.17</td>\n",
       "      <td>569.00</td>\n",
       "      <td>18.51</td>\n",
       "      <td>...</td>\n",
       "      <td>0.00</td>\n",
       "      <td>0.00</td>\n",
       "      <td>0.00</td>\n",
       "      <td>0.00</td>\n",
       "      <td>0.00</td>\n",
       "      <td>0.00</td>\n",
       "      <td>0.00</td>\n",
       "      <td>0.00</td>\n",
       "      <td>0.00</td>\n",
       "      <td>0.00</td>\n",
       "    </tr>\n",
       "    <tr>\n",
       "      <th>max</th>\n",
       "      <td>426469.00</td>\n",
       "      <td>3.800000e+08</td>\n",
       "      <td>338.00</td>\n",
       "      <td>2.787965e+09</td>\n",
       "      <td>875.58</td>\n",
       "      <td>10.00</td>\n",
       "      <td>13752.00</td>\n",
       "      <td>0.37</td>\n",
       "      <td>1614.00</td>\n",
       "      <td>21.75</td>\n",
       "      <td>...</td>\n",
       "      <td>1.00</td>\n",
       "      <td>1.00</td>\n",
       "      <td>1.00</td>\n",
       "      <td>1.00</td>\n",
       "      <td>1.00</td>\n",
       "      <td>1.00</td>\n",
       "      <td>1.00</td>\n",
       "      <td>1.00</td>\n",
       "      <td>1.00</td>\n",
       "      <td>1.00</td>\n",
       "    </tr>\n",
       "  </tbody>\n",
       "</table>\n",
       "<p>8 rows × 32 columns</p>\n",
       "</div>"
      ],
      "text/plain": [
       "        movie_id        budget  runtime       revenue  popularity  \\\n",
       "count    4157.00  4.157000e+03  4157.00  4.157000e+03     4157.00   \n",
       "mean    47647.27  3.458008e+07   108.07  9.683178e+07       23.58   \n",
       "std     77056.11  4.140284e+07    20.84  1.700102e+08       33.34   \n",
       "min         5.00  1.000000e+00     0.00  4.230000e+02        0.00   \n",
       "25%      8617.00  7.000000e+06    95.00  7.808524e+06        6.13   \n",
       "50%     13374.00  2.000000e+07   104.00  3.480840e+07       14.96   \n",
       "75%     46829.00  4.500000e+07   118.00  1.095023e+08       30.91   \n",
       "max    426469.00  3.800000e+08   338.00  2.787965e+09      875.58   \n",
       "\n",
       "       vote_average  vote_count  polarity    afinn  revenue_log  \\\n",
       "count       4157.00     4157.00   4157.00  4157.00      4157.00   \n",
       "mean           6.17      769.32      0.13   377.25        16.84   \n",
       "std            1.00     1295.42      0.06   306.64         2.48   \n",
       "min            0.00        0.00     -0.08 -1230.00         6.05   \n",
       "25%            5.60       77.00      0.10   167.00        15.87   \n",
       "50%            6.20      293.00      0.14   370.00        17.37   \n",
       "75%            6.80      852.00      0.17   569.00        18.51   \n",
       "max           10.00    13752.00      0.37  1614.00        21.75   \n",
       "\n",
       "           ...        genre_History  genre_Horror  genre_Music  genre_Mystery  \\\n",
       "count      ...              4157.00       4157.00      4157.00        4157.00   \n",
       "mean       ...                 0.01          0.06         0.01           0.01   \n",
       "std        ...                 0.07          0.24         0.08           0.09   \n",
       "min        ...                 0.00          0.00         0.00           0.00   \n",
       "25%        ...                 0.00          0.00         0.00           0.00   \n",
       "50%        ...                 0.00          0.00         0.00           0.00   \n",
       "75%        ...                 0.00          0.00         0.00           0.00   \n",
       "max        ...                 1.00          1.00         1.00           1.00   \n",
       "\n",
       "       genre_Romance  genre_Science Fiction  genre_TV Movie  genre_Thriller  \\\n",
       "count        4157.00                4157.00         4157.00         4157.00   \n",
       "mean            0.02                   0.02            0.00            0.04   \n",
       "std             0.15                   0.14            0.02            0.18   \n",
       "min             0.00                   0.00            0.00            0.00   \n",
       "25%             0.00                   0.00            0.00            0.00   \n",
       "50%             0.00                   0.00            0.00            0.00   \n",
       "75%             0.00                   0.00            0.00            0.00   \n",
       "max             1.00                   1.00            1.00            1.00   \n",
       "\n",
       "       genre_War  genre_Western  \n",
       "count    4157.00        4157.00  \n",
       "mean        0.01           0.01  \n",
       "std         0.07           0.07  \n",
       "min         0.00           0.00  \n",
       "25%         0.00           0.00  \n",
       "50%         0.00           0.00  \n",
       "75%         0.00           0.00  \n",
       "max         1.00           1.00  \n",
       "\n",
       "[8 rows x 32 columns]"
      ]
     },
     "execution_count": 27,
     "metadata": {},
     "output_type": "execute_result"
    }
   ],
   "source": [
    "round(dataset.describe(), 2)"
   ]
  },
  {
   "cell_type": "code",
   "execution_count": 28,
   "metadata": {},
   "outputs": [
    {
     "name": "stdout",
     "output_type": "stream",
     "text": [
      "<class 'pandas.core.frame.DataFrame'>\n",
      "Int64Index: 4157 entries, 0 to 4361\n",
      "Data columns (total 62 columns):\n",
      "movie_id                       4157 non-null int64\n",
      "original_title                 4157 non-null object\n",
      "budget                         4157 non-null int64\n",
      "runtime                        4157 non-null int64\n",
      "revenue                        4157 non-null int64\n",
      "original_language              4157 non-null object\n",
      "overview                       4157 non-null object\n",
      "popularity                     4157 non-null float64\n",
      "release_date                   4157 non-null object\n",
      "status                         4157 non-null object\n",
      "tagline                        3593 non-null object\n",
      "vote_average                   4157 non-null float64\n",
      "vote_count                     4157 non-null int64\n",
      "genres_1_name                  4157 non-null object\n",
      "genres_2_name                  3402 non-null object\n",
      "keywords_1_name                3903 non-null object\n",
      "keywords_2_name                3684 non-null object\n",
      "keywords_3_name                3454 non-null object\n",
      "keywords_4_name                3168 non-null object\n",
      "keywords_5_name                2827 non-null object\n",
      "production_companies_1_name    3935 non-null object\n",
      "production_companies_2_name    3048 non-null object\n",
      "production_country_name        4047 non-null object\n",
      "director_name                  4144 non-null object\n",
      "music_composer_name            2557 non-null object\n",
      "actor_1_name                   4135 non-null object\n",
      "actor_2_name                   4129 non-null object\n",
      "actor_3_name                   4123 non-null object\n",
      "combined_reviews               4157 non-null object\n",
      "revenue_class                  4157 non-null object\n",
      "polarity                       4157 non-null float64\n",
      "genres                         4157 non-null object\n",
      "keywords                       4157 non-null object\n",
      "production_companies           4157 non-null object\n",
      "production_countries           4157 non-null object\n",
      "cast                           4157 non-null object\n",
      "director                       4144 non-null object\n",
      "afinn                          4157 non-null float64\n",
      "revenue_log                    4157 non-null float64\n",
      "budget_log                     4157 non-null float64\n",
      "gross_level                    4157 non-null category\n",
      "reviews_len                    4157 non-null int64\n",
      "genre_Action                   4157 non-null uint8\n",
      "genre_Adventure                4157 non-null uint8\n",
      "genre_Animation                4157 non-null uint8\n",
      "genre_Comedy                   4157 non-null uint8\n",
      "genre_Crime                    4157 non-null uint8\n",
      "genre_Documentary              4157 non-null uint8\n",
      "genre_Drama                    4157 non-null uint8\n",
      "genre_Family                   4157 non-null uint8\n",
      "genre_Fantasy                  4157 non-null uint8\n",
      "genre_Foreign                  4157 non-null uint8\n",
      "genre_History                  4157 non-null uint8\n",
      "genre_Horror                   4157 non-null uint8\n",
      "genre_Music                    4157 non-null uint8\n",
      "genre_Mystery                  4157 non-null uint8\n",
      "genre_Romance                  4157 non-null uint8\n",
      "genre_Science Fiction          4157 non-null uint8\n",
      "genre_TV Movie                 4157 non-null uint8\n",
      "genre_Thriller                 4157 non-null uint8\n",
      "genre_War                      4157 non-null uint8\n",
      "genre_Western                  4157 non-null uint8\n",
      "dtypes: category(1), float64(6), int64(6), object(29), uint8(20)\n",
      "memory usage: 1.6+ MB\n"
     ]
    }
   ],
   "source": [
    "dataset.info()"
   ]
  },
  {
   "cell_type": "code",
   "execution_count": 29,
   "metadata": {},
   "outputs": [
    {
     "data": {
      "text/html": [
       "<div>\n",
       "<style>\n",
       "    .dataframe thead tr:only-child th {\n",
       "        text-align: right;\n",
       "    }\n",
       "\n",
       "    .dataframe thead th {\n",
       "        text-align: left;\n",
       "    }\n",
       "\n",
       "    .dataframe tbody tr th {\n",
       "        vertical-align: top;\n",
       "    }\n",
       "</style>\n",
       "<table border=\"1\" class=\"dataframe\">\n",
       "  <thead>\n",
       "    <tr style=\"text-align: right;\">\n",
       "      <th></th>\n",
       "      <th>popularity</th>\n",
       "      <th>vote_average</th>\n",
       "      <th>vote_count</th>\n",
       "      <th>polarity</th>\n",
       "      <th>runtime</th>\n",
       "      <th>budget_log</th>\n",
       "      <th>budget</th>\n",
       "      <th>afinn</th>\n",
       "      <th>reviews_len</th>\n",
       "      <th>revenue</th>\n",
       "    </tr>\n",
       "  </thead>\n",
       "  <tbody>\n",
       "    <tr>\n",
       "      <th>count</th>\n",
       "      <td>4157.00</td>\n",
       "      <td>4157.00</td>\n",
       "      <td>4157.00</td>\n",
       "      <td>4157.00</td>\n",
       "      <td>4157.00</td>\n",
       "      <td>4157.00</td>\n",
       "      <td>4.157000e+03</td>\n",
       "      <td>4157.00</td>\n",
       "      <td>4157.00</td>\n",
       "      <td>4.157000e+03</td>\n",
       "    </tr>\n",
       "    <tr>\n",
       "      <th>mean</th>\n",
       "      <td>23.58</td>\n",
       "      <td>6.17</td>\n",
       "      <td>769.32</td>\n",
       "      <td>0.13</td>\n",
       "      <td>108.07</td>\n",
       "      <td>16.53</td>\n",
       "      <td>3.458008e+07</td>\n",
       "      <td>377.25</td>\n",
       "      <td>46849.44</td>\n",
       "      <td>9.683178e+07</td>\n",
       "    </tr>\n",
       "    <tr>\n",
       "      <th>std</th>\n",
       "      <td>33.34</td>\n",
       "      <td>1.00</td>\n",
       "      <td>1295.42</td>\n",
       "      <td>0.06</td>\n",
       "      <td>20.84</td>\n",
       "      <td>1.64</td>\n",
       "      <td>4.140284e+07</td>\n",
       "      <td>306.64</td>\n",
       "      <td>15166.48</td>\n",
       "      <td>1.700102e+08</td>\n",
       "    </tr>\n",
       "    <tr>\n",
       "      <th>min</th>\n",
       "      <td>0.00</td>\n",
       "      <td>0.00</td>\n",
       "      <td>0.00</td>\n",
       "      <td>-0.08</td>\n",
       "      <td>0.00</td>\n",
       "      <td>0.00</td>\n",
       "      <td>1.000000e+00</td>\n",
       "      <td>-1230.00</td>\n",
       "      <td>305.00</td>\n",
       "      <td>4.230000e+02</td>\n",
       "    </tr>\n",
       "    <tr>\n",
       "      <th>25%</th>\n",
       "      <td>6.13</td>\n",
       "      <td>5.60</td>\n",
       "      <td>77.00</td>\n",
       "      <td>0.10</td>\n",
       "      <td>95.00</td>\n",
       "      <td>15.76</td>\n",
       "      <td>7.000000e+06</td>\n",
       "      <td>167.00</td>\n",
       "      <td>37152.00</td>\n",
       "      <td>7.808524e+06</td>\n",
       "    </tr>\n",
       "    <tr>\n",
       "      <th>50%</th>\n",
       "      <td>14.96</td>\n",
       "      <td>6.20</td>\n",
       "      <td>293.00</td>\n",
       "      <td>0.14</td>\n",
       "      <td>104.00</td>\n",
       "      <td>16.81</td>\n",
       "      <td>2.000000e+07</td>\n",
       "      <td>370.00</td>\n",
       "      <td>46334.00</td>\n",
       "      <td>3.480840e+07</td>\n",
       "    </tr>\n",
       "    <tr>\n",
       "      <th>75%</th>\n",
       "      <td>30.91</td>\n",
       "      <td>6.80</td>\n",
       "      <td>852.00</td>\n",
       "      <td>0.17</td>\n",
       "      <td>118.00</td>\n",
       "      <td>17.62</td>\n",
       "      <td>4.500000e+07</td>\n",
       "      <td>569.00</td>\n",
       "      <td>56228.00</td>\n",
       "      <td>1.095023e+08</td>\n",
       "    </tr>\n",
       "    <tr>\n",
       "      <th>max</th>\n",
       "      <td>875.58</td>\n",
       "      <td>10.00</td>\n",
       "      <td>13752.00</td>\n",
       "      <td>0.37</td>\n",
       "      <td>338.00</td>\n",
       "      <td>19.76</td>\n",
       "      <td>3.800000e+08</td>\n",
       "      <td>1614.00</td>\n",
       "      <td>107020.00</td>\n",
       "      <td>2.787965e+09</td>\n",
       "    </tr>\n",
       "  </tbody>\n",
       "</table>\n",
       "</div>"
      ],
      "text/plain": [
       "       popularity  vote_average  vote_count  polarity  runtime  budget_log  \\\n",
       "count     4157.00       4157.00     4157.00   4157.00  4157.00     4157.00   \n",
       "mean        23.58          6.17      769.32      0.13   108.07       16.53   \n",
       "std         33.34          1.00     1295.42      0.06    20.84        1.64   \n",
       "min          0.00          0.00        0.00     -0.08     0.00        0.00   \n",
       "25%          6.13          5.60       77.00      0.10    95.00       15.76   \n",
       "50%         14.96          6.20      293.00      0.14   104.00       16.81   \n",
       "75%         30.91          6.80      852.00      0.17   118.00       17.62   \n",
       "max        875.58         10.00    13752.00      0.37   338.00       19.76   \n",
       "\n",
       "             budget    afinn  reviews_len       revenue  \n",
       "count  4.157000e+03  4157.00      4157.00  4.157000e+03  \n",
       "mean   3.458008e+07   377.25     46849.44  9.683178e+07  \n",
       "std    4.140284e+07   306.64     15166.48  1.700102e+08  \n",
       "min    1.000000e+00 -1230.00       305.00  4.230000e+02  \n",
       "25%    7.000000e+06   167.00     37152.00  7.808524e+06  \n",
       "50%    2.000000e+07   370.00     46334.00  3.480840e+07  \n",
       "75%    4.500000e+07   569.00     56228.00  1.095023e+08  \n",
       "max    3.800000e+08  1614.00    107020.00  2.787965e+09  "
      ]
     },
     "execution_count": 29,
     "metadata": {},
     "output_type": "execute_result"
    }
   ],
   "source": [
    "# descriptive statistics on numerical variables\n",
    "#cols = ['budget', 'runtime', 'popularity', 'vote_average', 'vote_count', 'polarity', 'revenue', 'budget_log', 'revenue_log']\n",
    "cols = ['popularity', 'vote_average', 'vote_count', 'polarity', 'runtime', 'budget_log', 'budget', 'afinn', 'reviews_len', 'revenue']\n",
    "round(dataset[cols].describe(), 2)"
   ]
  },
  {
   "cell_type": "code",
   "execution_count": 30,
   "metadata": {},
   "outputs": [
    {
     "data": {
      "image/png": "[encoded data removed]",
      "text/plain": [
       "<matplotlib.figure.Figure at 0x1e2b2456828>"
      ]
     },
     "metadata": {},
     "output_type": "display_data"
    }
   ],
   "source": [
    "# pair-wise scatter plots with fitted linear regression model\n",
    "pp = sns.pairplot(dataset[cols], \n",
    "                  diag_kind=\"kde\", diag_kws=dict(shade=True),\n",
    "                  kind=\"reg\") # <-- Fit linear regression models to the scatter plots\n",
    "fig = pp.fig \n",
    "fig.subplots_adjust(top=0.93, wspace=0.3)\n",
    "t = fig.suptitle('Numerical Attributes Pairwise Plots', fontsize=14, fontweight='bold')"
   ]
  },
  {
   "cell_type": "code",
   "execution_count": 31,
   "metadata": {},
   "outputs": [
    {
     "data": {
      "text/html": [
       "<div>\n",
       "<style>\n",
       "    .dataframe thead tr:only-child th {\n",
       "        text-align: right;\n",
       "    }\n",
       "\n",
       "    .dataframe thead th {\n",
       "        text-align: left;\n",
       "    }\n",
       "\n",
       "    .dataframe tbody tr th {\n",
       "        vertical-align: top;\n",
       "    }\n",
       "</style>\n",
       "<table border=\"1\" class=\"dataframe\">\n",
       "  <thead>\n",
       "    <tr style=\"text-align: right;\">\n",
       "      <th></th>\n",
       "      <th>popularity</th>\n",
       "      <th>vote_average</th>\n",
       "      <th>vote_count</th>\n",
       "      <th>polarity</th>\n",
       "      <th>runtime</th>\n",
       "      <th>budget_log</th>\n",
       "      <th>budget</th>\n",
       "      <th>afinn</th>\n",
       "      <th>reviews_len</th>\n",
       "      <th>revenue</th>\n",
       "    </tr>\n",
       "  </thead>\n",
       "  <tbody>\n",
       "    <tr>\n",
       "      <th>popularity</th>\n",
       "      <td>1.000000</td>\n",
       "      <td>0.280705</td>\n",
       "      <td>0.768916</td>\n",
       "      <td>0.006299</td>\n",
       "      <td>0.218556</td>\n",
       "      <td>0.347930</td>\n",
       "      <td>0.477133</td>\n",
       "      <td>0.108773</td>\n",
       "      <td>0.269447</td>\n",
       "      <td>0.631946</td>\n",
       "    </tr>\n",
       "    <tr>\n",
       "      <th>vote_average</th>\n",
       "      <td>0.280705</td>\n",
       "      <td>1.000000</td>\n",
       "      <td>0.344668</td>\n",
       "      <td>0.379080</td>\n",
       "      <td>0.349880</td>\n",
       "      <td>0.029744</td>\n",
       "      <td>0.044397</td>\n",
       "      <td>0.317216</td>\n",
       "      <td>0.370411</td>\n",
       "      <td>0.203675</td>\n",
       "    </tr>\n",
       "    <tr>\n",
       "      <th>vote_count</th>\n",
       "      <td>0.768916</td>\n",
       "      <td>0.344668</td>\n",
       "      <td>1.000000</td>\n",
       "      <td>0.036106</td>\n",
       "      <td>0.280875</td>\n",
       "      <td>0.378352</td>\n",
       "      <td>0.571641</td>\n",
       "      <td>0.132621</td>\n",
       "      <td>0.317559</td>\n",
       "      <td>0.773155</td>\n",
       "    </tr>\n",
       "    <tr>\n",
       "      <th>polarity</th>\n",
       "      <td>0.006299</td>\n",
       "      <td>0.379080</td>\n",
       "      <td>0.036106</td>\n",
       "      <td>1.000000</td>\n",
       "      <td>0.142779</td>\n",
       "      <td>0.000810</td>\n",
       "      <td>-0.008829</td>\n",
       "      <td>0.742130</td>\n",
       "      <td>-0.039840</td>\n",
       "      <td>0.068067</td>\n",
       "    </tr>\n",
       "    <tr>\n",
       "      <th>runtime</th>\n",
       "      <td>0.218556</td>\n",
       "      <td>0.349880</td>\n",
       "      <td>0.280875</td>\n",
       "      <td>0.142779</td>\n",
       "      <td>1.000000</td>\n",
       "      <td>0.291114</td>\n",
       "      <td>0.271764</td>\n",
       "      <td>0.090885</td>\n",
       "      <td>0.328658</td>\n",
       "      <td>0.258850</td>\n",
       "    </tr>\n",
       "    <tr>\n",
       "      <th>budget_log</th>\n",
       "      <td>0.347930</td>\n",
       "      <td>0.029744</td>\n",
       "      <td>0.378352</td>\n",
       "      <td>0.000810</td>\n",
       "      <td>0.291114</td>\n",
       "      <td>1.000000</td>\n",
       "      <td>0.704671</td>\n",
       "      <td>0.121881</td>\n",
       "      <td>0.193319</td>\n",
       "      <td>0.460594</td>\n",
       "    </tr>\n",
       "    <tr>\n",
       "      <th>budget</th>\n",
       "      <td>0.477133</td>\n",
       "      <td>0.044397</td>\n",
       "      <td>0.571641</td>\n",
       "      <td>-0.008829</td>\n",
       "      <td>0.271764</td>\n",
       "      <td>0.704671</td>\n",
       "      <td>1.000000</td>\n",
       "      <td>0.106483</td>\n",
       "      <td>0.214289</td>\n",
       "      <td>0.719453</td>\n",
       "    </tr>\n",
       "    <tr>\n",
       "      <th>afinn</th>\n",
       "      <td>0.108773</td>\n",
       "      <td>0.317216</td>\n",
       "      <td>0.132621</td>\n",
       "      <td>0.742130</td>\n",
       "      <td>0.090885</td>\n",
       "      <td>0.121881</td>\n",
       "      <td>0.106483</td>\n",
       "      <td>1.000000</td>\n",
       "      <td>0.210898</td>\n",
       "      <td>0.166264</td>\n",
       "    </tr>\n",
       "    <tr>\n",
       "      <th>reviews_len</th>\n",
       "      <td>0.269447</td>\n",
       "      <td>0.370411</td>\n",
       "      <td>0.317559</td>\n",
       "      <td>-0.039840</td>\n",
       "      <td>0.328658</td>\n",
       "      <td>0.193319</td>\n",
       "      <td>0.214289</td>\n",
       "      <td>0.210898</td>\n",
       "      <td>1.000000</td>\n",
       "      <td>0.244296</td>\n",
       "    </tr>\n",
       "    <tr>\n",
       "      <th>revenue</th>\n",
       "      <td>0.631946</td>\n",
       "      <td>0.203675</td>\n",
       "      <td>0.773155</td>\n",
       "      <td>0.068067</td>\n",
       "      <td>0.258850</td>\n",
       "      <td>0.460594</td>\n",
       "      <td>0.719453</td>\n",
       "      <td>0.166264</td>\n",
       "      <td>0.244296</td>\n",
       "      <td>1.000000</td>\n",
       "    </tr>\n",
       "  </tbody>\n",
       "</table>\n",
       "</div>"
      ],
      "text/plain": [
       "              popularity  vote_average  vote_count  polarity   runtime  \\\n",
       "popularity      1.000000      0.280705    0.768916  0.006299  0.218556   \n",
       "vote_average    0.280705      1.000000    0.344668  0.379080  0.349880   \n",
       "vote_count      0.768916      0.344668    1.000000  0.036106  0.280875   \n",
       "polarity        0.006299      0.379080    0.036106  1.000000  0.142779   \n",
       "runtime         0.218556      0.349880    0.280875  0.142779  1.000000   \n",
       "budget_log      0.347930      0.029744    0.378352  0.000810  0.291114   \n",
       "budget          0.477133      0.044397    0.571641 -0.008829  0.271764   \n",
       "afinn           0.108773      0.317216    0.132621  0.742130  0.090885   \n",
       "reviews_len     0.269447      0.370411    0.317559 -0.039840  0.328658   \n",
       "revenue         0.631946      0.203675    0.773155  0.068067  0.258850   \n",
       "\n",
       "              budget_log    budget     afinn  reviews_len   revenue  \n",
       "popularity      0.347930  0.477133  0.108773     0.269447  0.631946  \n",
       "vote_average    0.029744  0.044397  0.317216     0.370411  0.203675  \n",
       "vote_count      0.378352  0.571641  0.132621     0.317559  0.773155  \n",
       "polarity        0.000810 -0.008829  0.742130    -0.039840  0.068067  \n",
       "runtime         0.291114  0.271764  0.090885     0.328658  0.258850  \n",
       "budget_log      1.000000  0.704671  0.121881     0.193319  0.460594  \n",
       "budget          0.704671  1.000000  0.106483     0.214289  0.719453  \n",
       "afinn           0.121881  0.106483  1.000000     0.210898  0.166264  \n",
       "reviews_len     0.193319  0.214289  0.210898     1.000000  0.244296  \n",
       "revenue         0.460594  0.719453  0.166264     0.244296  1.000000  "
      ]
     },
     "execution_count": 31,
     "metadata": {},
     "output_type": "execute_result"
    }
   ],
   "source": [
    "# compute pairwise correlation of columns\n",
    "corr = dataset[cols].corr()\n",
    "corr"
   ]
  },
  {
   "cell_type": "code",
   "execution_count": 32,
   "metadata": {},
   "outputs": [
    {
     "data": {
      "image/png": "[encoded data removed]",
      "text/plain": [
       "<matplotlib.figure.Figure at 0x1e2c20d6c50>"
      ]
     },
     "metadata": {},
     "output_type": "display_data"
    }
   ],
   "source": [
    "# illustrate with heatmap\n",
    "fig, ax = plt.subplots(1,1, figsize=(10,6))\n",
    "\n",
    "hm = sns.heatmap(round(corr,2), \n",
    "                 ax=ax,           # Axes in which to draw the plot, otherwise use the currently-active Axes.\n",
    "                 cmap=\"coolwarm\", # Color Map.\n",
    "                 #square=True,    # If True, set the Axes aspect to “equal” so each cell will be square-shaped.\n",
    "                 annot=True, \n",
    "                 #annot_kws={\"size\": 14},\n",
    "                 fmt='.2f',       # String formatting code to use when adding annotations.\n",
    "                 linewidths=.05)\n",
    "\n",
    "# spacing super title with the map in fig's real estate\n",
    "fig.subplots_adjust(top=0.92)\n",
    "\n",
    "t = fig.suptitle('Numerical Attributes Correlation Heatmap', fontsize=12, fontweight='bold')"
   ]
  },
  {
   "cell_type": "code",
   "execution_count": 33,
   "metadata": {},
   "outputs": [
    {
     "data": {
      "text/plain": [
       "Text(0,0.5,'reviews length %')"
      ]
     },
     "execution_count": 33,
     "metadata": {},
     "output_type": "execute_result"
    },
    {
     "data": {
      "image/png": "[encoded data removed]",
      "text/plain": [
       "<matplotlib.figure.Figure at 0x1e2c38c5240>"
      ]
     },
     "metadata": {},
     "output_type": "display_data"
    }
   ],
   "source": [
    "# box plot of reviews length for each gross level\n",
    "#dataset.boxplot('reviews_len', by='gross_level')\n",
    "\n",
    "f, (ax) = plt.subplots(1, 1, figsize=(12, 4))\n",
    "f.suptitle('Reviews Length across Gross Level', fontsize=14)\n",
    "\n",
    "sns.boxplot(x=\"gross_level\", y=\"reviews_len\", data=dataset,  ax=ax)\n",
    "ax.set_xlabel(\"gross level\",size = 12,alpha=0.8)\n",
    "ax.set_ylabel(\"reviews length %\",size = 12,alpha=0.8)"
   ]
  },
  {
   "cell_type": "code",
   "execution_count": 143,
   "metadata": {},
   "outputs": [
    {
     "data": {
      "text/plain": [
       "Text(0,0.5,'afinn score')"
      ]
     },
     "execution_count": 143,
     "metadata": {},
     "output_type": "execute_result"
    },
    {
     "data": {
      "image/png": "[encoded data removed]",
      "text/plain": [
       "<matplotlib.figure.Figure at 0x1e2ca224358>"
      ]
     },
     "metadata": {},
     "output_type": "display_data"
    }
   ],
   "source": [
    "# box plot of afinn score for each revenue class\n",
    "\n",
    "f, (ax) = plt.subplots(1, 1, figsize=(12, 4))\n",
    "f.suptitle('Afinn Score for each revenue class', fontsize=14)\n",
    "\n",
    "box = sns.boxplot(x='revenue_class', y=\"afinn\", data=dataset, ax=ax, order=['Class 1', 'Class 2', 'Class 3', 'Class 4', 'Class 5', 'Class 6', 'Class 7', 'Class 8', 'Class 9'])\n",
    "ax.set_xlabel(\"gross class\",size = 12,alpha=0.8)\n",
    "ax.set_ylabel(\"afinn score\",size = 12,alpha=0.8)"
   ]
  },
  {
   "cell_type": "code",
   "execution_count": 34,
   "metadata": {},
   "outputs": [
    {
     "data": {
      "text/plain": [
       "Text(0,0.5,'gross level')"
      ]
     },
     "execution_count": 34,
     "metadata": {},
     "output_type": "execute_result"
    },
    {
     "data": {
      "image/png": "[encoded data removed]",
      "text/plain": [
       "<matplotlib.figure.Figure at 0x1e2b24d9cc0>"
      ]
     },
     "metadata": {},
     "output_type": "display_data"
    }
   ],
   "source": [
    "# genres distribution across gross_level\n",
    "pd.crosstab(dataset.genres_1_name, dataset.gross_level).plot(kind='bar', colormap='Spectral')\n",
    "plt.title('Gross Level by Movies Genres')\n",
    "plt.xlabel('genres')\n",
    "plt.ylabel('gross level')"
   ]
  },
  {
   "cell_type": "code",
   "execution_count": 35,
   "metadata": {},
   "outputs": [
    {
     "data": {
      "text/plain": [
       "array(['movie_id', 'original_title', 'budget', 'runtime', 'revenue',\n",
       "       'original_language', 'overview', 'popularity', 'release_date',\n",
       "       'status', 'tagline', 'vote_average', 'vote_count', 'genres_1_name',\n",
       "       'genres_2_name', 'keywords_1_name', 'keywords_2_name',\n",
       "       'keywords_3_name', 'keywords_4_name', 'keywords_5_name',\n",
       "       'production_companies_1_name', 'production_companies_2_name',\n",
       "       'production_country_name', 'director_name', 'music_composer_name',\n",
       "       'actor_1_name', 'actor_2_name', 'actor_3_name', 'combined_reviews',\n",
       "       'revenue_class', 'polarity', 'genres', 'keywords',\n",
       "       'production_companies', 'production_countries', 'cast', 'director',\n",
       "       'afinn', 'revenue_log', 'budget_log', 'gross_level', 'reviews_len',\n",
       "       'genre_Action', 'genre_Adventure', 'genre_Animation',\n",
       "       'genre_Comedy', 'genre_Crime', 'genre_Documentary', 'genre_Drama',\n",
       "       'genre_Family', 'genre_Fantasy', 'genre_Foreign', 'genre_History',\n",
       "       'genre_Horror', 'genre_Music', 'genre_Mystery', 'genre_Romance',\n",
       "       'genre_Science Fiction', 'genre_TV Movie', 'genre_Thriller',\n",
       "       'genre_War', 'genre_Western'], dtype=object)"
      ]
     },
     "execution_count": 35,
     "metadata": {},
     "output_type": "execute_result"
    }
   ],
   "source": [
    "# list all columns\n",
    "dataset.columns.values"
   ]
  },
  {
   "cell_type": "markdown",
   "metadata": {},
   "source": [
    "# 3. Model evaluation"
   ]
  },
  {
   "cell_type": "code",
   "execution_count": 38,
   "metadata": {
    "collapsed": true
   },
   "outputs": [],
   "source": [
    "from sklearn.model_selection import train_test_split"
   ]
  },
  {
   "cell_type": "code",
   "execution_count": 39,
   "metadata": {
    "collapsed": true
   },
   "outputs": [],
   "source": [
    "X = dataset.drop(['revenue_class'], axis=1, inplace=False)\n",
    "y = dataset['revenue_class'] # change with 'gross_level' for robustness\n",
    "X_train, X_new, y_train, y_new = train_test_split(X, y, stratify=y, test_size=0.2, random_state = 123)"
   ]
  },
  {
   "cell_type": "code",
   "execution_count": 40,
   "metadata": {},
   "outputs": [
    {
     "data": {
      "text/plain": [
       "Class 2    539\n",
       "Class 4    459\n",
       "Class 9    449\n",
       "Class 1    385\n",
       "Class 3    384\n",
       "Class 5    350\n",
       "Class 6    309\n",
       "Class 7    272\n",
       "Class 8    178\n",
       "Name: revenue_class, dtype: int64"
      ]
     },
     "execution_count": 40,
     "metadata": {},
     "output_type": "execute_result"
    }
   ],
   "source": [
    "y_train.value_counts()"
   ]
  },
  {
   "cell_type": "code",
   "execution_count": 41,
   "metadata": {},
   "outputs": [
    {
     "data": {
      "text/plain": [
       "Class 2    135\n",
       "Class 4    115\n",
       "Class 9    113\n",
       "Class 3     96\n",
       "Class 1     96\n",
       "Class 5     88\n",
       "Class 6     77\n",
       "Class 7     68\n",
       "Class 8     44\n",
       "Name: revenue_class, dtype: int64"
      ]
     },
     "execution_count": 41,
     "metadata": {},
     "output_type": "execute_result"
    }
   ],
   "source": [
    "y_new.value_counts()"
   ]
  },
  {
   "cell_type": "code",
   "execution_count": 42,
   "metadata": {},
   "outputs": [
    {
     "name": "stdout",
     "output_type": "stream",
     "text": [
      "(3325, 31)\n",
      "(832, 31)\n",
      "(3325,)\n",
      "(832,)\n"
     ]
    }
   ],
   "source": [
    "print(X_train.shape)\n",
    "print(X_new.shape)\n",
    "print(y_train.shape)\n",
    "print(y_new.shape)"
   ]
  },
  {
   "cell_type": "markdown",
   "metadata": {},
   "source": [
    "### Extracting features from text using `CountVectorizer`"
   ]
  },
  {
   "cell_type": "code",
   "execution_count": 43,
   "metadata": {},
   "outputs": [
    {
     "data": {
      "text/plain": [
       "1134    There is nothing in \"The Peacemaker\" that is n...\n",
       "2015    I've seen countless teeny bopper comedies the ...\n",
       "1069    Michael Caine gives one of his greatest perfor...\n",
       "Name: combined_reviews, dtype: object"
      ]
     },
     "execution_count": 43,
     "metadata": {},
     "output_type": "execute_result"
    }
   ],
   "source": [
    "# define X_text\n",
    "X_text = X_train.combined_reviews\n",
    "X_text.head(3)"
   ]
  },
  {
   "cell_type": "code",
   "execution_count": 44,
   "metadata": {},
   "outputs": [
    {
     "data": {
      "text/plain": [
       "CountVectorizer(analyzer='word', binary=False, decode_error='strict',\n",
       "        dtype=<class 'numpy.int64'>, encoding='utf-8', input='content',\n",
       "        lowercase=True, max_df=1.0, max_features=None, min_df=1,\n",
       "        ngram_range=(1, 1), preprocessor=None, stop_words=None,\n",
       "        strip_accents=None, token_pattern='(?u)\\\\b\\\\w\\\\w+\\\\b',\n",
       "        tokenizer=None, vocabulary=None)"
      ]
     },
     "execution_count": 44,
     "metadata": {},
     "output_type": "execute_result"
    }
   ],
   "source": [
    "# import and instantiate CountVectorizer (with default parameters)\n",
    "from sklearn.feature_extraction.text import CountVectorizer\n",
    "vect = CountVectorizer()\n",
    "vect"
   ]
  },
  {
   "cell_type": "code",
   "execution_count": 45,
   "metadata": {
    "collapsed": true
   },
   "outputs": [],
   "source": [
    "# import and instantiate Multinomial Naive Bayes\n",
    "from sklearn.naive_bayes import MultinomialNB\n",
    "nb = MultinomialNB()"
   ]
  },
  {
   "cell_type": "code",
   "execution_count": 46,
   "metadata": {
    "collapsed": true
   },
   "outputs": [],
   "source": [
    "# import and instantiate Logistic Regression\n",
    "from sklearn.linear_model import LogisticRegression\n",
    "lg = LogisticRegression()"
   ]
  },
  {
   "cell_type": "code",
   "execution_count": 47,
   "metadata": {
    "collapsed": true
   },
   "outputs": [],
   "source": [
    "# import and instantiate Random Forest\n",
    "from sklearn.ensemble import RandomForestClassifier\n",
    "rf = RandomForestClassifier(random_state=123, n_jobs=-1)"
   ]
  },
  {
   "cell_type": "markdown",
   "metadata": {},
   "source": [
    "### Pipeline"
   ]
  },
  {
   "cell_type": "code",
   "execution_count": 48,
   "metadata": {
    "collapsed": true
   },
   "outputs": [],
   "source": [
    "from sklearn.pipeline import Pipeline"
   ]
  },
  {
   "cell_type": "code",
   "execution_count": 49,
   "metadata": {},
   "outputs": [
    {
     "data": {
      "text/plain": [
       "[('count_vectorizer',\n",
       "  CountVectorizer(analyzer='word', binary=False, decode_error='strict',\n",
       "          dtype=<class 'numpy.int64'>, encoding='utf-8', input='content',\n",
       "          lowercase=True, max_df=1.0, max_features=None, min_df=1,\n",
       "          ngram_range=(1, 1), preprocessor=None, stop_words=None,\n",
       "          strip_accents=None, token_pattern='(?u)\\\\b\\\\w\\\\w+\\\\b',\n",
       "          tokenizer=None, vocabulary=None)),\n",
       " ('mnb', MultinomialNB(alpha=1.0, class_prior=None, fit_prior=True))]"
      ]
     },
     "execution_count": 49,
     "metadata": {},
     "output_type": "execute_result"
    }
   ],
   "source": [
    "# create a pipeline of vectorization and Naive Bayes\n",
    "pipe_nb_text = Pipeline([('count_vectorizer', vect), ('mnb', nb)])\n",
    "pipe_nb_text.steps"
   ]
  },
  {
   "cell_type": "code",
   "execution_count": 50,
   "metadata": {},
   "outputs": [
    {
     "data": {
      "text/plain": [
       "dict_keys(['count_vectorizer', 'mnb'])"
      ]
     },
     "execution_count": 50,
     "metadata": {},
     "output_type": "execute_result"
    }
   ],
   "source": [
    "# show steps in pipe_nb\n",
    "pipe_nb_text.named_steps.keys()"
   ]
  },
  {
   "cell_type": "code",
   "execution_count": 51,
   "metadata": {
    "collapsed": true
   },
   "outputs": [],
   "source": [
    "# create a pipeline of vectorization and Logistic Regression\n",
    "#pipe_lg_text = Pipeline([('count_vectorizer', vect), ('lg', lg)])\n",
    "#pipe_lg_text.steps"
   ]
  },
  {
   "cell_type": "code",
   "execution_count": 52,
   "metadata": {
    "collapsed": true
   },
   "outputs": [],
   "source": [
    "# show steps in pipe_lg\n",
    "#pipe_lg_text.named_steps.keys()"
   ]
  },
  {
   "cell_type": "code",
   "execution_count": 53,
   "metadata": {},
   "outputs": [
    {
     "data": {
      "text/plain": [
       "[('count_vectorizer',\n",
       "  CountVectorizer(analyzer='word', binary=False, decode_error='strict',\n",
       "          dtype=<class 'numpy.int64'>, encoding='utf-8', input='content',\n",
       "          lowercase=True, max_df=1.0, max_features=None, min_df=1,\n",
       "          ngram_range=(1, 1), preprocessor=None, stop_words=None,\n",
       "          strip_accents=None, token_pattern='(?u)\\\\b\\\\w\\\\w+\\\\b',\n",
       "          tokenizer=None, vocabulary=None)),\n",
       " ('rf',\n",
       "  RandomForestClassifier(bootstrap=True, class_weight=None, criterion='gini',\n",
       "              max_depth=None, max_features='auto', max_leaf_nodes=None,\n",
       "              min_impurity_decrease=0.0, min_impurity_split=None,\n",
       "              min_samples_leaf=1, min_samples_split=2,\n",
       "              min_weight_fraction_leaf=0.0, n_estimators=10, n_jobs=-1,\n",
       "              oob_score=False, random_state=123, verbose=0, warm_start=False))]"
      ]
     },
     "execution_count": 53,
     "metadata": {},
     "output_type": "execute_result"
    }
   ],
   "source": [
    "# create a pipeline of vectorization and Random Forest\n",
    "pipe_rf_text = Pipeline([('count_vectorizer', vect), ('rf', rf)])\n",
    "pipe_rf_text.steps"
   ]
  },
  {
   "cell_type": "code",
   "execution_count": 54,
   "metadata": {},
   "outputs": [
    {
     "data": {
      "text/plain": [
       "dict_keys(['count_vectorizer', 'rf'])"
      ]
     },
     "execution_count": 54,
     "metadata": {},
     "output_type": "execute_result"
    }
   ],
   "source": [
    "# show steps in pipe_rf\n",
    "pipe_rf_text.named_steps.keys()"
   ]
  },
  {
   "cell_type": "markdown",
   "metadata": {},
   "source": [
    "### GridSearchCV"
   ]
  },
  {
   "cell_type": "code",
   "execution_count": 55,
   "metadata": {
    "collapsed": true
   },
   "outputs": [],
   "source": [
    "from sklearn.model_selection import GridSearchCV"
   ]
  },
  {
   "cell_type": "code",
   "execution_count": 56,
   "metadata": {},
   "outputs": [
    {
     "data": {
      "text/plain": [
       "{'count_vectorizer__max_df': [0.5, 1], 'mnb__alpha': [0.5, 1]}"
      ]
     },
     "execution_count": 56,
     "metadata": {},
     "output_type": "execute_result"
    }
   ],
   "source": [
    "# create a grid of parameters to search (and specify the pipeline step along with the parameter)\n",
    "param_grid_nb_text = {}\n",
    "param_grid_nb_text['count_vectorizer__max_df'] = [0.5, 1]\n",
    "param_grid_nb_text['mnb__alpha'] = [0.5, 1]\n",
    "param_grid_nb_text"
   ]
  },
  {
   "cell_type": "code",
   "execution_count": 57,
   "metadata": {
    "collapsed": true
   },
   "outputs": [],
   "source": [
    "# nb: pass the pipeline (instead of the model) to GridSearchCV\n",
    "grid_nb_text = GridSearchCV(pipe_nb_text, param_grid_nb_text, cv=5, scoring='accuracy')"
   ]
  },
  {
   "cell_type": "code",
   "execution_count": 58,
   "metadata": {},
   "outputs": [
    {
     "name": "stdout",
     "output_type": "stream",
     "text": [
      "Wall time: 13min 17s\n"
     ]
    },
    {
     "data": {
      "text/plain": [
       "GridSearchCV(cv=5, error_score='raise',\n",
       "       estimator=Pipeline(memory=None,\n",
       "     steps=[('count_vectorizer', CountVectorizer(analyzer='word', binary=False, decode_error='strict',\n",
       "        dtype=<class 'numpy.int64'>, encoding='utf-8', input='content',\n",
       "        lowercase=True, max_df=1.0, max_features=None, min_df=1,\n",
       "        ngram_range=(1, 1), ...nizer=None, vocabulary=None)), ('mnb', MultinomialNB(alpha=1.0, class_prior=None, fit_prior=True))]),\n",
       "       fit_params=None, iid=True, n_jobs=1,\n",
       "       param_grid={'count_vectorizer__max_df': [0.5, 1], 'mnb__alpha': [0.5, 1]},\n",
       "       pre_dispatch='2*n_jobs', refit=True, return_train_score='warn',\n",
       "       scoring='accuracy', verbose=0)"
      ]
     },
     "execution_count": 58,
     "metadata": {},
     "output_type": "execute_result"
    }
   ],
   "source": [
    "# nb: time the grid search\n",
    "%time grid_nb_text.fit(X_text, y_train)"
   ]
  },
  {
   "cell_type": "code",
   "execution_count": 59,
   "metadata": {},
   "outputs": [
    {
     "name": "stderr",
     "output_type": "stream",
     "text": [
      "C:\\Users\\Jolyn\\Anaconda3\\lib\\site-packages\\sklearn\\model_selection\\_search.py:761: DeprecationWarning: The grid_scores_ attribute was deprecated in version 0.18 in favor of the more elaborate cv_results_ attribute. The grid_scores_ attribute will not be available from 0.20\n",
      "  DeprecationWarning)\n"
     ]
    },
    {
     "data": {
      "text/plain": [
       "[mean: 0.26045, std: 0.01273, params: {'count_vectorizer__max_df': 0.5, 'mnb__alpha': 0.5},\n",
       " mean: 0.26376, std: 0.00482, params: {'count_vectorizer__max_df': 0.5, 'mnb__alpha': 1},\n",
       " mean: 0.17654, std: 0.00761, params: {'count_vectorizer__max_df': 1, 'mnb__alpha': 0.5},\n",
       " mean: 0.18075, std: 0.01196, params: {'count_vectorizer__max_df': 1, 'mnb__alpha': 1}]"
      ]
     },
     "execution_count": 59,
     "metadata": {},
     "output_type": "execute_result"
    }
   ],
   "source": [
    "# nb: examine the score for each combination of parameters\n",
    "grid_nb_text.grid_scores_"
   ]
  },
  {
   "cell_type": "code",
   "execution_count": 60,
   "metadata": {},
   "outputs": [
    {
     "name": "stdout",
     "output_type": "stream",
     "text": [
      "0.263759398496\n",
      "{'count_vectorizer__max_df': 0.5, 'mnb__alpha': 1}\n"
     ]
    }
   ],
   "source": [
    "# nb: print the single best score and parameters that produced that score\n",
    "print(grid_nb_text.best_score_)\n",
    "print(grid_nb_text.best_params_)"
   ]
  },
  {
   "cell_type": "code",
   "execution_count": 61,
   "metadata": {},
   "outputs": [
    {
     "data": {
      "text/plain": [
       "{'count_vectorizer__max_df': [0.5, 1],\n",
       " 'rf__bootstrap': [True, False],\n",
       " 'rf__n_estimators': [200, 650, 1100, 1550, 2000]}"
      ]
     },
     "execution_count": 61,
     "metadata": {},
     "output_type": "execute_result"
    }
   ],
   "source": [
    "# create a grid of parameters to search (and specify the pipeline step along with the parameter)\n",
    "param_grid_rf_text = {}\n",
    "param_grid_rf_text['count_vectorizer__max_df'] = [0.5, 1]\n",
    "param_grid_rf_text['rf__n_estimators'] = [int(x) for x in np.linspace(start = 200, stop = 2000, num = 5)]\n",
    "param_grid_rf_text['rf__bootstrap'] = [True, False]\n",
    "param_grid_rf_text"
   ]
  },
  {
   "cell_type": "code",
   "execution_count": 62,
   "metadata": {
    "collapsed": true
   },
   "outputs": [],
   "source": [
    "# rf: pass the pipeline (instead of the model) to GridSearchCV\n",
    "grid_rf_text = GridSearchCV(pipe_rf_text, param_grid_rf_text, cv=5, scoring='accuracy')"
   ]
  },
  {
   "cell_type": "code",
   "execution_count": 63,
   "metadata": {},
   "outputs": [
    {
     "name": "stdout",
     "output_type": "stream",
     "text": [
      "Wall time: 5h 11min\n"
     ]
    },
    {
     "data": {
      "text/plain": [
       "GridSearchCV(cv=5, error_score='raise',\n",
       "       estimator=Pipeline(memory=None,\n",
       "     steps=[('count_vectorizer', CountVectorizer(analyzer='word', binary=False, decode_error='strict',\n",
       "        dtype=<class 'numpy.int64'>, encoding='utf-8', input='content',\n",
       "        lowercase=True, max_df=1.0, max_features=None, min_df=1,\n",
       "        ngram_range=(1, 1), preprocessor=None, stop_words=None,\n",
       " ...imators=10, n_jobs=-1,\n",
       "            oob_score=False, random_state=123, verbose=0, warm_start=False))]),\n",
       "       fit_params=None, iid=True, n_jobs=1,\n",
       "       param_grid={'count_vectorizer__max_df': [0.5, 1], 'rf__n_estimators': [200, 650, 1100, 1550, 2000], 'rf__bootstrap': [True, False]},\n",
       "       pre_dispatch='2*n_jobs', refit=True, return_train_score='warn',\n",
       "       scoring='accuracy', verbose=0)"
      ]
     },
     "execution_count": 63,
     "metadata": {},
     "output_type": "execute_result"
    }
   ],
   "source": [
    "# rf: time the grid search\n",
    "%time grid_rf_text.fit(X_text, y_train)"
   ]
  },
  {
   "cell_type": "code",
   "execution_count": 64,
   "metadata": {},
   "outputs": [
    {
     "name": "stderr",
     "output_type": "stream",
     "text": [
      "C:\\Users\\Jolyn\\Anaconda3\\lib\\site-packages\\sklearn\\model_selection\\_search.py:761: DeprecationWarning: The grid_scores_ attribute was deprecated in version 0.18 in favor of the more elaborate cv_results_ attribute. The grid_scores_ attribute will not be available from 0.20\n",
      "  DeprecationWarning)\n"
     ]
    },
    {
     "data": {
      "text/plain": [
       "[mean: 0.27218, std: 0.01697, params: {'count_vectorizer__max_df': 0.5, 'rf__bootstrap': True, 'rf__n_estimators': 200},\n",
       " mean: 0.27789, std: 0.01207, params: {'count_vectorizer__max_df': 0.5, 'rf__bootstrap': True, 'rf__n_estimators': 650},\n",
       " mean: 0.27970, std: 0.01123, params: {'count_vectorizer__max_df': 0.5, 'rf__bootstrap': True, 'rf__n_estimators': 1100},\n",
       " mean: 0.28271, std: 0.01502, params: {'count_vectorizer__max_df': 0.5, 'rf__bootstrap': True, 'rf__n_estimators': 1550},\n",
       " mean: 0.28271, std: 0.01342, params: {'count_vectorizer__max_df': 0.5, 'rf__bootstrap': True, 'rf__n_estimators': 2000},\n",
       " mean: 0.28180, std: 0.01677, params: {'count_vectorizer__max_df': 0.5, 'rf__bootstrap': False, 'rf__n_estimators': 200},\n",
       " mean: 0.28451, std: 0.01165, params: {'count_vectorizer__max_df': 0.5, 'rf__bootstrap': False, 'rf__n_estimators': 650},\n",
       " mean: 0.28752, std: 0.00894, params: {'count_vectorizer__max_df': 0.5, 'rf__bootstrap': False, 'rf__n_estimators': 1100},\n",
       " mean: 0.28541, std: 0.01016, params: {'count_vectorizer__max_df': 0.5, 'rf__bootstrap': False, 'rf__n_estimators': 1550},\n",
       " mean: 0.28421, std: 0.01062, params: {'count_vectorizer__max_df': 0.5, 'rf__bootstrap': False, 'rf__n_estimators': 2000},\n",
       " mean: 0.12932, std: 0.00874, params: {'count_vectorizer__max_df': 1, 'rf__bootstrap': True, 'rf__n_estimators': 200},\n",
       " mean: 0.12571, std: 0.00595, params: {'count_vectorizer__max_df': 1, 'rf__bootstrap': True, 'rf__n_estimators': 650},\n",
       " mean: 0.13053, std: 0.00898, params: {'count_vectorizer__max_df': 1, 'rf__bootstrap': True, 'rf__n_estimators': 1100},\n",
       " mean: 0.13023, std: 0.00958, params: {'count_vectorizer__max_df': 1, 'rf__bootstrap': True, 'rf__n_estimators': 1550},\n",
       " mean: 0.12932, std: 0.00816, params: {'count_vectorizer__max_df': 1, 'rf__bootstrap': True, 'rf__n_estimators': 2000},\n",
       " mean: 0.14015, std: 0.00613, params: {'count_vectorizer__max_df': 1, 'rf__bootstrap': False, 'rf__n_estimators': 200},\n",
       " mean: 0.13805, std: 0.00673, params: {'count_vectorizer__max_df': 1, 'rf__bootstrap': False, 'rf__n_estimators': 650},\n",
       " mean: 0.13624, std: 0.00938, params: {'count_vectorizer__max_df': 1, 'rf__bootstrap': False, 'rf__n_estimators': 1100},\n",
       " mean: 0.13684, std: 0.01005, params: {'count_vectorizer__max_df': 1, 'rf__bootstrap': False, 'rf__n_estimators': 1550},\n",
       " mean: 0.13744, std: 0.01024, params: {'count_vectorizer__max_df': 1, 'rf__bootstrap': False, 'rf__n_estimators': 2000}]"
      ]
     },
     "execution_count": 64,
     "metadata": {},
     "output_type": "execute_result"
    }
   ],
   "source": [
    "# rf: examine the score for each combination of parameters\n",
    "grid_rf_text.grid_scores_"
   ]
  },
  {
   "cell_type": "code",
   "execution_count": 65,
   "metadata": {},
   "outputs": [
    {
     "name": "stdout",
     "output_type": "stream",
     "text": [
      "0.287518796992\n",
      "{'count_vectorizer__max_df': 0.5, 'rf__bootstrap': False, 'rf__n_estimators': 1100}\n"
     ]
    }
   ],
   "source": [
    "# rf: print the single best score and parameters that produced that score\n",
    "print(grid_rf_text.best_score_)\n",
    "print(grid_rf_text.best_params_)"
   ]
  },
  {
   "cell_type": "markdown",
   "metadata": {},
   "source": [
    "### RandomizedSearchCV"
   ]
  },
  {
   "cell_type": "code",
   "execution_count": 66,
   "metadata": {
    "collapsed": true
   },
   "outputs": [],
   "source": [
    "from sklearn.model_selection import RandomizedSearchCV"
   ]
  },
  {
   "cell_type": "code",
   "execution_count": 67,
   "metadata": {},
   "outputs": [
    {
     "data": {
      "text/plain": [
       "{'count_vectorizer__max_df': [0.3, 0.5, 1],\n",
       " 'mnb__alpha': <scipy.stats._distn_infrastructure.rv_frozen at 0x1e2c8c95908>}"
      ]
     },
     "execution_count": 67,
     "metadata": {},
     "output_type": "execute_result"
    }
   ],
   "source": [
    "import scipy as sp\n",
    "param_rand_nb_text = {}\n",
    "param_rand_nb_text['count_vectorizer__max_df'] = [0.3, 0.5, 1]\n",
    "param_rand_nb_text['mnb__alpha'] = sp.stats.uniform(scale=1) # create uniform continuous distribution between 0 and 1\n",
    "param_rand_nb_text"
   ]
  },
  {
   "cell_type": "code",
   "execution_count": 68,
   "metadata": {
    "collapsed": true
   },
   "outputs": [],
   "source": [
    "# set a random seed for sp.stats.uniform\n",
    "np.random.seed(1)"
   ]
  },
  {
   "cell_type": "code",
   "execution_count": 69,
   "metadata": {
    "collapsed": true
   },
   "outputs": [],
   "source": [
    "# nb: pass the pipeline (instead of the model) to RandomSearchCV\n",
    "rand_nb_text = RandomizedSearchCV(pipe_nb_text, param_rand_nb_text, cv=5, scoring='accuracy', n_iter=5, random_state=123)"
   ]
  },
  {
   "cell_type": "code",
   "execution_count": 70,
   "metadata": {},
   "outputs": [
    {
     "name": "stdout",
     "output_type": "stream",
     "text": [
      "Wall time: 17min 59s\n"
     ]
    },
    {
     "data": {
      "text/plain": [
       "RandomizedSearchCV(cv=5, error_score='raise',\n",
       "          estimator=Pipeline(memory=None,\n",
       "     steps=[('count_vectorizer', CountVectorizer(analyzer='word', binary=False, decode_error='strict',\n",
       "        dtype=<class 'numpy.int64'>, encoding='utf-8', input='content',\n",
       "        lowercase=True, max_df=1.0, max_features=None, min_df=1,\n",
       "        ngram_range=(1, 1), ...nizer=None, vocabulary=None)), ('mnb', MultinomialNB(alpha=1.0, class_prior=None, fit_prior=True))]),\n",
       "          fit_params=None, iid=True, n_iter=5, n_jobs=1,\n",
       "          param_distributions={'count_vectorizer__max_df': [0.3, 0.5, 1], 'mnb__alpha': <scipy.stats._distn_infrastructure.rv_frozen object at 0x000001E2C8C95908>},\n",
       "          pre_dispatch='2*n_jobs', random_state=123, refit=True,\n",
       "          return_train_score='warn', scoring='accuracy', verbose=0)"
      ]
     },
     "execution_count": 70,
     "metadata": {},
     "output_type": "execute_result"
    }
   ],
   "source": [
    "# nb: time the randomized search\n",
    "%time rand_nb_text.fit(X_text, y_train)"
   ]
  },
  {
   "cell_type": "code",
   "execution_count": 71,
   "metadata": {},
   "outputs": [
    {
     "name": "stderr",
     "output_type": "stream",
     "text": [
      "C:\\Users\\Jolyn\\Anaconda3\\lib\\site-packages\\sklearn\\model_selection\\_search.py:761: DeprecationWarning: The grid_scores_ attribute was deprecated in version 0.18 in favor of the more elaborate cv_results_ attribute. The grid_scores_ attribute will not be available from 0.20\n",
      "  DeprecationWarning)\n"
     ]
    },
    {
     "data": {
      "text/plain": [
       "[mean: 0.17955, std: 0.01172, params: {'count_vectorizer__max_df': 1, 'mnb__alpha': 0.71295532052322719},\n",
       " mean: 0.17083, std: 0.01112, params: {'count_vectorizer__max_df': 1, 'mnb__alpha': 0.22685145356420311},\n",
       " mean: 0.17955, std: 0.01172, params: {'count_vectorizer__max_df': 1, 'mnb__alpha': 0.71915031015477304},\n",
       " mean: 0.17654, std: 0.00997, params: {'count_vectorizer__max_df': 1, 'mnb__alpha': 0.42310646012446096},\n",
       " mean: 0.17654, std: 0.00987, params: {'count_vectorizer__max_df': 1, 'mnb__alpha': 0.41092437270901894}]"
      ]
     },
     "execution_count": 71,
     "metadata": {},
     "output_type": "execute_result"
    }
   ],
   "source": [
    "# nb: examine the score for each combination of parameters\n",
    "rand_nb_text.grid_scores_"
   ]
  },
  {
   "cell_type": "code",
   "execution_count": 72,
   "metadata": {},
   "outputs": [
    {
     "name": "stdout",
     "output_type": "stream",
     "text": [
      "0.17954887218\n",
      "{'count_vectorizer__max_df': 1, 'mnb__alpha': 0.71295532052322719}\n"
     ]
    }
   ],
   "source": [
    "# nb: print the single best score and parameters that produced that score\n",
    "print(rand_nb_text.best_score_)\n",
    "print(rand_nb_text.best_params_)"
   ]
  },
  {
   "cell_type": "code",
   "execution_count": 73,
   "metadata": {},
   "outputs": [
    {
     "data": {
      "text/plain": [
       "{'count_vectorizer__max_df': [0.3, 0.5, 1],\n",
       " 'rf__bootstrap': [True, False],\n",
       " 'rf__n_estimators': [200, 400, 600, 800, 1000, 1200, 1400, 1600, 1800, 2000]}"
      ]
     },
     "execution_count": 73,
     "metadata": {},
     "output_type": "execute_result"
    }
   ],
   "source": [
    "param_rand_rf_text = {}\n",
    "param_rand_rf_text['count_vectorizer__max_df'] = [0.3, 0.5, 1]\n",
    "param_rand_rf_text['rf__n_estimators'] = [int(x) for x in np.linspace(start = 200, stop = 2000, num = 10)]\n",
    "param_rand_rf_text['rf__bootstrap'] = [True, False]\n",
    "param_rand_rf_text"
   ]
  },
  {
   "cell_type": "code",
   "execution_count": 74,
   "metadata": {
    "collapsed": true
   },
   "outputs": [],
   "source": [
    "# rf: pass the pipeline (instead of the model) to RandomSearchCV\n",
    "rand_rf_text = RandomizedSearchCV(pipe_rf_text, param_rand_rf_text, cv=5, scoring='accuracy', n_iter=5, random_state=123)"
   ]
  },
  {
   "cell_type": "code",
   "execution_count": 75,
   "metadata": {},
   "outputs": [
    {
     "name": "stdout",
     "output_type": "stream",
     "text": [
      "Wall time: 1h 55min 35s\n"
     ]
    },
    {
     "data": {
      "text/plain": [
       "RandomizedSearchCV(cv=5, error_score='raise',\n",
       "          estimator=Pipeline(memory=None,\n",
       "     steps=[('count_vectorizer', CountVectorizer(analyzer='word', binary=False, decode_error='strict',\n",
       "        dtype=<class 'numpy.int64'>, encoding='utf-8', input='content',\n",
       "        lowercase=True, max_df=1.0, max_features=None, min_df=1,\n",
       "        ngram_range=(1, 1), preprocessor=None, stop_words=None,\n",
       " ...imators=10, n_jobs=-1,\n",
       "            oob_score=False, random_state=123, verbose=0, warm_start=False))]),\n",
       "          fit_params=None, iid=True, n_iter=5, n_jobs=1,\n",
       "          param_distributions={'count_vectorizer__max_df': [0.3, 0.5, 1], 'rf__n_estimators': [200, 400, 600, 800, 1000, 1200, 1400, 1600, 1800, 2000], 'rf__bootstrap': [True, False]},\n",
       "          pre_dispatch='2*n_jobs', random_state=123, refit=True,\n",
       "          return_train_score='warn', scoring='accuracy', verbose=0)"
      ]
     },
     "execution_count": 75,
     "metadata": {},
     "output_type": "execute_result"
    }
   ],
   "source": [
    "# rf: time the randomized search\n",
    "%time rand_rf_text.fit(X_text, y_train)"
   ]
  },
  {
   "cell_type": "code",
   "execution_count": 76,
   "metadata": {},
   "outputs": [
    {
     "name": "stderr",
     "output_type": "stream",
     "text": [
      "C:\\Users\\Jolyn\\Anaconda3\\lib\\site-packages\\sklearn\\model_selection\\_search.py:761: DeprecationWarning: The grid_scores_ attribute was deprecated in version 0.18 in favor of the more elaborate cv_results_ attribute. The grid_scores_ attribute will not be available from 0.20\n",
      "  DeprecationWarning)\n"
     ]
    },
    {
     "data": {
      "text/plain": [
       "[mean: 0.28180, std: 0.01133, params: {'rf__n_estimators': 1000, 'rf__bootstrap': True, 'count_vectorizer__max_df': 0.5},\n",
       " mean: 0.28421, std: 0.01062, params: {'rf__n_estimators': 2000, 'rf__bootstrap': False, 'count_vectorizer__max_df': 0.5},\n",
       " mean: 0.28391, std: 0.01531, params: {'rf__n_estimators': 1200, 'rf__bootstrap': False, 'count_vectorizer__max_df': 0.3},\n",
       " mean: 0.28150, std: 0.01367, params: {'rf__n_estimators': 400, 'rf__bootstrap': False, 'count_vectorizer__max_df': 0.5},\n",
       " mean: 0.12812, std: 0.00766, params: {'rf__n_estimators': 800, 'rf__bootstrap': True, 'count_vectorizer__max_df': 1}]"
      ]
     },
     "execution_count": 76,
     "metadata": {},
     "output_type": "execute_result"
    }
   ],
   "source": [
    "# rf: examine the score for each combination of parameters\n",
    "rand_rf_text.grid_scores_"
   ]
  },
  {
   "cell_type": "code",
   "execution_count": 77,
   "metadata": {},
   "outputs": [
    {
     "name": "stdout",
     "output_type": "stream",
     "text": [
      "0.284210526316\n",
      "{'rf__n_estimators': 2000, 'rf__bootstrap': False, 'count_vectorizer__max_df': 0.5}\n"
     ]
    }
   ],
   "source": [
    "# rf: print the single best score and parameters that produced that score\n",
    "print(rand_rf_text.best_score_)\n",
    "print(rand_rf_text.best_params_)"
   ]
  },
  {
   "cell_type": "markdown",
   "metadata": {},
   "source": [
    "### Adding features to a document-term matrix (using SciPy)"
   ]
  },
  {
   "cell_type": "code",
   "execution_count": 78,
   "metadata": {
    "collapsed": true
   },
   "outputs": [],
   "source": [
    "# define a function that accepts a DataFrame returns the manually created features\n",
    "def get_manual(df):\n",
    "    return df.loc[:, ['budget', 'runtime', 'popularity', 'vote_average', 'vote_count', 'polarity', 'afinn', 'reviews_len', 'genre_Action', 'genre_Adventure', 'genre_Animation','genre_Comedy', 'genre_Crime', 'genre_Documentary', 'genre_Drama','genre_Family', 'genre_Fantasy', 'genre_Foreign', 'genre_History','genre_Horror', 'genre_Music', 'genre_Mystery', 'genre_Romance','genre_Science Fiction', 'genre_TV Movie', 'genre_Thriller','genre_War', 'genre_Western']]\n",
    "    #return df.loc[:, ['budget', 'runtime', 'popularity', 'vote_average', 'vote_count', 'polarity', 'afinn', 'budget_log', 'reviews_len', 'genre_Action', 'genre_Adventure', 'genre_Animation','genre_Comedy', 'genre_Crime', 'genre_Documentary', 'genre_Drama','genre_Family', 'genre_Fantasy', 'genre_Foreign', 'genre_History','genre_Horror', 'genre_Music', 'genre_Mystery', 'genre_Romance','genre_Science Fiction', 'genre_TV Movie', 'genre_Thriller','genre_War', 'genre_Western']]"
   ]
  },
  {
   "cell_type": "code",
   "execution_count": 79,
   "metadata": {
    "collapsed": true
   },
   "outputs": [],
   "source": [
    "from sklearn.preprocessing import FunctionTransformer"
   ]
  },
  {
   "cell_type": "code",
   "execution_count": 80,
   "metadata": {},
   "outputs": [
    {
     "data": {
      "text/plain": [
       "sklearn.preprocessing._function_transformer.FunctionTransformer"
      ]
     },
     "execution_count": 80,
     "metadata": {},
     "output_type": "execute_result"
    }
   ],
   "source": [
    "# create a stateless transformer from the get_manual function\n",
    "get_manual_ft = FunctionTransformer(get_manual, validate=False)\n",
    "type(get_manual_ft)"
   ]
  },
  {
   "cell_type": "code",
   "execution_count": 81,
   "metadata": {},
   "outputs": [
    {
     "data": {
      "text/html": [
       "<div>\n",
       "<style>\n",
       "    .dataframe thead tr:only-child th {\n",
       "        text-align: right;\n",
       "    }\n",
       "\n",
       "    .dataframe thead th {\n",
       "        text-align: left;\n",
       "    }\n",
       "\n",
       "    .dataframe tbody tr th {\n",
       "        vertical-align: top;\n",
       "    }\n",
       "</style>\n",
       "<table border=\"1\" class=\"dataframe\">\n",
       "  <thead>\n",
       "    <tr style=\"text-align: right;\">\n",
       "      <th></th>\n",
       "      <th>budget</th>\n",
       "      <th>runtime</th>\n",
       "      <th>popularity</th>\n",
       "      <th>vote_average</th>\n",
       "      <th>vote_count</th>\n",
       "      <th>polarity</th>\n",
       "      <th>afinn</th>\n",
       "      <th>reviews_len</th>\n",
       "      <th>genre_Action</th>\n",
       "      <th>genre_Adventure</th>\n",
       "      <th>...</th>\n",
       "      <th>genre_History</th>\n",
       "      <th>genre_Horror</th>\n",
       "      <th>genre_Music</th>\n",
       "      <th>genre_Mystery</th>\n",
       "      <th>genre_Romance</th>\n",
       "      <th>genre_Science Fiction</th>\n",
       "      <th>genre_TV Movie</th>\n",
       "      <th>genre_Thriller</th>\n",
       "      <th>genre_War</th>\n",
       "      <th>genre_Western</th>\n",
       "    </tr>\n",
       "  </thead>\n",
       "  <tbody>\n",
       "    <tr>\n",
       "      <th>1134</th>\n",
       "      <td>50000000</td>\n",
       "      <td>124</td>\n",
       "      <td>15.931084</td>\n",
       "      <td>5.8</td>\n",
       "      <td>255</td>\n",
       "      <td>0.095159</td>\n",
       "      <td>79.0</td>\n",
       "      <td>41611</td>\n",
       "      <td>1</td>\n",
       "      <td>0</td>\n",
       "      <td>...</td>\n",
       "      <td>0</td>\n",
       "      <td>0</td>\n",
       "      <td>0</td>\n",
       "      <td>0</td>\n",
       "      <td>0</td>\n",
       "      <td>0</td>\n",
       "      <td>0</td>\n",
       "      <td>0</td>\n",
       "      <td>0</td>\n",
       "      <td>0</td>\n",
       "    </tr>\n",
       "    <tr>\n",
       "      <th>2015</th>\n",
       "      <td>20000000</td>\n",
       "      <td>100</td>\n",
       "      <td>8.244324</td>\n",
       "      <td>5.6</td>\n",
       "      <td>111</td>\n",
       "      <td>0.112115</td>\n",
       "      <td>624.0</td>\n",
       "      <td>39480</td>\n",
       "      <td>0</td>\n",
       "      <td>0</td>\n",
       "      <td>...</td>\n",
       "      <td>0</td>\n",
       "      <td>0</td>\n",
       "      <td>0</td>\n",
       "      <td>0</td>\n",
       "      <td>0</td>\n",
       "      <td>0</td>\n",
       "      <td>0</td>\n",
       "      <td>0</td>\n",
       "      <td>0</td>\n",
       "      <td>0</td>\n",
       "    </tr>\n",
       "    <tr>\n",
       "      <th>1069</th>\n",
       "      <td>26000000</td>\n",
       "      <td>101</td>\n",
       "      <td>1.492056</td>\n",
       "      <td>5.5</td>\n",
       "      <td>34</td>\n",
       "      <td>0.137980</td>\n",
       "      <td>284.0</td>\n",
       "      <td>42955</td>\n",
       "      <td>0</td>\n",
       "      <td>0</td>\n",
       "      <td>...</td>\n",
       "      <td>0</td>\n",
       "      <td>0</td>\n",
       "      <td>0</td>\n",
       "      <td>0</td>\n",
       "      <td>0</td>\n",
       "      <td>0</td>\n",
       "      <td>0</td>\n",
       "      <td>0</td>\n",
       "      <td>0</td>\n",
       "      <td>0</td>\n",
       "    </tr>\n",
       "    <tr>\n",
       "      <th>3907</th>\n",
       "      <td>112000000</td>\n",
       "      <td>85</td>\n",
       "      <td>22.845143</td>\n",
       "      <td>4.9</td>\n",
       "      <td>621</td>\n",
       "      <td>0.078886</td>\n",
       "      <td>344.0</td>\n",
       "      <td>39646</td>\n",
       "      <td>0</td>\n",
       "      <td>0</td>\n",
       "      <td>...</td>\n",
       "      <td>0</td>\n",
       "      <td>0</td>\n",
       "      <td>0</td>\n",
       "      <td>0</td>\n",
       "      <td>0</td>\n",
       "      <td>0</td>\n",
       "      <td>0</td>\n",
       "      <td>0</td>\n",
       "      <td>0</td>\n",
       "      <td>0</td>\n",
       "    </tr>\n",
       "    <tr>\n",
       "      <th>4314</th>\n",
       "      <td>160000000</td>\n",
       "      <td>148</td>\n",
       "      <td>167.583710</td>\n",
       "      <td>8.1</td>\n",
       "      <td>13752</td>\n",
       "      <td>0.119364</td>\n",
       "      <td>466.0</td>\n",
       "      <td>77493</td>\n",
       "      <td>1</td>\n",
       "      <td>0</td>\n",
       "      <td>...</td>\n",
       "      <td>0</td>\n",
       "      <td>0</td>\n",
       "      <td>0</td>\n",
       "      <td>0</td>\n",
       "      <td>0</td>\n",
       "      <td>0</td>\n",
       "      <td>0</td>\n",
       "      <td>0</td>\n",
       "      <td>0</td>\n",
       "      <td>0</td>\n",
       "    </tr>\n",
       "  </tbody>\n",
       "</table>\n",
       "<p>5 rows × 28 columns</p>\n",
       "</div>"
      ],
      "text/plain": [
       "         budget  runtime  popularity  vote_average  vote_count  polarity  \\\n",
       "1134   50000000      124   15.931084           5.8         255  0.095159   \n",
       "2015   20000000      100    8.244324           5.6         111  0.112115   \n",
       "1069   26000000      101    1.492056           5.5          34  0.137980   \n",
       "3907  112000000       85   22.845143           4.9         621  0.078886   \n",
       "4314  160000000      148  167.583710           8.1       13752  0.119364   \n",
       "\n",
       "      afinn  reviews_len  genre_Action  genre_Adventure      ...        \\\n",
       "1134   79.0        41611             1                0      ...         \n",
       "2015  624.0        39480             0                0      ...         \n",
       "1069  284.0        42955             0                0      ...         \n",
       "3907  344.0        39646             0                0      ...         \n",
       "4314  466.0        77493             1                0      ...         \n",
       "\n",
       "      genre_History  genre_Horror  genre_Music  genre_Mystery  genre_Romance  \\\n",
       "1134              0             0            0              0              0   \n",
       "2015              0             0            0              0              0   \n",
       "1069              0             0            0              0              0   \n",
       "3907              0             0            0              0              0   \n",
       "4314              0             0            0              0              0   \n",
       "\n",
       "      genre_Science Fiction  genre_TV Movie  genre_Thriller  genre_War  \\\n",
       "1134                      0               0               0          0   \n",
       "2015                      0               0               0          0   \n",
       "1069                      0               0               0          0   \n",
       "3907                      0               0               0          0   \n",
       "4314                      0               0               0          0   \n",
       "\n",
       "      genre_Western  \n",
       "1134              0  \n",
       "2015              0  \n",
       "1069              0  \n",
       "3907              0  \n",
       "4314              0  \n",
       "\n",
       "[5 rows x 28 columns]"
      ]
     },
     "execution_count": 81,
     "metadata": {},
     "output_type": "execute_result"
    }
   ],
   "source": [
    "# execute the function using the transform method\n",
    "get_manual_ft.transform(X_train).head()"
   ]
  },
  {
   "cell_type": "code",
   "execution_count": 82,
   "metadata": {
    "collapsed": true
   },
   "outputs": [],
   "source": [
    "# define a function that accepts a DataFrame returns the combined_reviews\n",
    "def get_text(df):\n",
    "    return df.combined_reviews"
   ]
  },
  {
   "cell_type": "code",
   "execution_count": 83,
   "metadata": {},
   "outputs": [
    {
     "data": {
      "text/plain": [
       "1134    There is nothing in \"The Peacemaker\" that is n...\n",
       "2015    I've seen countless teeny bopper comedies the ...\n",
       "1069    Michael Caine gives one of his greatest perfor...\n",
       "3907    First things first: if you are watching Jack B...\n",
       "4314    I'd like to keep my review rather to the point...\n",
       "Name: combined_reviews, dtype: object"
      ]
     },
     "execution_count": 83,
     "metadata": {},
     "output_type": "execute_result"
    }
   ],
   "source": [
    "# create and test another transformer\n",
    "get_text_ft = FunctionTransformer(get_text, validate=False)\n",
    "get_text_ft.transform(X_train).head()"
   ]
  },
  {
   "cell_type": "markdown",
   "metadata": {},
   "source": [
    "### Combine feature extraction steps"
   ]
  },
  {
   "cell_type": "code",
   "execution_count": 84,
   "metadata": {
    "collapsed": true
   },
   "outputs": [],
   "source": [
    "from sklearn.pipeline import make_pipeline\n",
    "from sklearn.pipeline import make_union"
   ]
  },
  {
   "cell_type": "code",
   "execution_count": 85,
   "metadata": {
    "collapsed": true
   },
   "outputs": [],
   "source": [
    "# get optimal parameter from above\n",
    "vect_opt = CountVectorizer(max_df=0.5)# insert optimal parameters"
   ]
  },
  {
   "cell_type": "code",
   "execution_count": 86,
   "metadata": {},
   "outputs": [
    {
     "data": {
      "text/plain": [
       "(3325, 147502)"
      ]
     },
     "execution_count": 86,
     "metadata": {},
     "output_type": "execute_result"
    }
   ],
   "source": [
    "# this is identical to a FeatureUnion with just one transformer\n",
    "union_try = make_union(vect_opt)\n",
    "X_dtm = union_try.fit_transform(X_text)\n",
    "X_dtm.shape"
   ]
  },
  {
   "cell_type": "code",
   "execution_count": 87,
   "metadata": {},
   "outputs": [
    {
     "data": {
      "text/plain": [
       "(3325, 147530)"
      ]
     },
     "execution_count": 87,
     "metadata": {},
     "output_type": "execute_result"
    }
   ],
   "source": [
    "# properly combine the transformers into a FeatureUnion\n",
    "from sklearn.pipeline import make_pipeline\n",
    "union = make_union(make_pipeline(get_text_ft, vect_opt), get_manual_ft)\n",
    "X_dtm_manual = union.fit_transform(X_train)\n",
    "X_dtm_manual.shape"
   ]
  },
  {
   "cell_type": "code",
   "execution_count": 88,
   "metadata": {
    "collapsed": true
   },
   "outputs": [],
   "source": [
    "# get optimal parameter from above\n",
    "rf_opt = RandomForestClassifier(random_state=123, n_estimators=2000, n_jobs=-1)# insert optimal parameters"
   ]
  },
  {
   "cell_type": "code",
   "execution_count": 89,
   "metadata": {
    "collapsed": true
   },
   "outputs": [],
   "source": [
    "# create another pipeline for FeatureUnion and Random Forest\n",
    "pipe_combine = make_pipeline(union, rf_opt)"
   ]
  },
  {
   "cell_type": "code",
   "execution_count": 90,
   "metadata": {},
   "outputs": [
    {
     "data": {
      "text/plain": [
       "0.30734680214282517"
      ]
     },
     "execution_count": 90,
     "metadata": {},
     "output_type": "execute_result"
    }
   ],
   "source": [
    "# properly cross-validate the entire pipeline (and pass it the entire DataFrame)\n",
    "from sklearn.model_selection import cross_val_score\n",
    "cross_val_score(pipe_combine, X_train, y_train, cv=5, scoring='accuracy').mean()"
   ]
  },
  {
   "cell_type": "markdown",
   "metadata": {},
   "source": [
    "# 4. Make predictions for new data"
   ]
  },
  {
   "cell_type": "code",
   "execution_count": 91,
   "metadata": {
    "collapsed": true
   },
   "outputs": [],
   "source": [
    "from sklearn import metrics"
   ]
  },
  {
   "cell_type": "code",
   "execution_count": 92,
   "metadata": {
    "collapsed": true
   },
   "outputs": [],
   "source": [
    "# define a function that calculates the metrics of interest\n",
    "\n",
    "def get_results(classifier, X_train, y_train, X_test, y_test):\n",
    "    # fit classifier\n",
    "    classifier.fit(X_train, y_train)\n",
    "    \n",
    "    # make class predictions for X_test\n",
    "    y_pred_class = classifier.predict(X_test)\n",
    "    \n",
    "    # store the predicted probabilities\n",
    "    #y_pred_prob = classifier.predict_proba(X_test)\n",
    "    \n",
    "    # print confusion matrix of its predictions\n",
    "    print('Confusion matrix: \\n', metrics.confusion_matrix(y_test, y_pred_class))\n",
    "    \n",
    "    # print Accuracy\n",
    "    print('Accuracy: ', metrics.accuracy_score(y_test, y_pred_class))\n",
    "    \n",
    "    # print AUC - percentage of ROC plot that is underneath the curve\n",
    "    #print('AUC: ', metrics.roc_auc_score(y_test, y_pred_prob))\n",
    "    \n",
    "    # print one-away accuracy\n",
    "    cm = metrics.confusion_matrix(y_test, y_pred_class)\n",
    "    accuracy_1away = (cm[0,0]+cm[0,1]+cm[1,0]+cm[1,1]+cm[1,2]+cm[2,1]+cm[2,2]+cm[3,2]+cm[2,3]+cm[3,3]+cm[4,3]+cm[3,4]+cm[4,4]+cm[4,5]+cm[5,4]+cm[5,5]+cm[5,6]+cm[6,5]+cm[6,6]+cm[6,7]+cm[7,6]+cm[7,7]+cm[7,8]+cm[8,7]+cm[8,8])/len(y_test)\n",
    "    print('1-Away Accuracy: \\n', accuracy_1away)"
   ]
  },
  {
   "cell_type": "markdown",
   "metadata": {},
   "source": [
    "## 4.1 Predict based on text 'combined_reviews' column"
   ]
  },
  {
   "cell_type": "code",
   "execution_count": 93,
   "metadata": {
    "collapsed": true
   },
   "outputs": [],
   "source": [
    "X_new_text = X_new.combined_reviews"
   ]
  },
  {
   "cell_type": "code",
   "execution_count": 94,
   "metadata": {},
   "outputs": [
    {
     "data": {
      "text/plain": [
       "Pipeline(memory=None,\n",
       "     steps=[('count_vectorizer', CountVectorizer(analyzer='word', binary=False, decode_error='strict',\n",
       "        dtype=<class 'numpy.int64'>, encoding='utf-8', input='content',\n",
       "        lowercase=True, max_df=0.5, max_features=None, min_df=1,\n",
       "        ngram_range=(1, 1), preprocessor=None, stop_words=None,\n",
       " ...ators=2000, n_jobs=-1,\n",
       "            oob_score=False, random_state=123, verbose=0, warm_start=False))])"
      ]
     },
     "execution_count": 94,
     "metadata": {},
     "output_type": "execute_result"
    }
   ],
   "source": [
    "# print the best model found by RandomizedSearchCV\n",
    "rand_rf_text.best_estimator_"
   ]
  },
  {
   "cell_type": "code",
   "execution_count": 95,
   "metadata": {},
   "outputs": [
    {
     "data": {
      "text/plain": [
       "array(['Class 2', 'Class 4', 'Class 2', 'Class 4', 'Class 4', 'Class 2',\n",
       "       'Class 2', 'Class 2', 'Class 1', 'Class 9', 'Class 2', 'Class 1',\n",
       "       'Class 9', 'Class 2', 'Class 2', 'Class 2', 'Class 2', 'Class 4',\n",
       "       'Class 2', 'Class 9', 'Class 2', 'Class 2', 'Class 9', 'Class 2',\n",
       "       'Class 2', 'Class 2', 'Class 9', 'Class 9', 'Class 1', 'Class 2',\n",
       "       'Class 2', 'Class 2', 'Class 2', 'Class 2', 'Class 2', 'Class 2',\n",
       "       'Class 2', 'Class 1', 'Class 9', 'Class 9', 'Class 2', 'Class 1',\n",
       "       'Class 2', 'Class 2', 'Class 9', 'Class 2', 'Class 2', 'Class 9',\n",
       "       'Class 2', 'Class 4', 'Class 4', 'Class 2', 'Class 9', 'Class 2',\n",
       "       'Class 4', 'Class 4', 'Class 2', 'Class 9', 'Class 2', 'Class 2',\n",
       "       'Class 9', 'Class 9', 'Class 2', 'Class 2', 'Class 1', 'Class 1',\n",
       "       'Class 9', 'Class 2', 'Class 2', 'Class 9', 'Class 2', 'Class 2',\n",
       "       'Class 2', 'Class 4', 'Class 1', 'Class 9', 'Class 2', 'Class 9',\n",
       "       'Class 9', 'Class 1', 'Class 2', 'Class 2', 'Class 2', 'Class 9',\n",
       "       'Class 9', 'Class 2', 'Class 2', 'Class 2', 'Class 2', 'Class 4',\n",
       "       'Class 1', 'Class 2', 'Class 2', 'Class 2', 'Class 2', 'Class 9',\n",
       "       'Class 2', 'Class 9', 'Class 2', 'Class 2', 'Class 4', 'Class 2',\n",
       "       'Class 2', 'Class 9', 'Class 1', 'Class 2', 'Class 2', 'Class 2',\n",
       "       'Class 2', 'Class 4', 'Class 2', 'Class 2', 'Class 9', 'Class 2',\n",
       "       'Class 4', 'Class 2', 'Class 2', 'Class 1', 'Class 4', 'Class 2',\n",
       "       'Class 2', 'Class 2', 'Class 2', 'Class 9', 'Class 9', 'Class 2',\n",
       "       'Class 2', 'Class 2', 'Class 2', 'Class 9', 'Class 2', 'Class 2',\n",
       "       'Class 2', 'Class 9', 'Class 2', 'Class 2', 'Class 9', 'Class 2',\n",
       "       'Class 2', 'Class 2', 'Class 9', 'Class 2', 'Class 2', 'Class 2',\n",
       "       'Class 2', 'Class 2', 'Class 9', 'Class 9', 'Class 2', 'Class 2',\n",
       "       'Class 5', 'Class 9', 'Class 2', 'Class 2', 'Class 9', 'Class 2',\n",
       "       'Class 2', 'Class 2', 'Class 2', 'Class 3', 'Class 2', 'Class 2',\n",
       "       'Class 4', 'Class 2', 'Class 2', 'Class 9', 'Class 2', 'Class 1',\n",
       "       'Class 2', 'Class 2', 'Class 2', 'Class 4', 'Class 2', 'Class 2',\n",
       "       'Class 9', 'Class 2', 'Class 4', 'Class 9', 'Class 2', 'Class 2',\n",
       "       'Class 2', 'Class 9', 'Class 9', 'Class 1', 'Class 2', 'Class 2',\n",
       "       'Class 2', 'Class 2', 'Class 2', 'Class 9', 'Class 2', 'Class 2',\n",
       "       'Class 2', 'Class 9', 'Class 2', 'Class 1', 'Class 2', 'Class 9',\n",
       "       'Class 9', 'Class 2', 'Class 9', 'Class 2', 'Class 2', 'Class 2',\n",
       "       'Class 2', 'Class 2', 'Class 2', 'Class 2', 'Class 2', 'Class 2',\n",
       "       'Class 2', 'Class 9', 'Class 9', 'Class 4', 'Class 1', 'Class 9',\n",
       "       'Class 4', 'Class 4', 'Class 4', 'Class 2', 'Class 9', 'Class 9',\n",
       "       'Class 1', 'Class 9', 'Class 2', 'Class 2', 'Class 2', 'Class 9',\n",
       "       'Class 9', 'Class 9', 'Class 4', 'Class 4', 'Class 9', 'Class 2',\n",
       "       'Class 1', 'Class 9', 'Class 2', 'Class 9', 'Class 2', 'Class 2',\n",
       "       'Class 2', 'Class 9', 'Class 2', 'Class 4', 'Class 4', 'Class 4',\n",
       "       'Class 2', 'Class 1', 'Class 2', 'Class 9', 'Class 2', 'Class 9',\n",
       "       'Class 2', 'Class 2', 'Class 2', 'Class 2', 'Class 2', 'Class 2',\n",
       "       'Class 9', 'Class 9', 'Class 9', 'Class 2', 'Class 4', 'Class 9',\n",
       "       'Class 2', 'Class 4', 'Class 2', 'Class 2', 'Class 2', 'Class 4',\n",
       "       'Class 1', 'Class 1', 'Class 9', 'Class 2', 'Class 2', 'Class 9',\n",
       "       'Class 9', 'Class 2', 'Class 2', 'Class 1', 'Class 2', 'Class 1',\n",
       "       'Class 9', 'Class 2', 'Class 2', 'Class 9', 'Class 2', 'Class 2',\n",
       "       'Class 2', 'Class 2', 'Class 4', 'Class 9', 'Class 2', 'Class 9',\n",
       "       'Class 2', 'Class 9', 'Class 2', 'Class 2', 'Class 1', 'Class 9',\n",
       "       'Class 2', 'Class 9', 'Class 2', 'Class 2', 'Class 9', 'Class 1',\n",
       "       'Class 9', 'Class 2', 'Class 2', 'Class 2', 'Class 9', 'Class 2',\n",
       "       'Class 2', 'Class 4', 'Class 9', 'Class 2', 'Class 9', 'Class 4',\n",
       "       'Class 2', 'Class 2', 'Class 2', 'Class 2', 'Class 9', 'Class 2',\n",
       "       'Class 2', 'Class 9', 'Class 9', 'Class 2', 'Class 1', 'Class 2',\n",
       "       'Class 2', 'Class 2', 'Class 2', 'Class 2', 'Class 2', 'Class 9',\n",
       "       'Class 2', 'Class 9', 'Class 2', 'Class 2', 'Class 1', 'Class 9',\n",
       "       'Class 1', 'Class 2', 'Class 2', 'Class 2', 'Class 2', 'Class 9',\n",
       "       'Class 2', 'Class 9', 'Class 1', 'Class 2', 'Class 9', 'Class 2',\n",
       "       'Class 2', 'Class 9', 'Class 9', 'Class 2', 'Class 2', 'Class 4',\n",
       "       'Class 2', 'Class 2', 'Class 9', 'Class 2', 'Class 2', 'Class 2',\n",
       "       'Class 2', 'Class 9', 'Class 2', 'Class 1', 'Class 4', 'Class 2',\n",
       "       'Class 9', 'Class 2', 'Class 2', 'Class 2', 'Class 9', 'Class 2',\n",
       "       'Class 2', 'Class 2', 'Class 1', 'Class 9', 'Class 2', 'Class 2',\n",
       "       'Class 2', 'Class 1', 'Class 1', 'Class 9', 'Class 2', 'Class 2',\n",
       "       'Class 2', 'Class 2', 'Class 4', 'Class 9', 'Class 9', 'Class 2',\n",
       "       'Class 2', 'Class 2', 'Class 9', 'Class 2', 'Class 2', 'Class 1',\n",
       "       'Class 2', 'Class 2', 'Class 1', 'Class 2', 'Class 1', 'Class 2',\n",
       "       'Class 2', 'Class 2', 'Class 2', 'Class 9', 'Class 2', 'Class 2',\n",
       "       'Class 2', 'Class 2', 'Class 2', 'Class 2', 'Class 2', 'Class 2',\n",
       "       'Class 2', 'Class 2', 'Class 2', 'Class 2', 'Class 2', 'Class 9',\n",
       "       'Class 2', 'Class 2', 'Class 2', 'Class 7', 'Class 2', 'Class 2',\n",
       "       'Class 9', 'Class 2', 'Class 9', 'Class 2', 'Class 9', 'Class 9',\n",
       "       'Class 9', 'Class 2', 'Class 9', 'Class 9', 'Class 2', 'Class 2',\n",
       "       'Class 2', 'Class 2', 'Class 2', 'Class 2', 'Class 2', 'Class 3',\n",
       "       'Class 2', 'Class 2', 'Class 9', 'Class 2', 'Class 2', 'Class 2',\n",
       "       'Class 2', 'Class 2', 'Class 9', 'Class 4', 'Class 9', 'Class 2',\n",
       "       'Class 2', 'Class 9', 'Class 2', 'Class 1', 'Class 9', 'Class 2',\n",
       "       'Class 2', 'Class 2', 'Class 9', 'Class 2', 'Class 2', 'Class 4',\n",
       "       'Class 2', 'Class 1', 'Class 9', 'Class 2', 'Class 2', 'Class 2',\n",
       "       'Class 9', 'Class 2', 'Class 2', 'Class 2', 'Class 9', 'Class 9',\n",
       "       'Class 1', 'Class 1', 'Class 2', 'Class 2', 'Class 9', 'Class 2',\n",
       "       'Class 2', 'Class 2', 'Class 2', 'Class 9', 'Class 9', 'Class 2',\n",
       "       'Class 2', 'Class 2', 'Class 2', 'Class 9', 'Class 2', 'Class 2',\n",
       "       'Class 2', 'Class 2', 'Class 9', 'Class 9', 'Class 2', 'Class 1',\n",
       "       'Class 2', 'Class 2', 'Class 2', 'Class 2', 'Class 9', 'Class 9',\n",
       "       'Class 2', 'Class 9', 'Class 2', 'Class 9', 'Class 2', 'Class 2',\n",
       "       'Class 2', 'Class 2', 'Class 9', 'Class 2', 'Class 4', 'Class 2',\n",
       "       'Class 9', 'Class 2', 'Class 2', 'Class 2', 'Class 9', 'Class 2',\n",
       "       'Class 2', 'Class 2', 'Class 2', 'Class 2', 'Class 2', 'Class 9',\n",
       "       'Class 4', 'Class 2', 'Class 4', 'Class 2', 'Class 9', 'Class 2',\n",
       "       'Class 9', 'Class 4', 'Class 2', 'Class 2', 'Class 9', 'Class 2',\n",
       "       'Class 2', 'Class 1', 'Class 2', 'Class 2', 'Class 2', 'Class 9',\n",
       "       'Class 2', 'Class 2', 'Class 2', 'Class 9', 'Class 2', 'Class 9',\n",
       "       'Class 9', 'Class 9', 'Class 2', 'Class 1', 'Class 9', 'Class 9',\n",
       "       'Class 2', 'Class 2', 'Class 1', 'Class 2', 'Class 2', 'Class 2',\n",
       "       'Class 2', 'Class 2', 'Class 2', 'Class 2', 'Class 9', 'Class 4',\n",
       "       'Class 2', 'Class 9', 'Class 2', 'Class 9', 'Class 9', 'Class 2',\n",
       "       'Class 2', 'Class 2', 'Class 4', 'Class 2', 'Class 9', 'Class 4',\n",
       "       'Class 9', 'Class 1', 'Class 2', 'Class 2', 'Class 2', 'Class 1',\n",
       "       'Class 2', 'Class 9', 'Class 2', 'Class 2', 'Class 1', 'Class 4',\n",
       "       'Class 9', 'Class 2', 'Class 9', 'Class 2', 'Class 2', 'Class 9',\n",
       "       'Class 9', 'Class 2', 'Class 2', 'Class 2', 'Class 1', 'Class 2',\n",
       "       'Class 2', 'Class 2', 'Class 1', 'Class 2', 'Class 2', 'Class 1',\n",
       "       'Class 2', 'Class 9', 'Class 2', 'Class 9', 'Class 1', 'Class 9',\n",
       "       'Class 2', 'Class 2', 'Class 2', 'Class 2', 'Class 2', 'Class 2',\n",
       "       'Class 2', 'Class 4', 'Class 2', 'Class 9', 'Class 4', 'Class 2',\n",
       "       'Class 2', 'Class 2', 'Class 9', 'Class 2', 'Class 2', 'Class 2',\n",
       "       'Class 9', 'Class 1', 'Class 9', 'Class 9', 'Class 9', 'Class 9',\n",
       "       'Class 2', 'Class 2', 'Class 9', 'Class 2', 'Class 1', 'Class 9',\n",
       "       'Class 1', 'Class 9', 'Class 2', 'Class 2', 'Class 9', 'Class 2',\n",
       "       'Class 2', 'Class 2', 'Class 2', 'Class 2', 'Class 2', 'Class 1',\n",
       "       'Class 2', 'Class 2', 'Class 2', 'Class 9', 'Class 9', 'Class 2',\n",
       "       'Class 2', 'Class 2', 'Class 2', 'Class 9', 'Class 2', 'Class 2',\n",
       "       'Class 2', 'Class 4', 'Class 2', 'Class 2', 'Class 1', 'Class 2',\n",
       "       'Class 9', 'Class 9', 'Class 2', 'Class 2', 'Class 4', 'Class 2',\n",
       "       'Class 4', 'Class 2', 'Class 1', 'Class 4', 'Class 2', 'Class 2',\n",
       "       'Class 3', 'Class 1', 'Class 2', 'Class 1', 'Class 2', 'Class 2',\n",
       "       'Class 2', 'Class 2', 'Class 2', 'Class 2', 'Class 2', 'Class 9',\n",
       "       'Class 9', 'Class 9', 'Class 9', 'Class 2', 'Class 4', 'Class 9',\n",
       "       'Class 2', 'Class 4', 'Class 2', 'Class 9', 'Class 2', 'Class 2',\n",
       "       'Class 2', 'Class 2', 'Class 2', 'Class 2', 'Class 2', 'Class 2',\n",
       "       'Class 2', 'Class 9', 'Class 9', 'Class 2', 'Class 9', 'Class 2',\n",
       "       'Class 9', 'Class 2', 'Class 9', 'Class 2', 'Class 2', 'Class 2',\n",
       "       'Class 2', 'Class 9', 'Class 9', 'Class 2', 'Class 1', 'Class 2',\n",
       "       'Class 2', 'Class 9', 'Class 2', 'Class 2', 'Class 2', 'Class 9',\n",
       "       'Class 2', 'Class 2', 'Class 2', 'Class 2', 'Class 2', 'Class 2',\n",
       "       'Class 4', 'Class 2', 'Class 9', 'Class 1', 'Class 9', 'Class 9',\n",
       "       'Class 1', 'Class 2', 'Class 2', 'Class 9', 'Class 9', 'Class 2',\n",
       "       'Class 1', 'Class 2', 'Class 2', 'Class 2', 'Class 2', 'Class 2',\n",
       "       'Class 9', 'Class 2', 'Class 9', 'Class 2', 'Class 9', 'Class 1',\n",
       "       'Class 2', 'Class 2', 'Class 9', 'Class 2', 'Class 9', 'Class 3',\n",
       "       'Class 2', 'Class 9', 'Class 2', 'Class 2', 'Class 1', 'Class 9',\n",
       "       'Class 2', 'Class 2', 'Class 2', 'Class 9', 'Class 9', 'Class 2',\n",
       "       'Class 9', 'Class 2', 'Class 2', 'Class 2', 'Class 9', 'Class 2',\n",
       "       'Class 9', 'Class 9', 'Class 2', 'Class 9', 'Class 2', 'Class 9',\n",
       "       'Class 9', 'Class 9', 'Class 2', 'Class 2', 'Class 9', 'Class 9',\n",
       "       'Class 2', 'Class 1', 'Class 2', 'Class 2', 'Class 2', 'Class 1',\n",
       "       'Class 9', 'Class 9', 'Class 1', 'Class 2'], dtype=object)"
      ]
     },
     "execution_count": 95,
     "metadata": {},
     "output_type": "execute_result"
    }
   ],
   "source": [
    "# predicted class\n",
    "new_pred_class_rand = rand_rf_text.predict(X_new_text)\n",
    "new_pred_class_rand"
   ]
  },
  {
   "cell_type": "code",
   "execution_count": 96,
   "metadata": {},
   "outputs": [
    {
     "data": {
      "text/plain": [
       "array([[ 0.155  ,  0.2105 ,  0.1565 , ...,  0.0675 ,  0.031  ,  0.059  ],\n",
       "       [ 0.076  ,  0.116  ,  0.11325, ...,  0.0925 ,  0.0565 ,  0.1465 ],\n",
       "       [ 0.1885 ,  0.1995 ,  0.12125, ...,  0.0715 ,  0.035  ,  0.057  ],\n",
       "       ..., \n",
       "       [ 0.074  ,  0.1075 ,  0.11   , ...,  0.088  ,  0.062  ,  0.2055 ],\n",
       "       [ 0.6965 ,  0.095  ,  0.051  , ...,  0.015  ,  0.0055 ,  0.0445 ],\n",
       "       [ 0.11775,  0.1905 ,  0.1115 , ...,  0.09   ,  0.051  ,  0.1035 ]])"
      ]
     },
     "execution_count": 96,
     "metadata": {},
     "output_type": "execute_result"
    }
   ],
   "source": [
    "# predicted class probabilities\n",
    "new_pred_prob_rand = rand_rf_text.predict_proba(X_new_text)\n",
    "new_pred_prob_rand"
   ]
  },
  {
   "cell_type": "code",
   "execution_count": 97,
   "metadata": {},
   "outputs": [
    {
     "name": "stdout",
     "output_type": "stream",
     "text": [
      "Confusion matrix: \n",
      " [[ 37  55   0   2   0   0   0   0   2]\n",
      " [ 13 110   1   0   0   0   1   0  10]\n",
      " [  3  77   1   4   0   0   0   0  11]\n",
      " [  6  83   1   9   0   0   0   0  16]\n",
      " [  2  53   0  13   0   0   0   0  20]\n",
      " [  2  48   0   6   1   0   0   0  20]\n",
      " [  3  26   1   5   0   0   0   0  33]\n",
      " [  2  16   0   7   0   0   0   0  19]\n",
      " [  0  23   0   8   0   0   0   0  82]]\n"
     ]
    }
   ],
   "source": [
    "# print confusion matrix of its predictions\n",
    "print('Confusion matrix: \\n', metrics.confusion_matrix(y_new, new_pred_class_rand))"
   ]
  },
  {
   "cell_type": "code",
   "execution_count": 98,
   "metadata": {},
   "outputs": [
    {
     "name": "stdout",
     "output_type": "stream",
     "text": [
      "Accuracy: \n",
      " 0.287259615385\n"
     ]
    }
   ],
   "source": [
    "# print accuracy\n",
    "print('Accuracy: \\n', metrics.accuracy_score(y_new, new_pred_class_rand))"
   ]
  },
  {
   "cell_type": "code",
   "execution_count": 99,
   "metadata": {},
   "outputs": [
    {
     "name": "stdout",
     "output_type": "stream",
     "text": [
      "1-Away Accuracy: \n",
      " 0.508413461538\n"
     ]
    }
   ],
   "source": [
    "# one-away accuracy\n",
    "cm = metrics.confusion_matrix(y_new, new_pred_class_rand)\n",
    "accuracy_1away = (cm[0,0]+cm[0,1]+cm[1,0]+cm[1,1]+cm[1,2]+cm[2,1]+cm[2,2]+cm[3,2]+cm[2,3]+cm[3,3]+cm[4,3]+cm[3,4]+cm[4,4]+cm[4,5]+cm[5,4]+cm[5,5]+cm[5,6]+cm[6,5]+cm[6,6]+cm[6,7]+cm[7,6]+cm[7,7]+cm[7,8]+cm[8,7]+cm[8,8])/len(y_new)\n",
    "print('1-Away Accuracy: \\n', accuracy_1away)"
   ]
  },
  {
   "cell_type": "markdown",
   "metadata": {},
   "source": [
    "## 4.2 Predict based on text 'combined_reviews' + features columns in dataset"
   ]
  },
  {
   "cell_type": "code",
   "execution_count": 100,
   "metadata": {},
   "outputs": [
    {
     "data": {
      "text/plain": [
       "(832, 147530)"
      ]
     },
     "execution_count": 100,
     "metadata": {},
     "output_type": "execute_result"
    }
   ],
   "source": [
    "X_new_dtm = union.transform(X_new)\n",
    "X_new_dtm.shape"
   ]
  },
  {
   "cell_type": "code",
   "execution_count": 101,
   "metadata": {},
   "outputs": [
    {
     "data": {
      "text/plain": [
       "RandomForestClassifier(bootstrap=False, class_weight=None, criterion='gini',\n",
       "            max_depth=None, max_features='auto', max_leaf_nodes=None,\n",
       "            min_impurity_decrease=0.0, min_impurity_split=None,\n",
       "            min_samples_leaf=1, min_samples_split=2,\n",
       "            min_weight_fraction_leaf=0.0, n_estimators=2000, n_jobs=-1,\n",
       "            oob_score=False, random_state=123, verbose=0, warm_start=False)"
      ]
     },
     "execution_count": 101,
     "metadata": {},
     "output_type": "execute_result"
    }
   ],
   "source": [
    "rf_opt.fit(X_dtm_manual, y_train)"
   ]
  },
  {
   "cell_type": "code",
   "execution_count": 102,
   "metadata": {
    "collapsed": true
   },
   "outputs": [],
   "source": [
    "comb_pred_class = rf_opt.predict(X_new_dtm)"
   ]
  },
  {
   "cell_type": "code",
   "execution_count": 103,
   "metadata": {},
   "outputs": [
    {
     "name": "stdout",
     "output_type": "stream",
     "text": [
      "Confusion matrix: \n",
      " [[ 38  55   0   1   0   0   0   0   2]\n",
      " [ 13 113   1   1   0   0   1   0   6]\n",
      " [  5  80   0   4   0   0   0   0   7]\n",
      " [  5  78   4  16   0   0   0   0  12]\n",
      " [  1  52   0  12   3   0   0   0  20]\n",
      " [  2  32   0  16   1   0   0   0  26]\n",
      " [  2  14   1  10   1   0   0   0  40]\n",
      " [  1  13   0   6   0   0   0   0  24]\n",
      " [  0  11   0  10   0   0   0   0  92]]\n"
     ]
    }
   ],
   "source": [
    "print('Confusion matrix: \\n', metrics.confusion_matrix(y_new, comb_pred_class))"
   ]
  },
  {
   "cell_type": "code",
   "execution_count": 104,
   "metadata": {},
   "outputs": [
    {
     "name": "stdout",
     "output_type": "stream",
     "text": [
      "Accuracy:  0.314903846154\n"
     ]
    }
   ],
   "source": [
    "print('Accuracy: ', metrics.accuracy_score(y_new, comb_pred_class))"
   ]
  },
  {
   "cell_type": "code",
   "execution_count": 105,
   "metadata": {},
   "outputs": [
    {
     "name": "stdout",
     "output_type": "stream",
     "text": [
      "1-Away Accuracy: \n",
      " 0.548076923077\n"
     ]
    }
   ],
   "source": [
    "cm = metrics.confusion_matrix(y_new, comb_pred_class)\n",
    "accuracy_1away = (cm[0,0]+cm[0,1]+cm[1,0]+cm[1,1]+cm[1,2]+cm[2,1]+cm[2,2]+cm[3,2]+cm[2,3]+cm[3,3]+cm[4,3]+cm[3,4]+cm[4,4]+cm[4,5]+cm[5,4]+cm[5,5]+cm[5,6]+cm[6,5]+cm[6,6]+cm[6,7]+cm[7,6]+cm[7,7]+cm[7,8]+cm[8,7]+cm[8,8])/len(y_new)\n",
    "print('1-Away Accuracy: \\n', accuracy_1away)"
   ]
  },
  {
   "cell_type": "code",
   "execution_count": 106,
   "metadata": {},
   "outputs": [
    {
     "name": "stdout",
     "output_type": "stream",
     "text": [
      "Confusion matrix: \n",
      " [[ 38  55   0   1   0   0   0   0   2]\n",
      " [ 13 113   1   1   0   0   1   0   6]\n",
      " [  5  80   0   4   0   0   0   0   7]\n",
      " [  5  78   4  16   0   0   0   0  12]\n",
      " [  1  52   0  12   3   0   0   0  20]\n",
      " [  2  32   0  16   1   0   0   0  26]\n",
      " [  2  14   1  10   1   0   0   0  40]\n",
      " [  1  13   0   6   0   0   0   0  24]\n",
      " [  0  11   0  10   0   0   0   0  92]]\n",
      "Accuracy:  0.314903846154\n",
      "1-Away Accuracy: \n",
      " 0.548076923077\n",
      "Wall time: 5min 18s\n"
     ]
    }
   ],
   "source": [
    "%time rf_2_results =  get_results(rf_opt, X_dtm_manual, y_train, X_new_dtm, y_new)"
   ]
  },
  {
   "cell_type": "markdown",
   "metadata": {},
   "source": [
    "## 4.3 Build model based on features from dataset (without combined_reviews column)"
   ]
  },
  {
   "cell_type": "code",
   "execution_count": 107,
   "metadata": {
    "collapsed": true
   },
   "outputs": [],
   "source": [
    "X_train_feat = get_manual(X_train)"
   ]
  },
  {
   "cell_type": "code",
   "execution_count": 108,
   "metadata": {
    "collapsed": true
   },
   "outputs": [],
   "source": [
    "X_new_feat = get_manual(X_new)"
   ]
  },
  {
   "cell_type": "code",
   "execution_count": 109,
   "metadata": {},
   "outputs": [
    {
     "name": "stdout",
     "output_type": "stream",
     "text": [
      "(3325, 28)\n",
      "(832, 28)\n"
     ]
    }
   ],
   "source": [
    "print(X_train_feat.shape)\n",
    "print(X_new_feat.shape)"
   ]
  },
  {
   "cell_type": "code",
   "execution_count": 110,
   "metadata": {
    "collapsed": true
   },
   "outputs": [],
   "source": [
    "rf_features = RandomForestClassifier(n_estimators=2000, random_state=123, n_jobs=-1)"
   ]
  },
  {
   "cell_type": "code",
   "execution_count": 111,
   "metadata": {},
   "outputs": [
    {
     "name": "stdout",
     "output_type": "stream",
     "text": [
      "Confusion matrix: \n",
      " [[ 57  29   4   3   1   2   0   0   0]\n",
      " [ 25  64  13  22   4   4   3   0   0]\n",
      " [  4  42  15  27   4   4   0   0   0]\n",
      " [  4  20  19  34  14  16   6   1   1]\n",
      " [  0  12  11  26  15  12   5   2   5]\n",
      " [  0   0   3  10  15  16  20   3  10]\n",
      " [  0   1   1   9   9  10  11   5  22]\n",
      " [  0   0   0   3   3  12   6   2  18]\n",
      " [  0   0   0   2   1   3   7   0 100]]\n",
      "Accuracy:  0.377403846154\n",
      "1-Away Accuracy: \n",
      " 0.715144230769\n",
      "Wall time: 26 s\n"
     ]
    }
   ],
   "source": [
    "%time rf_3_results =  get_results(rf_features, X_train_feat, y_train, X_new_feat, y_new)"
   ]
  },
  {
   "cell_type": "code",
   "execution_count": null,
   "metadata": {},
   "outputs": [],
   "source": [
    "features = X_train_feat.columns\n",
    "importances = rf_features.feature_importances_\n",
    "indices = np.argsort(importances)\n",
    "\n",
    "figure = plt.figure(1)\n",
    "plt.title('Feature Importances')\n",
    "plt.barh(range(len(indices)), importances[indices], color='b', align='center')\n",
    "plt.yticks(range(len(indices)), features[indices])\n",
    "plt.xlabel('Relative Importance')\n",
    "figure.set_size_inches(12.5, 8.5)\n",
    "figure.savefig('Relative Importance_1.jpg', dpi=100)"
   ]
  },
  {
   "cell_type": "markdown",
   "metadata": {},
   "source": [
    "## 4.4 Ensemble models"
   ]
  },
  {
   "cell_type": "code",
   "execution_count": 113,
   "metadata": {},
   "outputs": [
    {
     "data": {
      "text/plain": [
       "array([[ 0.155  ,  0.2105 ,  0.1565 , ...,  0.0675 ,  0.031  ,  0.059  ],\n",
       "       [ 0.076  ,  0.116  ,  0.11325, ...,  0.0925 ,  0.0565 ,  0.1465 ],\n",
       "       [ 0.1885 ,  0.1995 ,  0.12125, ...,  0.0715 ,  0.035  ,  0.057  ],\n",
       "       ..., \n",
       "       [ 0.074  ,  0.1075 ,  0.11   , ...,  0.088  ,  0.062  ,  0.2055 ],\n",
       "       [ 0.6965 ,  0.095  ,  0.051  , ...,  0.015  ,  0.0055 ,  0.0445 ],\n",
       "       [ 0.11775,  0.1905 ,  0.1115 , ...,  0.09   ,  0.051  ,  0.1035 ]])"
      ]
     },
     "execution_count": 113,
     "metadata": {},
     "output_type": "execute_result"
    }
   ],
   "source": [
    "# predicted probabilities from RF on 'combined_reviews' text\n",
    "new_pred_prob_rand"
   ]
  },
  {
   "cell_type": "code",
   "execution_count": 114,
   "metadata": {
    "collapsed": true
   },
   "outputs": [],
   "source": [
    "# predicted probabilities from RF on feature cols\n",
    "new_pred_prob_feat = rf_features.predict_proba(X_new_feat)"
   ]
  },
  {
   "cell_type": "code",
   "execution_count": 115,
   "metadata": {},
   "outputs": [
    {
     "data": {
      "text/html": [
       "<div>\n",
       "<style>\n",
       "    .dataframe thead tr:only-child th {\n",
       "        text-align: right;\n",
       "    }\n",
       "\n",
       "    .dataframe thead th {\n",
       "        text-align: left;\n",
       "    }\n",
       "\n",
       "    .dataframe tbody tr th {\n",
       "        vertical-align: top;\n",
       "    }\n",
       "</style>\n",
       "<table border=\"1\" class=\"dataframe\">\n",
       "  <thead>\n",
       "    <tr style=\"text-align: right;\">\n",
       "      <th></th>\n",
       "      <th>Class 1</th>\n",
       "      <th>Class 2</th>\n",
       "      <th>Class 3</th>\n",
       "      <th>Class 4</th>\n",
       "      <th>Class 5</th>\n",
       "      <th>Class 6</th>\n",
       "      <th>Class 7</th>\n",
       "      <th>Class 8</th>\n",
       "      <th>Class 9</th>\n",
       "    </tr>\n",
       "  </thead>\n",
       "  <tbody>\n",
       "    <tr>\n",
       "      <th>0</th>\n",
       "      <td>0.270000</td>\n",
       "      <td>0.311500</td>\n",
       "      <td>0.138500</td>\n",
       "      <td>0.112750</td>\n",
       "      <td>0.05250</td>\n",
       "      <td>0.03475</td>\n",
       "      <td>0.03400</td>\n",
       "      <td>0.01650</td>\n",
       "      <td>0.02950</td>\n",
       "    </tr>\n",
       "    <tr>\n",
       "      <th>1</th>\n",
       "      <td>0.047250</td>\n",
       "      <td>0.110250</td>\n",
       "      <td>0.141625</td>\n",
       "      <td>0.195375</td>\n",
       "      <td>0.15350</td>\n",
       "      <td>0.14475</td>\n",
       "      <td>0.07250</td>\n",
       "      <td>0.05700</td>\n",
       "      <td>0.07775</td>\n",
       "    </tr>\n",
       "    <tr>\n",
       "      <th>2</th>\n",
       "      <td>0.164000</td>\n",
       "      <td>0.176250</td>\n",
       "      <td>0.238875</td>\n",
       "      <td>0.191625</td>\n",
       "      <td>0.08450</td>\n",
       "      <td>0.05600</td>\n",
       "      <td>0.04175</td>\n",
       "      <td>0.01825</td>\n",
       "      <td>0.02875</td>\n",
       "    </tr>\n",
       "    <tr>\n",
       "      <th>3</th>\n",
       "      <td>0.153750</td>\n",
       "      <td>0.266250</td>\n",
       "      <td>0.145875</td>\n",
       "      <td>0.200125</td>\n",
       "      <td>0.07000</td>\n",
       "      <td>0.04850</td>\n",
       "      <td>0.03575</td>\n",
       "      <td>0.02450</td>\n",
       "      <td>0.05525</td>\n",
       "    </tr>\n",
       "    <tr>\n",
       "      <th>4</th>\n",
       "      <td>0.047125</td>\n",
       "      <td>0.063875</td>\n",
       "      <td>0.081250</td>\n",
       "      <td>0.139000</td>\n",
       "      <td>0.16475</td>\n",
       "      <td>0.14075</td>\n",
       "      <td>0.13375</td>\n",
       "      <td>0.10575</td>\n",
       "      <td>0.12375</td>\n",
       "    </tr>\n",
       "  </tbody>\n",
       "</table>\n",
       "</div>"
      ],
      "text/plain": [
       "    Class 1   Class 2   Class 3   Class 4  Class 5  Class 6  Class 7  Class 8  \\\n",
       "0  0.270000  0.311500  0.138500  0.112750  0.05250  0.03475  0.03400  0.01650   \n",
       "1  0.047250  0.110250  0.141625  0.195375  0.15350  0.14475  0.07250  0.05700   \n",
       "2  0.164000  0.176250  0.238875  0.191625  0.08450  0.05600  0.04175  0.01825   \n",
       "3  0.153750  0.266250  0.145875  0.200125  0.07000  0.04850  0.03575  0.02450   \n",
       "4  0.047125  0.063875  0.081250  0.139000  0.16475  0.14075  0.13375  0.10575   \n",
       "\n",
       "   Class 9  \n",
       "0  0.02950  \n",
       "1  0.07775  \n",
       "2  0.02875  \n",
       "3  0.05525  \n",
       "4  0.12375  "
      ]
     },
     "execution_count": 115,
     "metadata": {},
     "output_type": "execute_result"
    }
   ],
   "source": [
    "# calculate the mean of the predicted probabilities for all rows\n",
    "new_pred_prob = pd.DataFrame((new_pred_prob_rand + new_pred_prob_feat) / 2, columns=rf_features.classes_)\n",
    "new_pred_prob.head()"
   ]
  },
  {
   "cell_type": "code",
   "execution_count": 116,
   "metadata": {},
   "outputs": [
    {
     "data": {
      "text/plain": [
       "0    Class 2\n",
       "1    Class 4\n",
       "2    Class 3\n",
       "3    Class 2\n",
       "4    Class 5\n",
       "dtype: object"
      ]
     },
     "execution_count": 116,
     "metadata": {},
     "output_type": "execute_result"
    }
   ],
   "source": [
    "# for each row, find the column with the highest predicted probability\n",
    "new_pred_class = new_pred_prob.apply(np.argmax, axis=1)\n",
    "new_pred_class.head()"
   ]
  },
  {
   "cell_type": "code",
   "execution_count": 117,
   "metadata": {},
   "outputs": [
    {
     "name": "stdout",
     "output_type": "stream",
     "text": [
      "Confusion matrix: \n",
      " [[ 51  35   3   5   1   1   0   0   0]\n",
      " [ 21  77   7  20   4   3   2   0   1]\n",
      " [  4  47  12  27   4   2   0   0   0]\n",
      " [  5  25  14  41  10  13   3   1   3]\n",
      " [  0  20   6  28  17   8   1   0   8]\n",
      " [  1   1   3  15  16  13  14   1  13]\n",
      " [  1   0   1  11   8   9   6   2  30]\n",
      " [  0   0   0   4   4  10   4   1  21]\n",
      " [  0   1   0   4   1   2   4   0 101]]\n"
     ]
    }
   ],
   "source": [
    "print('Confusion matrix: \\n', metrics.confusion_matrix(y_new, new_pred_class))"
   ]
  },
  {
   "cell_type": "code",
   "execution_count": 118,
   "metadata": {},
   "outputs": [
    {
     "name": "stdout",
     "output_type": "stream",
     "text": [
      "Accuracy:  0.383413461538\n"
     ]
    }
   ],
   "source": [
    "print('Accuracy: ', metrics.accuracy_score(y_new, new_pred_class))"
   ]
  },
  {
   "cell_type": "code",
   "execution_count": 119,
   "metadata": {},
   "outputs": [
    {
     "name": "stdout",
     "output_type": "stream",
     "text": [
      "1-Away Accuracy: \n",
      " 0.699519230769\n"
     ]
    }
   ],
   "source": [
    "cm = metrics.confusion_matrix(y_new, new_pred_class)\n",
    "accuracy_1away = (cm[0,0]+cm[0,1]+cm[1,0]+cm[1,1]+cm[1,2]+cm[2,1]+cm[2,2]+cm[3,2]+cm[2,3]+cm[3,3]+cm[4,3]+cm[3,4]+cm[4,4]+cm[4,5]+cm[5,4]+cm[5,5]+cm[5,6]+cm[6,5]+cm[6,6]+cm[6,7]+cm[7,6]+cm[7,7]+cm[7,8]+cm[8,7]+cm[8,8])/len(y_new)\n",
    "print('1-Away Accuracy: \\n', accuracy_1away)"
   ]
  },
  {
   "cell_type": "code",
   "execution_count": null,
   "metadata": {
    "collapsed": true
   },
   "outputs": [],
   "source": []
  }
 ],
 "metadata": {
  "kernelspec": {
   "display_name": "Python [conda root]",
   "language": "python",
   "name": "conda-root-py"
  },
  "language_info": {
   "codemirror_mode": {
    "name": "ipython",
    "version": 3
   },
   "file_extension": ".py",
   "mimetype": "text/x-python",
   "name": "python",
   "nbconvert_exporter": "python",
   "pygments_lexer": "ipython3",
   "version": "3.6.3"
  }
 },
 "nbformat": 4,
 "nbformat_minor": 2
}
