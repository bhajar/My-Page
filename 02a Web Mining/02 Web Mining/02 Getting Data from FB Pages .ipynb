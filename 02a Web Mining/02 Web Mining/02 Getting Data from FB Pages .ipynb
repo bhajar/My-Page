{
 "cells": [
  {
   "cell_type": "code",
   "execution_count": 1,
   "metadata": {},
   "outputs": [
    {
     "data": {
      "text/html": [
       "<style>.container { width:98% !important; }</style>"
      ],
      "text/plain": [
       "<IPython.core.display.HTML object>"
      ]
     },
     "metadata": {},
     "output_type": "display_data"
    }
   ],
   "source": [
    "from IPython.core.display import display, HTML\n",
    "display(HTML(\"<style>.container { width:98% !important; }</style>\"))"
   ]
  },
  {
   "cell_type": "markdown",
   "metadata": {},
   "source": [
    "# Getting Data from FACEBOOK PAGES\n",
    " \n",
    "- https://www.facebook.com/leehsienloong\n",
    "- https://www.facebook.com/sohruiyong\n",
    "- https://www.facebook.com/TheStraitsTimes"
   ]
  },
  {
   "cell_type": "markdown",
   "metadata": {},
   "source": [
    "# Reading a URL using `urllib`\n",
    "\n",
    "More info: https://docs.python.org/3/howto/urllib2.html"
   ]
  },
  {
   "cell_type": "code",
   "execution_count": 2,
   "metadata": {},
   "outputs": [],
   "source": [
    "import urllib.request\n",
    "url = \"http://google.com.sg/\"\n",
    "request = urllib.request.Request(url)\n",
    "response = urllib.request.urlopen(request)\n",
    "\n",
    "html = response.read().decode('unicode_escape')"
   ]
  },
  {
   "cell_type": "code",
   "execution_count": 3,
   "metadata": {
    "scrolled": true
   },
   "outputs": [
    {
     "data": {
      "text/plain": [
       "'<!doctype html><html itemscope=\"\" itemtype=\"http://schema.org/WebPage\" lang=\"en-SG\"><head><meta content=\"text/html; charset=UTF-8\" http-equiv=\"Content-Type\"><meta content=\"/logos/doodles/2018/doodle-snow-games-day-3-4649927396294656.6-l.png\" itemprop=\"image\"><meta content=\"Day 3 of the Doodle Snow Games!\" property=\"twitter:title\"><meta content=\"Day 3 of the Doodle Snow Games! &#10052; #GoogleDoodle\" property=\"twitter:description\"><meta content=\"Day 3 of the Doodle Snow Games! &#10052; #GoogleDoodle\" property=\"og:description\"><meta content=\"summary_large_image\" property=\"twitter:card\"><meta content=\"@GoogleDoodles\" property=\"twitter:site\"><meta content=\"https://www.google.com/logos/doodles/2018/doodle-snow-games-day-3-4649927396294656.5-2xa.gif\" property=\"twitter:image\"><meta content=\"https://www.google.com/logos/doodles/2018/doodle-snow-games-day-3-4649927396294656.5-2xa.gif\" property=\"og:image\"><meta content=\"1000\" property=\"og:image:width\"><meta content=\"400\" property=\"og:image:height\"><meta content=\"https://www.google.com/logos/doodles/2018/doodle-snow-games-day-3-4649927396294656.5-2xa.gif\" property=\"og:url\"><meta content=\"video.other\" property=\"og:type\"><title>Google</title><script nonce=\"JjTDlJcCKO7ETFXowNQKRQ==\">(function(){window.google={kEI:\\'szOAWraWOMj9vgTWoZ7oCQ\\',kEXPI:\\'1354276,1354688,1354916,1355526,1355675,1355762,1355792,1356040,1356182,1356690,1357033,1357052,1357219,1357394,1357452,1357554,1357750,1357808,3700334,3700521,4029815,4031109,4043492,4045841,4048347,4081039,4097153,4097922,4097929,4098721,4098728,4102238,4103845,4109316,4109489,4114597,4115697,4116279,4116350,4116731,4116926,4116935,4117539,4118798,4119032,4119034,4119036,4120660,4122511,4123829,4123837,4124850,4125837,4126201,4127086,4127418,4128586,4129520,4129633,4130782,4131247,4131836,4133403,4133755,4135025,4135249,4136073,4137461,4137597,4137646,4139722,4139730,4140272,4140318,4141160,4141174,4141183,4141469,4142071,4142328,4142834,4143278,4143677,4143817,4144325,4144442,4144545,4144592,4144704,4144802,4145088,4145461,4145485,4145772,4145836,4146113,4146146,4146320,4146752,4146880,4147436,4147943,4147951,4148267,4148279,4148304,4148498,4148571,4148607,4148988,4149304,4149337,4149445,4149493,4149796,4149913,4149944,4150005,4150017,4150080,4150185,4150429,4150565,4151013,4151016,4151048,4151179,4151266,4151295,4151352,4151385,4151389,4151612,4151675,4151679,4151701,4151946,4151962,4152044,4152330,4152604,4153049,4153224,4153301,4153320,4153616,4153738,10200083,10200095,10201957,10202524,10202570,15807764,16200027,19000288,19000423,19000427,19001999,19002287,19002288,19002366,19002548,19002853,19002880,19003321,19003323,19003325,19003326,19003328,19003329,19003330,19003407,19003408,19003409,19004309,19004516,19004517,19004518,19004519,19004520,19004521,19004841,19004842,19004874,19004892,19004896,41317155\\',authuser:0,kscs:\\'c9c918f0_szOAWraWOMj9vgTWoZ7oCQ\\',u:\\'c9c918f0\\',kGL:\\'SG\\'};google.kHL=\\'en-SG\\';})();(function(){google.lc=[];google.li=0;google.getEI=function(a){for(var b;a&&(!a.getAttribute||!(b=a.getAttribute(\"eid\")));)a=a.parentNode;return b||google.kEI};google.getLEI=function(a){for(var b=null;a&&(!a.getAttribute||!(b=a.getAttribute(\"leid\")));)a=a.parentNode;return b};google.https=function(){return\"https:\"==window.location.protocol};google.ml=function(){return null};google.wl=function(a,b){try{google.ml(Error(a),!1,b)}catch(d){}};google.time=function(){return(new Date).getTime()};google.log=function(a,b,d,c,g){if(a=google.logUrl(a,b,d,c,g)){b=new Image;var e=google.lc,f=google.li;e[f]=b;b.onerror=b.onload=b.onabort=function(){delete e[f]};google.vel&&google.vel.lu&&google.vel.lu(a);b.src=a;google.li=f+1}};google.logUrl=function(a,b,d,c,g){var e=\"\",f=google.ls||\"\";d||-1!=b.search(\"&ei=\")||(e=\"&ei=\"+google.getEI(c),-1==b.search(\"&lei=\")&&(c=google.getLEI(c))&&(e+=\"&lei=\"+c));c=\"\";!d&&google.cshid&&-1==b.search(\"&cshid=\")&&(c=\"&cshid=\"+google.cshid);a=d||\"/\"+(g||\"gen_204\")+\"?atyp=i&ct=\"+a+\"&cad=\"+b+e+f+\"&zx=\"+google.time()+c;/^http:/i.test(a)&&google.https()&&(google.ml(Error(\"a\"),!1,{src:a,glmm:1}),a=\"\");return a};}).call(this);(function(){google.y={};google.x=function(a,b){if(a)var c=a.id;else{do c=Math.random();while(google.y[c])}google.y[c]=[a,b];return!1};google.lm=[];google.plm=function(a){google.lm.push.apply(google.lm,a)};google.lq=[];google.load=function(a,b,c){google.lq.push([[a],b,c])};google.loadAll=function(a,b){google.lq.push([a,b])};}).call(this);google.f={};var a=window.location,b=a.href.indexOf(\"#\");if(0<=b){var c=a.href.substring(b+1);/(^|&)q=/.test(c)&&-1==c.indexOf(\"#\")&&a.replace(\"/search?\"+c.replace(/(^|&)fp=[^&]*/g,\"\")+\"&cad=h\")};</script><style>#gbar,#guser{font-size:13px;padding-top:1px !important;}#gbar{height:22px}#guser{padding-bottom:7px !important;text-align:right}.gbh,.gbd{border-top:1px solid #c9d7f1;font-size:1px}.gbh{height:0;position:absolute;top:24px;width:100%}@media all{.gb1{height:22px;margin-right:.5em;vertical-align:top}#gbar{float:left}}a.gb1,a.gb4{text-decoration:underline !important}a.gb1,a.gb4{color:#00c !important}.gbi .gb4{color:#dd8e27 !important}.gbf .gb4{color:#900 !important}\\n</style><style>body,td,a,p,.h{font-family:arial,sans-serif}body{margin:0;overflow-y:scroll}#gog{padding:3px 8px 0}td{line-height:.8em}.gac_m td{line-height:17px}form{margin-bottom:20px}.h{color:#36c}.q{color:#00c}.ts td{padding:0}.ts{border-collapse:collapse}em{font-weight:bold;font-style:normal}.lst{height:25px;width:496px}.gsfi,.lst{font:18px arial,sans-serif}.gsfs{font:17px arial,sans-serif}.ds{display:inline-box;display:inline-block;margin:3px 0 4px;margin-left:4px}input{font-family:inherit}a.gb1,a.gb2,a.gb3,a.gb4{color:#11c !important}body{background:#fff;color:black}a{color:#11c;text-decoration:none}a:hover,a:active{text-decoration:underline}.fl a{color:#36c}a:visited{color:#551a8b}a.gb1,a.gb4{text-decoration:underline}a.gb3:hover{text-decoration:none}#ghead a.gb2:hover{color:#fff !important}.sblc{padding-top:5px}.sblc a{display:block;margin:2px 0;margin-left:13px;font-size:11px}.lsbb{background:#eee;border:solid 1px;border-color:#ccc #999 #999 #ccc;height:30px}.lsbb{display:block}.ftl,#fll a{display:inline-block;margin:0 12px}.lsb{background:url(/images/nav_logo229.png) 0 -261px repeat-x;border:none;color:#000;cursor:pointer;height:30px;margin:0;outline:0;font:15px arial,sans-serif;vertical-align:top}.lsb:active{background:#ccc}.lst:focus{outline:none}</style><script nonce=\"JjTDlJcCKO7ETFXowNQKRQ==\"></script><link href=\"/images/branding/product/ico/googleg_lodp.ico\" rel=\"shortcut icon\"></head><body bgcolor=\"#fff\"><script nonce=\"JjTDlJcCKO7ETFXowNQKRQ==\">(function(){var src=\\'/images/nav_logo229.png\\';var iesg=false;document.body.onload = function(){window.n && window.n();if (document.images){new Image().src=src;}\\nif (!iesg){document.f&&document.f.q.focus();document.gbqf&&document.gbqf.q.focus();}\\n}\\n})();</script><div id=\"mngb\"> <div id=gbar><nobr><b class=gb1>Search</b> <a class=gb1 href=\"http://www.google.com.sg/imghp?hl=en&tab=wi\">Images</a> <a class=gb1 href=\"http://maps.google.com.sg/maps?hl=en&tab=wl\">Maps</a> <a class=gb1 href=\"https://play.google.com/?hl=en&tab=w8\">Play</a> <a class=gb1 href=\"http://www.youtube.com/?gl=SG&tab=w1\">YouTube</a> <a class=gb1 href=\"http://news.google.com.sg/nwshp?hl=en&tab=wn\">News</a> <a class=gb1 href=\"https://mail.google.com/mail/?tab=wm\">Gmail</a> <a class=gb1 href=\"https://drive.google.com/?tab=wo\">Drive</a> <a class=gb1 style=\"text-decoration:none\" href=\"https://www.google.com.sg/intl/en/options/\"><u>More</u> &raquo;</a></nobr></div><div id=guser width=100%><nobr><span id=gbn class=gbi></span><span id=gbf class=gbf></span><span id=gbe></span><a href=\"http://www.google.com.sg/history/optout?hl=en\" class=gb4>Web History</a> | <a  href=\"/preferences?hl=en\" class=gb4>Settings</a> | <a target=_top id=gb_70 href=\"https://accounts.google.com/ServiceLogin?hl=en&passive=true&continue=http://www.google.com.sg/\" class=gb4>Sign in</a></nobr></div><div class=gbh style=left:0></div><div class=gbh style=right:0></div> </div><center><br clear=\"all\" id=\"lgpd\"><div id=\"lga\"><a href=\"/search?site=&amp;ie=UTF-8&amp;q=Winter+Olympics&amp;oi=ddle&amp;ct=doodle-snow-games-day-3-4649927396294656&amp;hl=en&amp;kgmid=/m/03tng8&amp;sa=X&amp;ved=0ahUKEwj2u7Cn653ZAhXIvo8KHdaQB50QPQgD\"><img alt=\"Day 3 of the Doodle Snow Games!\" border=\"0\" height=\"200\" src=\"/logos/doodles/2018/doodle-snow-games-day-3-4649927396294656.6-l.png\" title=\"Day 3 of the Doodle Snow Games!\" width=\"500\" id=\"hplogo\" onload=\"window.lol&&lol()\"><br></a><br></div><form action=\"/search\" name=\"f\"><table cellpadding=\"0\" cellspacing=\"0\"><tr valign=\"top\"><td width=\"25%\">&nbsp;</td><td align=\"center\" nowrap=\"\"><input name=\"ie\" value=\"ISO-8859-1\" type=\"hidden\"><input value=\"en-SG\" name=\"hl\" type=\"hidden\"><input name=\"source\" type=\"hidden\" value=\"hp\"><input name=\"biw\" type=\"hidden\"><input name=\"bih\" type=\"hidden\"><div class=\"ds\" style=\"height:32px;margin:4px 0\"><input style=\"color:#000;margin:0;padding:5px 8px 0 6px;vertical-align:top\" autocomplete=\"off\" class=\"lst\" value=\"\" title=\"Google Search\" maxlength=\"2048\" name=\"q\" size=\"57\"></div><br style=\"line-height:0\"><span class=\"ds\"><span class=\"lsbb\"><input class=\"lsb\" value=\"Google Search\" name=\"btnG\" type=\"submit\"></span></span><span class=\"ds\"><span class=\"lsbb\"><input class=\"lsb\" value=\"I\\'m Feeling Lucky\" name=\"btnI\" onclick=\"if(this.form.q.value)this.checked=1; else top.location=\\'/doodles/\\'\" type=\"submit\"></span></span></td><td class=\"fl sblc\" align=\"left\" nowrap=\"\" width=\"25%\"><a href=\"/advanced_search?hl=en-SG&amp;authuser=0\">Advanced search</a><a href=\"/language_tools?hl=en-SG&amp;authuser=0\">Language tools</a></td></tr></table><input id=\"gbv\" name=\"gbv\" type=\"hidden\" value=\"1\"></form><div id=\"gac_scont\"></div><div style=\"font-size:83%;min-height:3.5em\"><br><div id=\"als\"><style>#als{font-size:small;margin-bottom:24px}#_eEe{display:inline-block;line-height:28px;}#_eEe a{padding:0 3px;}._lEe{display:inline-block;margin:0 2px;white-space:nowrap}._PEe{display:inline-block;margin:0 2px}</style><div id=\"_eEe\">Google offered in: <a href=\"http://www.google.com.sg/setprefs?sig=0_EXP3uE8ZarTmI-i6tnDuC_xZnYU%3D&amp;hl=zh-CN&amp;source=homepage&amp;sa=X&amp;ved=0ahUKEwj2u7Cn653ZAhXIvo8KHdaQB50Q2ZgBCAU\">&#20013;&#25991;(&#31616;&#20307;)</a>  <a href=\"http://www.google.com.sg/setprefs?sig=0_EXP3uE8ZarTmI-i6tnDuC_xZnYU%3D&amp;hl=ms&amp;source=homepage&amp;sa=X&amp;ved=0ahUKEwj2u7Cn653ZAhXIvo8KHdaQB50Q2ZgBCAY\">Bahasa Melayu</a>  <a href=\"http://www.google.com.sg/setprefs?sig=0_EXP3uE8ZarTmI-i6tnDuC_xZnYU%3D&amp;hl=ta&amp;source=homepage&amp;sa=X&amp;ved=0ahUKEwj2u7Cn653ZAhXIvo8KHdaQB50Q2ZgBCAc\">&#2980;&#2990;&#3007;&#2996;&#3021;</a> </div></div></div><span id=\"footer\"><div style=\"font-size:10pt\"><div style=\"margin:19px auto;text-align:center\" id=\"fll\"><a href=\"/intl/en/ads/\">Advertising\\xa0Programs</a><a href=\"http://www.google.com.sg/intl/en/services/\">Business Solutions</a><a href=\"https://plus.google.com/104671753009501992085\" rel=\"publisher\">+Google</a><a href=\"/intl/en/about.html\">About Google</a><a href=\"http://www.google.com.sg/setprefdomain?prefdom=US&amp;sig=__dHRA_or-ZZyD6uit-4zL5YmYHCQ%3D\" id=\"fehl\">Google.com</a></div></div><p style=\"color:#767676;font-size:8pt\">&copy; 2018 - <a href=\"/intl/en/policies/privacy/\">Privacy</a> - <a href=\"/intl/en/policies/terms/\">Terms</a></p></span></center><script nonce=\"JjTDlJcCKO7ETFXowNQKRQ==\">(function(){window.google.cdo={height:0,width:0};(function(){var a=window.innerWidth,b=window.innerHeight;if(!a||!b){var c=window.document,d=\"CSS1Compat\"==c.compatMode?c.documentElement:c.body;a=d.clientWidth;b=d.clientHeight}a&&b&&(a!=google.cdo.width||b!=google.cdo.height)&&google.log(\"\",\"\",\"/client_204?&atyp=i&biw=\"+a+\"&bih=\"+b+\"&ei=\"+google.kEI);}).call(this);})();</script><div id=\"xjsd\"></div><div id=\"xjsi\"><script nonce=\"JjTDlJcCKO7ETFXowNQKRQ==\">(function(){function c(b){window.setTimeout(function(){var a=document.createElement(\"script\");a.src=b;google.timers&&google.timers.load.t&&google.tick(\"load\",{gen204:\"xjsls\",clearcut:31});document.getElementById(\"xjsd\").appendChild(a)},0)}google.dljp=function(b,a){google.xjsu=b;c(a)};google.dlj=c;}).call(this);if(!google.xjs){window._=window._||{};window._DumpException=window._._DumpException=function(e){throw e};google.dljp(\\'/xjs/_/js/k=xjs.hp.en._UMPhYkvnXU.O/m=sb_he,d/am=AEA/rt=j/d=1/t=zcms/rs=ACT90oFd7uRBi4IE_KDefJ-xCVXJKlyMHA\\',\\'/xjs/_/js/k=xjs.hp.en._UMPhYkvnXU.O/m=sb_he,d/am=AEA/rt=j/d=1/t=zcms/rs=ACT90oFd7uRBi4IE_KDefJ-xCVXJKlyMHA\\');google.xjs=1;}google.pmc={\"sb_he\":{\"agen\":true,\"cgen\":true,\"client\":\"heirloom-hp\",\"dh\":true,\"dhqt\":true,\"ds\":\"\",\"ffql\":\"en\",\"fl\":true,\"host\":\"google.com.sg\",\"isbh\":28,\"jsonp\":true,\"msgs\":{\"cibl\":\"Clear Search\",\"dym\":\"Did you mean:\",\"lcky\":\"I&#39;m Feeling Lucky\",\"lml\":\"Learn more\",\"oskt\":\"Input tools\",\"psrc\":\"This search was removed from your <a href=\"/history\">Web History</a>\",\"psrl\":\"Remove\",\"sbit\":\"Search by image\",\"srch\":\"Google Search\"},\"nds\":true,\"ovr\":{},\"pq\":\"\",\"refpd\":true,\"rfs\":[],\"sbpl\":24,\"sbpr\":24,\"scd\":10,\"sce\":5,\"stok\":\"SxUmUhhnIUIZt4IzVdPLpd_Lj9I\"},\"d\":{},\"YFCs/g\":{}};google.x(null,function(){});(function(){var r=[];google.plm(r);})();(function(){var ctx=[]\\n;google.jsc && google.jsc.x(ctx);})();</script></div></body></html>'"
      ]
     },
     "execution_count": 3,
     "metadata": {},
     "output_type": "execute_result"
    }
   ],
   "source": [
    "html"
   ]
  },
  {
   "cell_type": "markdown",
   "metadata": {},
   "source": [
    "# Helper function to convert formatted date to epoch"
   ]
  },
  {
   "cell_type": "code",
   "execution_count": 4,
   "metadata": {},
   "outputs": [],
   "source": [
    "from datetime import datetime\n",
    "import time\n",
    "\n",
    "def get_epoch_timestamp(date_str):\n",
    "    return int(time.mktime(datetime.strptime(date_str, '%Y-%m-%d').timetuple()))\n",
    "# End of get_epoch_timestamp(..)."
   ]
  },
  {
   "cell_type": "code",
   "execution_count": 5,
   "metadata": {
    "scrolled": false
   },
   "outputs": [
    {
     "data": {
      "text/plain": [
       "1451577600"
      ]
     },
     "execution_count": 5,
     "metadata": {},
     "output_type": "execute_result"
    }
   ],
   "source": [
    "get_epoch_timestamp('2016-01-01')"
   ]
  },
  {
   "cell_type": "code",
   "execution_count": 6,
   "metadata": {},
   "outputs": [
    {
     "name": "stdout",
     "output_type": "stream",
     "text": [
      "Epoch of \"2016-01-01\": 1451577600\n"
     ]
    }
   ],
   "source": [
    "print('Epoch of \\\"2016-01-01\\\": %s' % get_epoch_timestamp('2016-01-01'))"
   ]
  },
  {
   "cell_type": "markdown",
   "metadata": {},
   "source": [
    "# Get FB Page JSON Data\n",
    "\n",
    "More info: https://developers.facebook.com/docs/graph-api/using-graph-api/"
   ]
  },
  {
   "cell_type": "markdown",
   "metadata": {},
   "source": [
    "# Getting Facebook API Keys\n",
    "Get your **app_id** and **app_secret**:\n",
    "- Create a Facebook account if you do not already have one.\n",
    "- Go to https://developers.facebook.com/ and log in with your Facebook credentials.\n",
    "- Click on **My Apps** (top right corner)\n",
    "- Select **Add a New App**\n",
    "- Eventually, you will land on the following page:\n",
    "\n",
    "![](images/app_id_dashboard.png)"
   ]
  },
  {
   "cell_type": "markdown",
   "metadata": {},
   "source": [
    "# Code to Get Data from a Facebook Page"
   ]
  },
  {
   "cell_type": "code",
   "execution_count": 7,
   "metadata": {},
   "outputs": [],
   "source": [
    "from datetime import datetime\n",
    "import json\n",
    "import time\n",
    "import urllib.request\n",
    "\n",
    "def get_epoch_timestamp(date_str):\n",
    "    return int(time.mktime(datetime.strptime(date_str, '%Y-%m-%d').timetuple()))\n",
    "# End of get_epoch_timestamp(..).\n",
    "\n",
    "def get_fb_page_json_data(page_id, \n",
    "                          access_token, \n",
    "                          no_of_status_posts=5, \n",
    "                          likes_limit=100, \n",
    "                          comments_limit=100, \n",
    "                          reactions_limit=100, \n",
    "                          start_date=None, end_date=None):\n",
    "    base = \"https://graph.facebook.com/v2.6\"\n",
    "    node = \"/\" + page_id + \"/posts\" \n",
    "    parameters = \"/?fields=message,link,created_time,type,name,id,likes.limit(%s).summary(true),comments.limit(%s).summary(true),reactions.limit(%s).summary(true),shares&limit=%s&access_token=%s\" % (likes_limit, comments_limit, reactions_limit, no_of_status_posts, access_token)\n",
    "    if start_date is not None:\n",
    "        parameters += '&since=%d' % get_epoch_timestamp(start_date)\n",
    "    if end_date is not None:\n",
    "        parameters += '&until=%d' % (get_epoch_timestamp(end_date) + 24 * 3600 - 1)\n",
    "    url = base + node + parameters\n",
    "    print('URL:\\n%s' % url)\n",
    "    request = urllib.request.Request(url)\n",
    "    response = urllib.request.urlopen(request)\n",
    "    return response.read().decode('utf-8')"
   ]
  },
  {
   "cell_type": "code",
   "execution_count": 8,
   "metadata": {},
   "outputs": [],
   "source": [
    "app_id     = '808617492679338'                  # PLEASE USE YOUR OWN\n",
    "app_secret = 'f6bf833565e982767677ab89bb935797' # PLEASE USE YOUR OWN\n",
    "page_id    = 'leehsienloong'                    # 'leehsienloong' # 'StarbucksSingapore' # 'sohruiyong' "
   ]
  },
  {
   "cell_type": "code",
   "execution_count": 9,
   "metadata": {},
   "outputs": [
    {
     "data": {
      "text/plain": [
       "'808617492679338|f6bf833565e982767677ab89bb935797'"
      ]
     },
     "execution_count": 9,
     "metadata": {},
     "output_type": "execute_result"
    }
   ],
   "source": [
    "# Another way to piece 2 strings together (with a \"pipe\" character in the middle)\n",
    "access_token = app_id + '|' +  app_secret\n",
    "access_token"
   ]
  },
  {
   "cell_type": "code",
   "execution_count": 11,
   "metadata": {},
   "outputs": [
    {
     "name": "stdout",
     "output_type": "stream",
     "text": [
      "URL:\n",
      "https://graph.facebook.com/v2.6/leehsienloong/posts/?fields=message,link,created_time,type,name,id,likes.limit(100).summary(true),comments.limit(100).summary(true),reactions.limit(100).summary(true),shares&limit=3&access_token=808617492679338|f6bf833565e982767677ab89bb935797&since=1420041600&until=1480607999\n"
     ]
    }
   ],
   "source": [
    "access_token = '%s|%s' % (app_id, app_secret)\n",
    "\n",
    "json_data = get_fb_page_json_data(page_id, access_token, \n",
    "                                  no_of_status_posts=3, \n",
    "                                  start_date='2015-01-01', end_date='2016-12-01')"
   ]
  },
  {
   "cell_type": "markdown",
   "metadata": {},
   "source": [
    "### Tip: Preview JSON Strings at http://jsonviewer.stack.hu"
   ]
  },
  {
   "cell_type": "markdown",
   "metadata": {},
   "source": [
    "### Convert JSON String to Dictionary Object"
   ]
  },
  {
   "cell_type": "code",
   "execution_count": 12,
   "metadata": {
    "scrolled": false
   },
   "outputs": [],
   "source": [
    "import json\n",
    "\n",
    "# Convert from JSON string to Dictionary object\n",
    "dict_data = json.loads(json_data)"
   ]
  },
  {
   "cell_type": "code",
   "execution_count": 13,
   "metadata": {},
   "outputs": [
    {
     "data": {
      "text/plain": [
       "dict"
      ]
     },
     "execution_count": 13,
     "metadata": {},
     "output_type": "execute_result"
    }
   ],
   "source": [
    "type(dict_data)"
   ]
  },
  {
   "cell_type": "code",
   "execution_count": 14,
   "metadata": {},
   "outputs": [
    {
     "data": {
      "text/plain": [
       "3"
      ]
     },
     "execution_count": 14,
     "metadata": {},
     "output_type": "execute_result"
    }
   ],
   "source": [
    "len(dict_data['data'])"
   ]
  },
  {
   "cell_type": "code",
   "execution_count": 15,
   "metadata": {},
   "outputs": [
    {
     "data": {
      "text/plain": [
       "[{'comments': {'data': [{'created_time': '2016-12-01T13:06:09+0000',\n",
       "     'id': '1284900154906021_1284923291570374',\n",
       "     'message': 'Brilliant. Terrific work and thanks for sharing. Goes to prove why Singapore is second to none in execution and transparency.'},\n",
       "    {'created_time': '2016-12-01T13:19:17+0000',\n",
       "     'id': '1284900154906021_1284934018235968',\n",
       "     'message': 'Amazing investigation! Hats off to the whole team who worked hand in hand to resolve this issue within a short period of time.'},\n",
       "    {'created_time': '2016-12-01T15:22:59+0000',\n",
       "     'id': '1284900154906021_1285115971551106',\n",
       "     'message': 'I am impressed by so many support ur views n not sure they understand what u hv posted like a zig zag graph. For me very simple, is either human aheas in control of technology or we just blindly follow technology without consideration to human ability n capability so just let me know where we are? Public can judge whether money is use wisely n effectively for the people n not making Singapore so called world class or first class but lack human ability n capability.'},\n",
       "    {'created_time': '2016-12-01T15:48:00+0000',\n",
       "     'id': '1284900154906021_1285164674879569',\n",
       "     'message': 'Awesome job! The team deserve our applause with respect. It is always easier to give comment which define the mediocre grp but the outstanding ones are those who solve the problem and strive fwd!'},\n",
       "    {'created_time': '2016-12-01T13:03:27+0000',\n",
       "     'id': '1284900154906021_1284920878237282',\n",
       "     'message': 'Must get these brainy Engineers / Technologists to marry and have as many kids as possible!!! ;-)'},\n",
       "    {'created_time': '2016-12-01T23:41:36+0000',\n",
       "     'id': '1284900154906021_1285657868163583',\n",
       "     'message': 'Though I do not know how to read and analyze the graph but I totally agree with you that teamwork is important. One is limited and weak but a team in one noble objective is formidable and powerful'},\n",
       "    {'created_time': '2016-12-01T13:37:09+0000',\n",
       "     'id': '1284900154906021_1284957934900243',\n",
       "     'message': 'As a whole our MRT faults had occurred more than we can count, so we surely want to see some better solutions how to run better than HK MTR , and how our maintenance can expedite the repair to get the lines running. We noticed lines breakdown at many times happened during the rush hours and it can be quite frustrating. We sincerely want to see better results. No doubt our team had tried their very best to calm the commuters but the staff handling at some stations are still not well trained to control the chaotic situation.'},\n",
       "    {'created_time': '2016-12-01T20:34:21+0000',\n",
       "     'id': '1284900154906021_1285431724852864',\n",
       "     'message': \"Great job by the engineers. Many people do not understand why sometimes it takes time to resolve technical issues. These people dun understand that engineers need to replicate the fault and then they will be able to come out with solutions to solve them, especially if it's a new fault or system, you are bound to get many such incidents. It's like you just got a new car, and you experienced some weird issues and you highlighted it to your car mechanic. If he never come across such issues with this new car before, it will take him time to try recreate the fault or experienced it himself before he can shortlist the number of problems or steps gone wrong to solve the problem.\"},\n",
       "    {'created_time': '2016-12-01T20:42:36+0000',\n",
       "     'id': '1284900154906021_1285449934851043',\n",
       "     'message': 'Wow!!! Impressive work done! Why I feel like to become a scientist after reading this as I can mostly understand what are the logic behind. Clap clap clap...'},\n",
       "    {'created_time': '2016-12-01T15:30:22+0000',\n",
       "     'id': '1284900154906021_1285131134882923',\n",
       "     'message': 'Sir, tbh, on a flip side it shows people be it in operator or in LTA are not familiar in their own work i.e. runtime of trains, how it turnaround, etc.\\n\\nSometimes I find that people are just complicating matters for themselves.'},\n",
       "    {'created_time': '2016-12-01T13:10:05+0000',\n",
       "     'id': '1284900154906021_1284926301570073',\n",
       "     'message': 'This is currently the most popular topic on Hacker News: https://news.ycombinator.com/item?id=13078124'},\n",
       "    {'created_time': '2016-12-01T13:24:54+0000',\n",
       "     'id': '1284900154906021_1284939214902115',\n",
       "     'message': 'Great investigation. much appreciate you as our PM able to understand such technical detail study.'},\n",
       "    {'created_time': '2017-01-20T18:20:44+0000',\n",
       "     'id': '1284900154906021_1340225699373466',\n",
       "     'message': 'I did a project at a hospital in Melbourne and the Aussie contact I worked with realized that I was someone who had lived in and was based out of Singapore for many years. He couldn\\'t help but exclaim to me just how impressed he was with how things worked. He said it was the Ideal or Model Society.\\n\\nI also have a friend from Spain who also lives in Singapore and he too says \"Singapur es una ciudad muy fácil.\" (\"Singapore is an easy city.\") --- essentially to emphasize just how efficient and user-friendly it is.\\n\\nSingapore has inspired many of us to want to make our own countries improve. Singapore showed to us that IT CAN BE DONE.\\n\\nCongratulations to Singapore for being the Model/Ideal State from the point of view of many objective observers.'},\n",
       "    {'created_time': '2016-12-01T12:43:47+0000',\n",
       "     'id': '1284900154906021_1284905968238773',\n",
       "     'message': 'This is amazing! Analytics put to use like this is a technology feat...proud of our data scientists'},\n",
       "    {'created_time': '2016-12-01T13:05:39+0000',\n",
       "     'id': '1284900154906021_1284922458237124',\n",
       "     'message': \"It's those pesky rebels again and their Rogue train!!! Use the at-ats at them (kidding) 😂 😁 very interesting data analysis\"},\n",
       "    {'created_time': '2016-12-02T04:37:39+0000',\n",
       "     'id': '1284900154906021_1286011884794848',\n",
       "     'message': \"From industry point view, it's great troubleshooting work and get the direct cause. But it's still far away from systematic root cause and also need dig it out and take preventive action.\"},\n",
       "    {'created_time': '2016-12-01T13:21:57+0000',\n",
       "     'id': '1284900154906021_1284935928235777',\n",
       "     'message': 'Singaporean is gifted to have pap as their guardian angles than now and forever lky lhl and company may god bless them for taking care of the nation'},\n",
       "    {'created_time': '2016-12-02T17:40:13+0000',\n",
       "     'id': '1284900154906021_1286808254715211',\n",
       "     'message': 'Very good job done! You guys should come to Stockholm Sweden and solve the malfunctioning signal system on our new street trams system.'},\n",
       "    {'created_time': '2016-12-01T14:18:23+0000',\n",
       "     'id': '1284900154906021_1285023428227027',\n",
       "     'message': 'Interesting but sad that it is a reactive measure rather than a preventive one. Is there no other way to detect a faulty train before it is put into operation?'},\n",
       "    {'created_time': '2016-12-01T14:47:21+0000',\n",
       "     'id': '1284900154906021_1285071984888838',\n",
       "     'message': 'Best real life example for someone to learn python ..extremely impressive'},\n",
       "    {'created_time': '2016-12-01T13:16:32+0000',\n",
       "     'id': '1284900154906021_1284930981569605',\n",
       "     'message': 'Fantastique piece of work! Love data, always has something to reveal!!'},\n",
       "    {'created_time': '2016-12-01T14:00:54+0000',\n",
       "     'id': '1284900154906021_1284980371564666',\n",
       "     'message': 'Awesome investigation 👏👏and remarkable identity and support by ever smiling PM Lee👏👏'},\n",
       "    {'created_time': '2016-12-02T09:00:32+0000',\n",
       "     'id': '1284900154906021_1286212928108077',\n",
       "     'message': 'Thank u for sharing Sir and thank u very much for the team working so hard for us. Well done.'},\n",
       "    {'created_time': '2016-12-01T14:08:00+0000',\n",
       "     'id': '1284900154906021_1284985678230802',\n",
       "     'message': 'Excellent analysis...\\nA big Thank to the research team !👏🏻👏🏻👏🏻'},\n",
       "    {'created_time': '2016-12-02T08:11:45+0000',\n",
       "     'id': '1284900154906021_1286185184777518',\n",
       "     'message': 'In awe of our Engineers problem solving capabilities. A job well done. Give them all an extra bonus. They deserved it.'},\n",
       "    {'created_time': '2016-12-03T01:01:49+0000',\n",
       "     'id': '1284900154906021_1287332941329409',\n",
       "     'message': 'It says the code was written 5 nov 2016. Today is 3 nov 2016. \\n\\nForget about the algorithms, just look at the dates, they are way advance than I thought !'},\n",
       "    {'created_time': '2016-12-01T15:12:29+0000',\n",
       "     'id': '1284900154906021_1285096028219767',\n",
       "     'message': 'Wonder if Mediacorp is going to be inspired by this and create a drama out of it!'},\n",
       "    {'created_time': '2016-12-01T15:42:51+0000',\n",
       "     'id': '1284900154906021_1285155741547129',\n",
       "     'message': 'Hummm i hope they can solve all other problems rather then looking into how they solve 1 breakdown.'},\n",
       "    {'created_time': '2016-12-01T13:03:32+0000',\n",
       "     'id': '1284900154906021_1284920998237270',\n",
       "     'message': 'Amazing workout and Team work. This data will help the R&D team in future.'},\n",
       "    {'created_time': '2016-12-04T16:46:12+0000',\n",
       "     'id': '1284900154906021_1289982194397817',\n",
       "     'message': \"Well done👍😍 data analysis is a very important skill in new world. Now I've activated them to analyze Singtel broadband failure 😜🍻🍾😝\"},\n",
       "    {'created_time': '2016-12-01T22:09:43+0000',\n",
       "     'id': '1284900154906021_1285585888170781',\n",
       "     'message': 'Mr Lee, thank u for sharing.Mr Ng and his teams have done a good job.'},\n",
       "    {'created_time': '2016-12-01T14:36:51+0000',\n",
       "     'id': '1284900154906021_1285063268223043',\n",
       "     'message': 'Wow, impressive to understand how this mystery was solved using such methodical data analysis. Simply brilliant.'},\n",
       "    {'created_time': '2016-12-01T13:35:25+0000',\n",
       "     'id': '1284900154906021_1284955644900472',\n",
       "     'message': 'Heartening to see refreshing post of innovation and collaboration to move civilisation ahead instead of negative backward thinking incidents'},\n",
       "    {'created_time': '2016-12-02T12:14:30+0000',\n",
       "     'id': '1284900154906021_1286419211420782',\n",
       "     'message': 'Mark Richmund de Leon Kuya Mark, you might find this interesting 😊'},\n",
       "    {'created_time': '2016-12-02T03:21:50+0000',\n",
       "     'id': '1284900154906021_1285957821466921',\n",
       "     'message': 'This for putting the Circle Line on tract again! Appreciated!'},\n",
       "    {'created_time': '2016-12-01T13:44:49+0000',\n",
       "     'id': '1284900154906021_1284968094899227',\n",
       "     'message': 'Only took them a few months to figure it out, and after two big disruptions....'},\n",
       "    {'created_time': '2017-01-20T08:48:22+0000',\n",
       "     'id': '1284900154906021_1339855869410449',\n",
       "     'message': 'Teasing and enthralling recount the data story! Remarkable work by the Data Scientists of the Govt. of Singapore.'},\n",
       "    {'created_time': '2016-12-01T14:25:34+0000',\n",
       "     'id': '1284900154906021_1285040484891988',\n",
       "     'message': 'Im convinced that I live in the coolest 😎 country in the world 🌎 Love ❤️ 🇸🇬'},\n",
       "    {'created_time': '2016-12-01T12:50:36+0000',\n",
       "     'id': '1284900154906021_1284910721571631',\n",
       "     'message': 'This is our Singaporean \"Rogue One\"!'},\n",
       "    {'created_time': '2016-12-02T10:27:18+0000',\n",
       "     'id': '1284900154906021_1286267938102576',\n",
       "     'message': 'Taquin Ho , is data analytics a national sport in Singapore?'},\n",
       "    {'created_time': '2016-12-01T13:45:09+0000',\n",
       "     'id': '1284900154906021_1284968468232523',\n",
       "     'message': 'Really excellent. Very very real life modern problem solving using data and well worth highlighting and celebrating. Well done SG.'},\n",
       "    {'created_time': '2016-12-02T01:43:48+0000',\n",
       "     'id': '1284900154906021_1285804211482282',\n",
       "     'message': 'Wow, unbelievable Mr Ng Eng Hen ,I salute to you n ur TEAM WORK how to MR LKY brought HIS TEAM UP !! Although is not your BUSINESS or duty but u take it HARD TO BE PART 🇸🇬 regardlessly 🙏🏻'},\n",
       "    {'created_time': '2016-12-02T02:32:41+0000',\n",
       "     'id': '1284900154906021_1285905908138779',\n",
       "     'message': 'Terrific job accomplished by the team who fixed this 👏'},\n",
       "    {'created_time': '2016-12-01T13:00:56+0000',\n",
       "     'id': '1284900154906021_1284918704904166',\n",
       "     'message': ''},\n",
       "    {'created_time': '2016-12-01T13:59:07+0000',\n",
       "     'id': '1284900154906021_1284979318231438',\n",
       "     'message': '大开眼界\\n\\nThere is so much to learn in this world'},\n",
       "    {'created_time': '2016-12-01T14:47:30+0000',\n",
       "     'id': '1284900154906021_1285072111555492',\n",
       "     'message': 'Excellent work 👏🏻👏🏻👏🏻'},\n",
       "    {'created_time': '2016-12-02T11:49:39+0000',\n",
       "     'id': '1284900154906021_1286368708092499',\n",
       "     'message': 'Brilliant!'},\n",
       "    {'created_time': '2016-12-01T16:47:58+0000',\n",
       "     'id': '1284900154906021_1285242621538441',\n",
       "     'message': 'WOW!!!'},\n",
       "    {'created_time': '2016-12-01T14:31:45+0000',\n",
       "     'id': '1284900154906021_1285055138223856',\n",
       "     'message': 'It was PV46.'},\n",
       "    {'created_time': '2016-12-01T15:04:47+0000',\n",
       "     'id': '1284900154906021_1285090908220279',\n",
       "     'message': 'Awesome!'},\n",
       "    {'created_time': '2016-12-01T13:07:08+0000',\n",
       "     'id': '1284900154906021_1284924048236965',\n",
       "     'message': ''},\n",
       "    {'created_time': '2016-12-05T05:37:30+0000',\n",
       "     'id': '1284900154906021_1290922934303743',\n",
       "     'message': ''},\n",
       "    {'created_time': '2016-12-01T14:57:30+0000',\n",
       "     'id': '1284900154906021_1285082898221080',\n",
       "     'message': 'Thumbs-up for the good work!🖒🖒Proud of you team.'},\n",
       "    {'created_time': '2016-12-01T14:10:44+0000',\n",
       "     'id': '1284900154906021_1284992924896744',\n",
       "     'message': 'Wow !!! Awesome indeed 😁😁👍👍'},\n",
       "    {'created_time': '2016-12-01T12:58:40+0000',\n",
       "     'id': '1284900154906021_1284916984904338',\n",
       "     'message': 'Thank you Mr Lee'},\n",
       "    {'created_time': '2016-12-01T12:45:15+0000',\n",
       "     'id': '1284900154906021_1284906631572040',\n",
       "     'message': 'My sincere congratulations to the team.👏👏👏'},\n",
       "    {'created_time': '2016-12-03T13:38:55+0000',\n",
       "     'id': '1284900154906021_1288177631244940',\n",
       "     'message': 'Thank for sharing'},\n",
       "    {'created_time': '2016-12-01T14:27:47+0000',\n",
       "     'id': '1284900154906021_1285045748224795',\n",
       "     'message': 'Thank you very much for sharing.'},\n",
       "    {'created_time': '2016-12-01T14:57:48+0000',\n",
       "     'id': '1284900154906021_1285083008221069',\n",
       "     'message': ''},\n",
       "    {'created_time': '2016-12-01T12:44:26+0000',\n",
       "     'id': '1284900154906021_1284906234905413',\n",
       "     'message': 'Awesome use of technology.'},\n",
       "    {'created_time': '2016-12-01T12:42:15+0000',\n",
       "     'id': '1284900154906021_1284905101572193',\n",
       "     'message': 'Well done 👍🏻'},\n",
       "    {'created_time': '2016-12-01T12:49:31+0000',\n",
       "     'id': '1284900154906021_1284909858238384',\n",
       "     'message': 'Cool.'},\n",
       "    {'created_time': '2016-12-01T15:42:45+0000',\n",
       "     'id': '1284900154906021_1285155658213804',\n",
       "     'message': 'awesome'},\n",
       "    {'created_time': '2016-12-01T12:51:09+0000',\n",
       "     'id': '1284900154906021_1284910991571604',\n",
       "     'message': 'Amazing to read this!! Good work by the team of students!!'},\n",
       "    {'created_time': '2016-12-01T12:58:55+0000',\n",
       "     'id': '1284900154906021_1284917138237656',\n",
       "     'message': 'Smart People. Smart Nation.Good RCA.'},\n",
       "    {'created_time': '2016-12-01T14:17:38+0000',\n",
       "     'id': '1284900154906021_1285021518227218',\n",
       "     'message': 'Well done..👍'},\n",
       "    {'created_time': '2016-12-01T18:32:22+0000',\n",
       "     'id': '1284900154906021_1285327514863285',\n",
       "     'message': 'mus be promo for new star wars film.. wakakaka'},\n",
       "    {'created_time': '2016-12-01T13:28:47+0000',\n",
       "     'id': '1284900154906021_1284948354901201',\n",
       "     'message': 'Wow'},\n",
       "    {'created_time': '2016-12-01T14:31:52+0000',\n",
       "     'id': '1284900154906021_1285055501557153',\n",
       "     'message': 'Kudos to the whole team 👍🏻👍🏻'},\n",
       "    {'created_time': '2016-12-01T12:58:26+0000',\n",
       "     'id': '1284900154906021_1284916794904357',\n",
       "     'message': ''},\n",
       "    {'created_time': '2016-12-01T16:15:02+0000',\n",
       "     'id': '1284900154906021_1285218844874152',\n",
       "     'message': 'very impressive'},\n",
       "    {'created_time': '2016-12-01T14:22:07+0000',\n",
       "     'id': '1284900154906021_1285032724892764',\n",
       "     'message': 'Great detective work..great application..great guys..'},\n",
       "    {'created_time': '2016-12-01T14:02:48+0000',\n",
       "     'id': '1284900154906021_1284981781564525',\n",
       "     'message': ''},\n",
       "    {'created_time': '2016-12-01T14:37:49+0000',\n",
       "     'id': '1284900154906021_1285063978222972',\n",
       "     'message': '👍🏼'},\n",
       "    {'created_time': '2016-12-02T16:30:03+0000',\n",
       "     'id': '1284900154906021_1286714854724551',\n",
       "     'message': 'Brilliant. Singapore is the place for R& R. You have great brains there PM Loong ji.'},\n",
       "    {'created_time': '2016-12-02T15:42:50+0000',\n",
       "     'id': '1284900154906021_1286643278065042',\n",
       "     'message': 'Singapore leader talks about data. Comparing with the Philippine President.'},\n",
       "    {'created_time': '2016-12-02T09:07:24+0000',\n",
       "     'id': '1284900154906021_1286215924774444',\n",
       "     'message': 'Brilliant job!!!!!'},\n",
       "    {'created_time': '2016-12-01T13:45:47+0000',\n",
       "     'id': '1284900154906021_1284969241565779',\n",
       "     'message': '👍😘'},\n",
       "    {'created_time': '2016-12-01T13:12:40+0000',\n",
       "     'id': '1284900154906021_1284928498236520',\n",
       "     'message': 'Excellent analysis!'},\n",
       "    {'created_time': '2016-12-01T15:44:12+0000',\n",
       "     'id': '1284900154906021_1285156711547032',\n",
       "     'message': 'Well done Sir'},\n",
       "    {'created_time': '2016-12-01T23:34:00+0000',\n",
       "     'id': '1284900154906021_1285644881498215',\n",
       "     'message': \"Mia Hassoun, this one's for you!\"},\n",
       "    {'created_time': '2016-12-01T14:59:12+0000',\n",
       "     'id': '1284900154906021_1285083728220997',\n",
       "     'message': 'Gary Peh data, data and more data!'},\n",
       "    {'created_time': '2016-12-01T12:55:40+0000',\n",
       "     'id': '1284900154906021_1284915094904527',\n",
       "     'message': 'Nice article'},\n",
       "    {'created_time': '2016-12-01T19:24:04+0000',\n",
       "     'id': '1284900154906021_1285365541526149',\n",
       "     'message': '?'},\n",
       "    {'created_time': '2016-12-01T13:06:05+0000',\n",
       "     'id': '1284900154906021_1284923248237045',\n",
       "     'message': '👍'},\n",
       "    {'created_time': '2016-12-01T13:31:38+0000',\n",
       "     'id': '1284900154906021_1284952514900785',\n",
       "     'message': 'Great work! I am sure you have eased the lives of many Singaporeans who take the MRT on a daily basis.'},\n",
       "    {'created_time': '2016-12-01T18:22:30+0000',\n",
       "     'id': '1284900154906021_1285320108197359',\n",
       "     'message': 'No wonder it was a rogue train .... it was going zig zag on the Circle Line !! 😂'},\n",
       "    {'created_time': '2016-12-01T21:58:10+0000',\n",
       "     'id': '1284900154906021_1285573961505307',\n",
       "     'message': 'For every problem there is solution if you can find a team.'},\n",
       "    {'created_time': '2016-12-03T00:03:20+0000',\n",
       "     'id': '1284900154906021_1287247634671273',\n",
       "     'message': 'alstom should have given procedure to check the well being of a train to smrt. that procedure should include checking for all signal emitted from a train'},\n",
       "    {'created_time': '2016-12-01T13:26:39+0000',\n",
       "     'id': '1284900154906021_1284943281568375',\n",
       "     'message': 'NV read about any pm who is so involved concerned in the day to day running. Well done to the whole team\\n.'},\n",
       "    {'created_time': '2016-12-01T13:32:00+0000',\n",
       "     'id': '1284900154906021_1284952831567420',\n",
       "     'message': \"Well done. Lesson learnt, do not exclude any data before any analysis.  The 'mastermind' will not show up so easily.  Next challenge is to detect rouge train before putting them into service.  Prevention is better than cure.\"},\n",
       "    {'created_time': '2016-12-01T13:17:36+0000',\n",
       "     'id': '1284900154906021_1284932131569490',\n",
       "     'message': 'Brilliant work. This is why SG is a Smart Nation.'},\n",
       "    {'created_time': '2016-12-01T13:36:51+0000',\n",
       "     'id': '1284900154906021_1284957374900299',\n",
       "     'message': ''},\n",
       "    {'created_time': '2016-12-01T19:09:42+0000',\n",
       "     'id': '1284900154906021_1285356111527092',\n",
       "     'message': 'Ong Heng Gnee your dream company'},\n",
       "    {'created_time': '2016-12-01T14:37:46+0000',\n",
       "     'id': '1284900154906021_1285063938222976',\n",
       "     'message': 'Thanks for sharing Sir! Very impressive indeed...thank you Daniel Sim, Lee Shangqian and Clarence Ng ,SMRT,LTA....a remarkable example of the use of data :-)'},\n",
       "    {'created_time': '2016-12-01T14:50:57+0000',\n",
       "     'id': '1284900154906021_1285076668221703',\n",
       "     'message': 'Brilliant !!!'},\n",
       "    {'created_time': '2016-12-01T13:28:44+0000',\n",
       "     'id': '1284900154906021_1284948258234544',\n",
       "     'message': 'Thanks be to the \\nTeam & Scientists~\\nSG ~ TO go go <3\\n\\nCan they solve the System problem with 2 sets of signals ? \\nIt looks funny , \\nif we add in 3 generation train,\\nThen 3 sets of signals ...\\nShould prevent such funny system in advance ... ???'},\n",
       "    {'created_time': '2016-12-02T06:55:00+0000',\n",
       "     'id': '1284900154906021_1286099861452717',\n",
       "     'message': 'Fascinating'},\n",
       "    {'created_time': '2016-12-01T17:29:22+0000',\n",
       "     'id': '1284900154906021_1285278678201502',\n",
       "     'message': 'Impressive 👍'},\n",
       "    {'created_time': '2016-12-01T13:41:15+0000',\n",
       "     'id': '1284900154906021_1284960681566635',\n",
       "     'message': 'Love it!!'}],\n",
       "   'paging': {'cursors': {'after': 'NTgZD', 'before': 'MTYz'},\n",
       "    'next': 'https://graph.facebook.com/v2.12/125845680811480_1284900154906021/comments?access_token=808617492679338%7Cf6bf833565e982767677ab89bb935797&summary=true&limit=100&after=NTgZD'},\n",
       "   'summary': {'can_comment': False, 'order': 'ranked', 'total_count': 163}},\n",
       "  'created_time': '2016-12-01T12:34:47+0000',\n",
       "  'id': '125845680811480_1284900154906021',\n",
       "  'likes': {'data': [],\n",
       "   'paging': {'cursors': {'after': 'MTAxNTQ0NjAzODQwNDI3MDYZD',\n",
       "     'before': 'MTAxNTQ5OTE2NzU3MDI0NDcZD'},\n",
       "    'next': 'https://graph.facebook.com/v2.12/125845680811480_1284900154906021/likes?access_token=808617492679338%7Cf6bf833565e982767677ab89bb935797&summary=true&limit=100&after=MTAxNTQ0NjAzODQwNDI3MDYZD'},\n",
       "   'summary': {'can_like': False, 'has_liked': False, 'total_count': 6025}},\n",
       "  'link': 'https://medium.com/m/global-identity?redirectUrl=https%3A%2F%2Fblog.data.gov.sg%2Fhow-we-caught-the-circle-line-rogue-train-with-data-79405c86ab6a#.xh25ybtd2',\n",
       "  'message': 'Two weeks ago, Ng Eng Hen posted on Facebook (bit.ly/2gLCl4n) how a cross-agency team identified a rogue MRT train as the cause of the Circle Line disruptions. Here is a blog by data scientists at GovTech (Government Technology Agency of Singapore) explaining how they processed the data, plotted it graphically, and solved the mystery.\\n\\nIt is a fascinating account, demonstrating close teamwork, sharp analysis, and a never-say-die attitude. This is how a #SmartNation should use data to solve real-world problems. Proud of the team’s good work, and a big thank you to all the officers who worked so hard to crack the puzzle! –  LHL',\n",
       "  'name': 'How the Circle Line rogue train was caught with data',\n",
       "  'reactions': {'data': [],\n",
       "   'paging': {'cursors': {'after': 'TVRFek5qSTFOemswTnpveE5EZA3dPVEEwTWpJME9qSTFOREE1TmpFMk1UTT0ZD',\n",
       "     'before': 'TmpnMU5ESXlORFEyT2pFMU1ESXlNekV3TWpNNk1qVTBNRGsyTVRZAeE13PT0ZD'},\n",
       "    'next': 'https://graph.facebook.com/v2.12/125845680811480_1284900154906021/reactions?access_token=808617492679338%7Cf6bf833565e982767677ab89bb935797&summary=true&limit=100&after=TVRFek5qSTFOemswTnpveE5EZA3dPVEEwTWpJME9qSTFOREE1TmpFMk1UTT0ZD'},\n",
       "   'summary': {'total_count': 6444, 'viewer_reaction': 'NONE'}},\n",
       "  'shares': {'count': 1475},\n",
       "  'type': 'link'},\n",
       " {'comments': {'data': [{'created_time': '2016-12-01T04:26:52+0000',\n",
       "     'id': '1283389658390404_1284508331611870',\n",
       "     'message': \"Hmm...not easy. \\n\\n(Literally) millions of people on this island have ties to Malaysia. They are part of our past and our future.\\n\\nBut I feel that the political situation there right now is intolerable - the rakyat deserve better.  \\n\\nI understand realpolitik and would not expect to get a running commentary on bilateral relations from my PM. \\n\\nBut I do have a clear expectation that our SG gov't and institutions will stand up to corruption and say and do the right things.\"},\n",
       "    {'created_time': '2016-11-30T11:20:14+0000',\n",
       "     'id': '1283389658390404_1283549845041052',\n",
       "     'message': \"Dear PM Hsien Loong, I also agree with you. Working with neighbours is always better because you don't want them to become enemy. Neighbours must be the better friends. But we must also have powerful friends like USA and Europe because that's the place where God will pass down blessings.....food especially :D\"},\n",
       "    {'created_time': '2016-11-30T10:24:57+0000',\n",
       "     'id': '1283389658390404_1283491081713595',\n",
       "     'message': \"We now have the best relations with Malaysia. The current PM will not build a Crooked Bridge and have accepted the ICJ's decision on Petra Branca that belongs to Singapore. So it's good to treat your neighbour with some respect and appreciation who honours international laws.\"},\n",
       "    {'created_time': '2016-12-01T01:52:20+0000',\n",
       "     'id': '1283389658390404_1284391758290194',\n",
       "     'message': 'Thank you PM and team.This is no easy task due to all the differences you mention above. But one that you want to sustain and nurture...we support this. :-)'},\n",
       "    {'created_time': '2016-11-30T09:10:02+0000',\n",
       "     'id': '1283389658390404_1283396805056356',\n",
       "     'message': 'Malaysia is our neighbor. We have to foster good relationship with our neighbors.'},\n",
       "    {'created_time': '2016-12-01T02:35:31+0000',\n",
       "     'id': '1283389658390404_1284421551620548',\n",
       "     'message': 'Also water piracy right now is still under control...hehe...what i mean is if they can just anyhow justify killing and raping for free, piracy is possible.'},\n",
       "    {'created_time': '2016-11-30T10:07:13+0000',\n",
       "     'id': '1283389658390404_1283468261715877',\n",
       "     'message': 'If not for separation by a signed document, probably by now there would have been no Causeway or 2nd Link but a reclaimed land that is filled up connecting JB to red dot as one land.'},\n",
       "    {'created_time': '2016-11-30T09:05:34+0000',\n",
       "     'id': '1283389658390404_1283393268390043',\n",
       "     'message': 'only money politic,the more you pay the more you get. Malaysia reclaimed land very close to Tuas and cooperate with China to build  seaport.'},\n",
       "    {'created_time': '2016-11-30T11:55:42+0000',\n",
       "     'id': '1283389658390404_1283614385034598',\n",
       "     'message': 'Leaders who are wise...collaborate and benefit the people they lead.'},\n",
       "    {'created_time': '2016-11-30T10:13:34+0000',\n",
       "     'id': '1283389658390404_1283471341715569',\n",
       "     'message': \"If China is going to invest in Malaysia it is going to be hell of an investment.... is not just money alone...did they perform the SWOT analysis...Don't do it just to make us look great. I guess we surpassed that...\"},\n",
       "    {'created_time': '2016-11-30T13:47:24+0000',\n",
       "     'id': '1283389658390404_1283799781682725',\n",
       "     'message': \"The relationship between the two governments is ok but it people's r sometimes ok n sometimes no ok......right?😜\"},\n",
       "    {'created_time': '2016-11-30T12:39:47+0000',\n",
       "     'id': '1283389658390404_1283679568361413',\n",
       "     'message': \"Agree with Mss Kaka! Pls don't build a railway to KL!! 因为有很多对我国不利的影响，对我们的经济，治安，甚至国防，都会造成伤害! 请总理三思!!\"},\n",
       "    {'created_time': '2016-11-30T09:16:46+0000',\n",
       "     'id': '1283389658390404_1283402278389142',\n",
       "     'message': 'The biggest mistake Malaysia has done is kicking Singapore out from the federation!!!'},\n",
       "    {'created_time': '2016-11-30T19:41:18+0000',\n",
       "     'id': '1283389658390404_1284166348312735',\n",
       "     'message': 'Who PM Hsien Loong will meet and talk to are prescheduled months ago. He just followed his schedule to meet up who was he was planned to meet.'},\n",
       "    {'created_time': '2016-11-30T10:59:57+0000',\n",
       "     'id': '1283389658390404_1283533008376069',\n",
       "     'message': 'Good leaders are so important. This little red dot with no resources is the best example.'},\n",
       "    {'created_time': '2016-12-01T04:32:28+0000',\n",
       "     'id': '1283389658390404_1284511158278254',\n",
       "     'message': \"I can understand why HSR and SG's position but can't this be after the impending PRU14? if you know what i meant...\"},\n",
       "    {'created_time': '2016-11-30T09:51:22+0000',\n",
       "     'id': '1283389658390404_1283460988383271',\n",
       "     'message': 'Cheers to our deep and long-standing relations.'},\n",
       "    {'created_time': '2016-11-30T10:48:19+0000',\n",
       "     'id': '1283389658390404_1283527398376630',\n",
       "     'message': 'Good leaders make all the difference.'},\n",
       "    {'created_time': '2016-11-30T11:28:36+0000',\n",
       "     'id': '1283389658390404_1283564051706298',\n",
       "     'message': 'I was there.. nice meeting you Sir'},\n",
       "    {'created_time': '2016-11-30T12:09:48+0000',\n",
       "     'id': '1283389658390404_1283623305033706',\n",
       "     'message': ''},\n",
       "    {'created_time': '2016-11-30T09:11:42+0000',\n",
       "     'id': '1283389658390404_1283398305056206',\n",
       "     'message': '🙏🇸🇬 Great Leader 🇸🇬🙏'},\n",
       "    {'created_time': '2016-11-30T15:19:42+0000',\n",
       "     'id': '1283389658390404_1283910365005000',\n",
       "     'message': 'GO!PM!GO!'},\n",
       "    {'created_time': '2016-11-30T10:59:21+0000',\n",
       "     'id': '1283389658390404_1283532718376098',\n",
       "     'message': 'Do not build a railway to KL. Pls! We must keep for Singapore island be the best.'},\n",
       "    {'created_time': '2016-11-30T09:25:04+0000',\n",
       "     'id': '1283389658390404_1283411178388252',\n",
       "     'message': 'We hope so is good for all the people...'},\n",
       "    {'created_time': '2016-12-03T13:40:29+0000',\n",
       "     'id': '1283389658390404_1288178777911492',\n",
       "     'message': 'Thank for sharing'},\n",
       "    {'created_time': '2016-12-01T08:13:10+0000',\n",
       "     'id': '1283389658390404_1284650541597649',\n",
       "     'message': '今天很残酷，明天很美好！'},\n",
       "    {'created_time': '2016-11-30T14:15:09+0000',\n",
       "     'id': '1283389658390404_1283816568347713',\n",
       "     'message': 'Que sera sera. Whatever will be will be.'},\n",
       "    {'created_time': '2016-12-01T03:32:05+0000',\n",
       "     'id': '1283389658390404_1284470141615689',\n",
       "     'message': 'Thank u sir for sharing.'},\n",
       "    {'created_time': '2016-11-30T12:01:01+0000',\n",
       "     'id': '1283389658390404_1283616991701004',\n",
       "     'message': '👍😘'},\n",
       "    {'created_time': '2016-11-30T11:20:03+0000',\n",
       "     'id': '1283389658390404_1283549721707731',\n",
       "     'message': 'Alhamdulillah, aamiin.'},\n",
       "    {'created_time': '2016-12-01T15:54:01+0000',\n",
       "     'id': '1283389658390404_1285179024878134',\n",
       "     'message': 'Definitely Sir, Everything will b fine Sir .'},\n",
       "    {'created_time': '2016-11-30T10:04:39+0000',\n",
       "     'id': '1283389658390404_1283467481715955',\n",
       "     'message': 'Different perspectives, different time, different circumstances and situations.       \\n\\nWe have been told that all troubles start from the mouth, be it health when we eat or drink; and relationship with others when we talk. \\n\\nNot all know how to control the gap even when about to say a spade is a spade. \\n\\nWhy? \\n\\nPonder deeply.'},\n",
       "    {'created_time': '2016-11-30T12:09:38+0000',\n",
       "     'id': '1283389658390404_1283623195033717',\n",
       "     'message': 'Thats very good and we always thank God  for  countries who has great leaders . Singapore is one of them .  Thank you PM , Mr Lee HL for your sharing .'},\n",
       "    {'created_time': '2016-11-30T10:27:47+0000',\n",
       "     'id': '1283389658390404_1283497771712926',\n",
       "     'message': 'Our founding leaders too hastily wanting a Malaysians Malaysia.'},\n",
       "    {'created_time': '2016-11-30T09:18:23+0000',\n",
       "     'id': '1283389658390404_1283403491722354',\n",
       "     'message': \"You're a one of the great leader in the world.\"},\n",
       "    {'created_time': '2016-11-30T12:22:46+0000',\n",
       "     'id': '1283389658390404_1283657558363614',\n",
       "     'message': '祝李縂理平安健康、智慧雙增、勇猛精進 ！🇸🇬🌞🌝🍀🍀🍀🎉🎉🎉🎈🎈🎈'},\n",
       "    {'created_time': '2016-11-30T12:28:24+0000',\n",
       "     'id': '1283389658390404_1283662741696429',\n",
       "     'message': 'With Malaysia , Not Najib please.'},\n",
       "    {'created_time': '2016-11-30T12:58:06+0000',\n",
       "     'id': '1283389658390404_1283705905025446',\n",
       "     'message': '優秀領導者'},\n",
       "    {'created_time': '2016-11-30T12:18:25+0000',\n",
       "     'id': '1283389658390404_1283653505030686',\n",
       "     'message': ''},\n",
       "    {'created_time': '2016-11-30T09:09:36+0000',\n",
       "     'id': '1283389658390404_1283396491723054',\n",
       "     'message': 'Dear Mr Lee. Thank you for sharing. Noted with thanks.'},\n",
       "    {'created_time': '2016-11-30T13:42:38+0000',\n",
       "     'id': '1283389658390404_1283796501683053',\n",
       "     'message': ''},\n",
       "    {'created_time': '2016-11-30T08:59:50+0000',\n",
       "     'id': '1283389658390404_1283390411723662',\n",
       "     'message': ''},\n",
       "    {'created_time': '2016-11-30T09:07:11+0000',\n",
       "     'id': '1283389658390404_1283393898389980',\n",
       "     'message': ''},\n",
       "    {'created_time': '2016-11-30T09:09:28+0000',\n",
       "     'id': '1283389658390404_1283396385056398',\n",
       "     'message': ''},\n",
       "    {'created_time': '2016-11-30T12:10:58+0000',\n",
       "     'id': '1283389658390404_1283624508366919',\n",
       "     'message': ''},\n",
       "    {'created_time': '2016-11-30T09:58:42+0000',\n",
       "     'id': '1283389658390404_1283465278382842',\n",
       "     'message': 'Im a great admirer of your late father...till now'},\n",
       "    {'created_time': '2016-11-30T09:36:58+0000',\n",
       "     'id': '1283389658390404_1283429751719728',\n",
       "     'message': 'I m please know you'},\n",
       "    {'created_time': '2016-11-30T17:44:23+0000',\n",
       "     'id': '1283389658390404_1284056688323701',\n",
       "     'message': '1SGD=RM 3.1046'},\n",
       "    {'created_time': '2016-12-01T10:26:15+0000',\n",
       "     'id': '1283389658390404_1284747188254651',\n",
       "     'message': 'Good!'},\n",
       "    {'created_time': '2016-11-30T15:43:01+0000',\n",
       "     'id': '1283389658390404_1283924778336892',\n",
       "     'message': 'good leader'},\n",
       "    {'created_time': '2016-12-03T10:28:26+0000',\n",
       "     'id': '1283389658390404_1288005701262133',\n",
       "     'message': ''},\n",
       "    {'created_time': '2016-11-30T20:31:02+0000',\n",
       "     'id': '1283389658390404_1284211104974926',\n",
       "     'message': ''},\n",
       "    {'created_time': '2016-12-01T02:31:09+0000',\n",
       "     'id': '1283389658390404_1284416624954374',\n",
       "     'message': \"Dear Hsien Loong, we got to be very sensitive to the Development  with Myanmar cos of their recent Muslim issues. If this goes on, if Myanmar is on par with Malaysia next time these 2 countries will be at war. Cos they got conflicts. Now they don't have conflicts in this region Yet. Once they are in conflict everyone in trouble. Malaysia must not be agitated. Just sharing my point of small view.\"},\n",
       "    {'created_time': '2016-11-30T10:17:31+0000',\n",
       "     'id': '1283389658390404_1283473005048736',\n",
       "     'message': 'No  comment. Please asked Stephen Covey the correct ways of looking at win-win relationship.'},\n",
       "    {'created_time': '2016-12-01T22:35:22+0000',\n",
       "     'id': '1283389658390404_1285604971502206',\n",
       "     'message': ''},\n",
       "    {'created_time': '2016-12-01T02:47:17+0000',\n",
       "     'id': '1283389658390404_1284430978286272',\n",
       "     'message': \"I was ask almost everywhere abt the signing of agreement to be properly look at so that there won't be misunderstanding from the malays to claim about the H-S Rail by our PM...I told 100% agreed, even though he's chinese but but malay muslim must show the Islam  Knowlegde of Muamalat is important(Wajib). It happened during Muhammad S.A.W was around when he was dojng biz, remember! Muhammad S.A.W wasn't only a Prophet but also a biznesman . If not b'cos of my education level, I'll like to compet for the next President & witness the signing of the this H-S rail agreement b'cos I target or want to live for another 50-60yrs like all the Sufi from the decedent of Al-Habsi who live till 100yrs or more with the guidance of  my Sufi teacher, other Muhammad S.A.W decendant & my Mufti & his  officers.\"},\n",
       "    {'created_time': '2016-11-30T11:21:45+0000',\n",
       "     'id': '1283389658390404_1283550465040990',\n",
       "     'message': ''},\n",
       "    {'created_time': '2016-11-30T15:08:16+0000',\n",
       "     'id': '1283389658390404_1283898735006163',\n",
       "     'message': 'Sir YOUR DAD.....BRAINFLOW OF IDEAS...\\nDO NOT REGRET U R HIS SON.....\\nU CAN MAKE IT OVERFLOW WITH IDEAS .....\\nBELEIVE...WE CAN MAKE IT 100 YRS....KALI.......'},\n",
       "    {'created_time': '2016-11-30T13:15:32+0000',\n",
       "     'id': '1283389658390404_1283740235022013',\n",
       "     'message': 'great pm.hello singapore'},\n",
       "    {'created_time': '2016-12-01T16:23:15+0000',\n",
       "     'id': '1283389658390404_1285226191540084',\n",
       "     'message': 'Nicholas Pillai'},\n",
       "    {'created_time': '2016-11-30T11:20:33+0000',\n",
       "     'id': '1283389658390404_1283549991707704',\n",
       "     'message': 'Rất tốt đẹp'},\n",
       "    {'created_time': '2016-11-30T10:18:26+0000',\n",
       "     'id': '1283389658390404_1283475481715155',\n",
       "     'message': '听说中国在搞新加坡？'}],\n",
       "   'paging': {'cursors': {'after': 'MQZDZD', 'before': 'NzEZD'}},\n",
       "   'summary': {'can_comment': False, 'order': 'ranked', 'total_count': 71}},\n",
       "  'created_time': '2016-11-30T08:57:49+0000',\n",
       "  'id': '125845680811480_1283389658390404',\n",
       "  'likes': {'data': [],\n",
       "   'paging': {'cursors': {'after': 'MTY2NDQ3NzM5MDI0MTg5MwZDZD',\n",
       "     'before': 'ODQ5NDAxODMxODk5NjM3'},\n",
       "    'next': 'https://graph.facebook.com/v2.12/125845680811480_1283389658390404/likes?access_token=808617492679338%7Cf6bf833565e982767677ab89bb935797&summary=true&limit=100&after=MTY2NDQ3NzM5MDI0MTg5MwZDZD'},\n",
       "   'summary': {'can_like': False, 'has_liked': False, 'total_count': 2931}},\n",
       "  'link': 'http://www.bernama.com/bernama/v8/ge/newsgeneral.php?id=1307337',\n",
       "  'message': 'Sat down with Datuk Seri Azman Ujang, Chairman of BERNAMA News Agency, on Monday. We spoke about many things, including Singapore’s deep and long-standing relations with Malaysia.\\n\\nOur two nations share historical, family and cultural links. However we have fundamentally different ideals, systems of government, and approaches to resolving issues. So we must understand and respect each other’s perspectives and views. I am glad that we have made progress on this, and relations are on a good trajectory. This has brought many benefits to both sides in investments, business, connectivity, tourism, and socio-cultural interactions. Hope that the High-Speed Rail linking Singapore with Kuala Lumpur will bring us even closer and build new links between Singaporeans and Malaysians. \\n\\nYou can click on the link below to read the interview.  – LHL',\n",
       "  'name': 'BERNAMA - Singapore Wants More Win-win Cooperation With Malaysia',\n",
       "  'reactions': {'data': [],\n",
       "   'paging': {'cursors': {'after': 'TVRBd01EQXdOVFkyTWpNek1UQTVPakUwT0RBM016azJORGc2TWpVME1EazJNVFl4TXc9PQZDZD',\n",
       "     'before': 'TVRBd01EQTBPRGswT0RReU5Ea3pPakUwT0Rrd05EZA3lORGM2TWpVME1EazJNVFl4TXc9PQZDZD'},\n",
       "    'next': 'https://graph.facebook.com/v2.12/125845680811480_1283389658390404/reactions?access_token=808617492679338%7Cf6bf833565e982767677ab89bb935797&summary=true&limit=100&after=TVRBd01EQXdOVFkyTWpNek1UQTVPakUwT0RBM016azJORGc2TWpVME1EazJNVFl4TXc9PQZDZD'},\n",
       "   'summary': {'total_count': 3014, 'viewer_reaction': 'NONE'}},\n",
       "  'shares': {'count': 152},\n",
       "  'type': 'link'},\n",
       " {'comments': {'data': [{'created_time': '2016-11-30T02:14:16+0000',\n",
       "     'id': '1283105881752115_1283118221750881',\n",
       "     'message': 'Keep Bhutan as the way it is!! Virgin forests, no sky scrapers,large vast countryside, good for holidays,scenic views,next to Nepal!!!'},\n",
       "    {'created_time': '2016-11-30T04:38:34+0000',\n",
       "     'id': '1283105881752115_1283193275076709',\n",
       "     'message': 'Mr PM, will you then stop your minister from converting our pathetic \"green\" land & islands for commercial use? We don\\'t need more shopping centers... we need big areas for the young and old to run 🏃🏽, to stroll 🚶 and to relax'},\n",
       "    {'created_time': '2016-11-30T03:57:52+0000',\n",
       "     'id': '1283105881752115_1283173845078652',\n",
       "     'message': 'Tshering Tobgay .. this gentleman gave one of the most impressive presentation ever on global warming .. welcome to Singapore, Mr Tobgay! It can be hot here..'},\n",
       "    {'created_time': '2016-11-30T15:40:20+0000',\n",
       "     'id': '1283105881752115_1283923718336998',\n",
       "     'message': \"Bhutan is one country where you don't pick up any bad vibes. You just feel rejuvenated the minute you step out of the plane. And the children are so well mannered and spontaneous.\"},\n",
       "    {'created_time': '2016-11-30T04:45:01+0000',\n",
       "     'id': '1283105881752115_1283196778409692',\n",
       "     'message': 'The air in Bhutan is so much better than Singapore as they have strict control on high rise building and conservation of the greens.'},\n",
       "    {'created_time': '2016-11-30T03:21:41+0000',\n",
       "     'id': '1283105881752115_1283152561747447',\n",
       "     'message': \"Sustaining a net carbon sink state for an under developed country is both challenging and impressive. It's a tug of war of the principal desire to progress yet not sacrificing sustainable ecosystems.\"},\n",
       "    {'created_time': '2016-11-30T02:22:44+0000',\n",
       "     'id': '1283105881752115_1283123208417049',\n",
       "     'message': 'Bhutanese are the happiest people in the world...they have the highest GDP in laughter. ......'},\n",
       "    {'created_time': '2016-11-30T11:23:27+0000',\n",
       "     'id': '1283105881752115_1283552758374094',\n",
       "     'message': 'Dear PM: I have visited Bhutan twice this year and if there is any country after Singapore that makes me feel safe as a women is Bhutan. Gender equality is cornerstone to soaring success of Singapore society and it amazed me to see that Bhutan shares similar belief system. Shall wait to see your post when you trek to tiger nest one day!'},\n",
       "    {'created_time': '2016-11-30T05:21:22+0000',\n",
       "     'id': '1283105881752115_1283218185074218',\n",
       "     'message': 'Dear PM Lee, we need to increase no . of our greenery areas and start creating forests, no matter how small! 😂👍'},\n",
       "    {'created_time': '2016-12-01T02:16:19+0000',\n",
       "     'id': '1283105881752115_1284407594955277',\n",
       "     'message': 'Bhutan replaces trees with more trees. We replace trees with buildings and roads. Now we need to arch our head so far back in order to catch a glimpse of the skies. Instead of building so much housing to welcome more foreigners, would the Singapore government pause to consider reducing that number and give us back some trees and skies?'},\n",
       "    {'created_time': '2016-11-30T08:23:54+0000',\n",
       "     'id': '1283105881752115_1283372271725476',\n",
       "     'message': 'There is no reason why we cannot change our attitude towards buildings and infrastructure. I am sad each time I see precious green space torn apart to fit another condominium (like at Dairy Farm Road). This mindset change must begin with our Government, our City Planners and Government Agencies.'},\n",
       "    {'created_time': '2016-11-30T22:34:59+0000',\n",
       "     'id': '1283105881752115_1284278044968232',\n",
       "     'message': 'Bhutan can emulate Singapore as long as the leaders are very committed and dedicated like our leaders. We had witness the tremendous respect on the demise of our late former PM Lee Kuan Yew.'},\n",
       "    {'created_time': '2016-12-16T07:57:11+0000',\n",
       "     'id': '1283105881752115_1306426539420049',\n",
       "     'message': 'Mr Prime Minister,do visit Bhutan.Just came back from Bhutan and we cannot compare Singapore to Bhutan bec they hv a lot of resources.Very strong culture and the people do not think about self.The whole country pray for world peace.I love Bhutan and I plan to visit every year.Many ppl think is expensive but is worth it.I hope Bhutan will open up to the world slowly or the peace will be spoilt.'},\n",
       "    {'created_time': '2016-11-30T03:24:41+0000',\n",
       "     'id': '1283105881752115_1283157011747002',\n",
       "     'message': 'Been to Bhutan twice n have many thoughts on the vast place n make many friends in Bhutan..... cross sharing is wonderful!'},\n",
       "    {'created_time': '2016-12-03T08:30:25+0000',\n",
       "     'id': '1283105881752115_1287927414603295',\n",
       "     'message': \"Bhutan is on top of the World's Happiness Index. Singapore is somewhere at the bottom. We certainly have plenty to learn from them in this aspect. But, Mr Lee, can you first tell us what PM Tobgay said to you that made you so happy already???\"},\n",
       "    {'created_time': '2016-11-30T03:28:55+0000',\n",
       "     'id': '1283105881752115_1283158735080163',\n",
       "     'message': 'Yes Bhutan is the last paradise n Shangri- la on earth.'},\n",
       "    {'created_time': '2016-12-03T06:57:10+0000',\n",
       "     'id': '1283105881752115_1287788927950477',\n",
       "     'message': 'I agree totally with Ms Carol Sim.Stop building condo after condo,building after building until we wont have enough of land for recreational activities n festivities.I m lookin forward to retiring in a green n vibrant environment!!!TOTAL!!'},\n",
       "    {'created_time': '2016-11-30T05:03:24+0000',\n",
       "     'id': '1283105881752115_1283205515075485',\n",
       "     'message': 'Loves their countryside scenery, got chance, will visit Bhutan:)'},\n",
       "    {'created_time': '2016-11-30T15:30:46+0000',\n",
       "     'id': '1283105881752115_1283916781671025',\n",
       "     'message': \"What the heck we need from Bhutan... I admire Bhutan but Mr  Lee, we need our next generations to hv a good live by further offending the Chinese.. Don't do the unnecessary to savage our necessersities... Reminder you are the PM... what you are doing is redandance... What benefit us?  Tell us...\"},\n",
       "    {'created_time': '2016-11-30T05:30:09+0000',\n",
       "     'id': '1283105881752115_1283222201740483',\n",
       "     'message': \"Kuzu zangpo la to Bhutan PM Tshering Tobgay! Welcome to Singapore. Sir, you should visit Bhutan some day. It's a beautiful country. =)\"},\n",
       "    {'created_time': '2016-11-30T04:13:19+0000',\n",
       "     'id': '1283105881752115_1283181748411195',\n",
       "     'message': 'Unfortunately our Transport Minister thinks Bhutan is like Singapore in the 50s...totally contradicts PM.'},\n",
       "    {'created_time': '2016-11-30T20:42:30+0000',\n",
       "     'id': '1283105881752115_1284217881640915',\n",
       "     'message': 'Pardon me, but all this positive press about Bhutan glosses over the dark fact that they ruined the lives of hundreds of thousands of Nepali Bhutanese residents who were kicked out, and forced to live in dire camps for several years before being relocated by the UN. If we are going to praise the country please also know this fact.'},\n",
       "    {'created_time': '2016-11-30T02:02:14+0000',\n",
       "     'id': '1283105881752115_1283111361751567',\n",
       "     'message': 'Both Singapore and Bhutan has lot to learn from each other.'},\n",
       "    {'created_time': '2016-11-30T03:21:22+0000',\n",
       "     'id': '1283105881752115_1283152345080802',\n",
       "     'message': 'I also heard Bhutan is very beautiful, but too costly to visit.'},\n",
       "    {'created_time': '2016-12-01T00:53:15+0000',\n",
       "     'id': '1283105881752115_1284361988293171',\n",
       "     'message': \"Bhutan is a great country because she has great leaders, caring for her people's happiness and her environment. May God preserve this wonderful country.\"},\n",
       "    {'created_time': '2016-11-30T15:24:05+0000',\n",
       "     'id': '1283105881752115_1283912731671430',\n",
       "     'message': 'I think SG has lots to learn from Bhutan than Bhutan has to learn from SG...... hope our government can learn all the good!'},\n",
       "    {'created_time': '2016-11-30T14:17:23+0000',\n",
       "     'id': '1283105881752115_1283818611680842',\n",
       "     'message': 'Dear PM Sir, u should visit Bhutan soon. U will like it👍🙏😊'},\n",
       "    {'created_time': '2017-09-17T07:56:20+0000',\n",
       "     'id': '1283105881752115_1604759236253443',\n",
       "     'message': \"Visited Bhutan last week, and it was truly a unique place due to her strong but benevolent religious beliefs (strictly no killing of any animals), demanding laws protecting the environment and wonderful locals with such pure sincere hearts. However like Singapore it faces many challenges and most daunting I feel is how her younger generation (including monks) navigate the influx of information through social media and the internet. This I'm afraid, if not managed thoughtfully, could erode the very fabric of their society and the foundation of their beliefs, and it won't be long before we start seeing Himalayan versions of monks like Wirapol Sukphol jet-setting around. So I sincerely hope that the leadership will remain incorruptible as I believe it currently is, and good people like PM Tshering Tobgay and wise Kings continue to manage the small little beautiful country and her kind hearted people.\"},\n",
       "    {'created_time': '2016-11-30T02:26:43+0000',\n",
       "     'id': '1283105881752115_1283125208416849',\n",
       "     'message': \"it's our way of show Courtesy that's long withstanding in our Beloved country. .God bless our Nation and Leaders ...People. ..\"},\n",
       "    {'created_time': '2016-11-30T02:44:29+0000',\n",
       "     'id': '1283105881752115_1283135608415809',\n",
       "     'message': 'We might learn from Bhutan in their ways to be a zero carbon country...'},\n",
       "    {'created_time': '2016-11-30T02:54:17+0000',\n",
       "     'id': '1283105881752115_1283139575082079',\n",
       "     'message': \"Mr. P. M. Thanks for keeping us up to date. Though m not in S'pore. at least m updared as to what,s going on in my country. Tq. P. M. A P. M. for all S'poreans. We love you.\"},\n",
       "    {'created_time': '2016-11-30T03:02:33+0000',\n",
       "     'id': '1283105881752115_1283143551748348',\n",
       "     'message': 'Thanks for sharing PM Lee. You should visit Bhutan soon.友谊万岁！'},\n",
       "    {'created_time': '2016-11-30T04:16:28+0000',\n",
       "     'id': '1283105881752115_1283182888411081',\n",
       "     'message': 'Been there last winter, nice and quiet land, the mountain view is different from other places on earth'},\n",
       "    {'created_time': '2016-11-30T09:02:03+0000',\n",
       "     'id': '1283105881752115_1283391181723585',\n",
       "     'message': 'I heard Bhutan is who value happiest, humanity, environment, these are the solid important to humans.'},\n",
       "    {'created_time': '2016-11-30T02:25:47+0000',\n",
       "     'id': '1283105881752115_1283124621750241',\n",
       "     'message': 'Never hv the opportunity or budget to go Bhutan. But from yr description PM is must be clean with the freshness of air from the forest'},\n",
       "    {'created_time': '2016-11-30T13:38:46+0000',\n",
       "     'id': '1283105881752115_1283792391683464',\n",
       "     'message': \"Thank you PM lee for your cordial welcome to our PM. We the Bhutanese have much to learn from Singapore's sucess and follow.\"},\n",
       "    {'created_time': '2016-12-01T04:52:10+0000',\n",
       "     'id': '1283105881752115_1284525638276806',\n",
       "     'message': 'Congratulation on the right way that Bhutan steps forward and still keeping your own traditional way of living, more to cheer to your good leader too.'},\n",
       "    {'created_time': '2016-11-30T17:01:13+0000',\n",
       "     'id': '1283105881752115_1284021308327239',\n",
       "     'message': 'Singapore should emulate Bhutan\\'s \"Gross National Happiness\" philosophy...'},\n",
       "    {'created_time': '2016-11-30T10:07:23+0000',\n",
       "     'id': '1283105881752115_1283468425049194',\n",
       "     'message': 'Attract more visitors to Singapore; promote tourism to increase sales in our country, how can we do it?😀'},\n",
       "    {'created_time': '2016-11-30T03:20:13+0000',\n",
       "     'id': '1283105881752115_1283151598414210',\n",
       "     'message': 'Bhutan is a beautiful place. All should visit if there is an opportunity'},\n",
       "    {'created_time': '2016-11-30T03:06:26+0000',\n",
       "     'id': '1283105881752115_1283144888414881',\n",
       "     'message': 'Happiness is the state of the mind, mind over matters. It does not matter where you live. Whine over everything, unhappiness follow you all the days of your life.'},\n",
       "    {'created_time': '2016-12-01T03:02:11+0000',\n",
       "     'id': '1283105881752115_1284442651618438',\n",
       "     'message': 'Very difficult and long name Bhutan PM has but I like his thinking..very positive guy...'},\n",
       "    {'created_time': '2016-11-30T14:50:28+0000',\n",
       "     'id': '1283105881752115_1283885355007501',\n",
       "     'message': 'Two enlightened leaders of two jewels of nations. The rest of the world could learn a lot from you.'},\n",
       "    {'created_time': '2016-11-30T11:21:39+0000',\n",
       "     'id': '1283105881752115_1283550425040994',\n",
       "     'message': \"Me too! So impressed with the PM's TED talk. Amazing country.\"},\n",
       "    {'created_time': '2016-11-30T11:23:05+0000',\n",
       "     'id': '1283105881752115_1283551785040858',\n",
       "     'message': 'We can both learn many things from each other 🙏 But sir Lee please do visit us soon 🙏'},\n",
       "    {'created_time': '2016-11-30T08:51:09+0000',\n",
       "     'id': '1283105881752115_1283386391724064',\n",
       "     'message': 'You should one fine day \" Land of Happiness 🙏🏻\\nI want to be born there next life if SKY allow . \\nI read heard about YET to visit . Eco ❤️🙏🏻'},\n",
       "    {'created_time': '2016-11-30T11:15:12+0000',\n",
       "     'id': '1283105881752115_1283546801708023',\n",
       "     'message': \"Sad to see many trees that used to line the roads I walk along everyday - gone. It's hot now to walk.\"},\n",
       "    {'created_time': '2016-11-30T06:03:50+0000',\n",
       "     'id': '1283105881752115_1283238288405541',\n",
       "     'message': 'Each tourist must spend US$250 a day covering accommodation, food, transportation, guide'},\n",
       "    {'created_time': '2016-11-30T05:38:04+0000',\n",
       "     'id': '1283105881752115_1283225035073533',\n",
       "     'message': 'Bhutanese are very polite and kind. Had the blessing to know one family . Radiating love around people in SG'},\n",
       "    {'created_time': '2016-11-30T02:09:06+0000',\n",
       "     'id': '1283105881752115_1283114978417872',\n",
       "     'message': \"I can see that Bhutan PM will learn something first. Singapore is too hot for what he's wearing...\"},\n",
       "    {'created_time': '2016-12-01T13:45:19+0000',\n",
       "     'id': '1283105881752115_1284968798232490',\n",
       "     'message': \"The difference between us and them is that they didn't have to sell themselves in order to survive.\"},\n",
       "    {'created_time': '2016-12-01T04:13:37+0000',\n",
       "     'id': '1283105881752115_1284498778279492',\n",
       "     'message': 'Mr Tobgay is an amazing speaker. I totally enjoyed that TED talk. So engaging!'},\n",
       "    {'created_time': '2016-12-01T13:42:56+0000',\n",
       "     'id': '1283105881752115_1284961861566517',\n",
       "     'message': 'Small, beautiful and intellectual are the qualities for future nations.'},\n",
       "    {'created_time': '2016-11-30T15:23:51+0000',\n",
       "     'id': '1283105881752115_1283912625004774',\n",
       "     'message': 'You have to be neutral at al time .. What happened to you? Are you okay...? Do you need medical attention?'},\n",
       "    {'created_time': '2016-11-30T15:19:53+0000',\n",
       "     'id': '1283105881752115_1283910435004993',\n",
       "     'message': \"We don't need to be friend with this country as this country is not a friend China.. Keeo in mind that we have to be NEUTRAL!\"},\n",
       "    {'created_time': '2016-11-30T15:09:16+0000',\n",
       "     'id': '1283105881752115_1283899775006059',\n",
       "     'message': \"Don't talk so much... How are we settle the tanks detained by the Chinese authority in HK... you hv to face the China govt...\"},\n",
       "    {'created_time': '2016-11-30T02:53:24+0000',\n",
       "     'id': '1283105881752115_1283139271748776',\n",
       "     'message': 'Tq for sharing Sir... hope you enjoy your trip to Bhutan ..\\nEspecially the green forest'},\n",
       "    {'created_time': '2016-11-30T02:11:08+0000',\n",
       "     'id': '1283105881752115_1283116558417714',\n",
       "     'message': \"Bhutan should be a 'heaven on earth'!!\"},\n",
       "    {'created_time': '2016-11-30T02:17:31+0000',\n",
       "     'id': '1283105881752115_1283119421750761',\n",
       "     'message': \"Welcome to S'pore👍👍👍👍👍💪💪💪\"},\n",
       "    {'created_time': '2016-11-30T02:08:25+0000',\n",
       "     'id': '1283105881752115_1283114725084564',\n",
       "     'message': 'In my bucket list to visit Bhutan😘❤️'},\n",
       "    {'created_time': '2016-11-30T04:19:38+0000',\n",
       "     'id': '1283105881752115_1283185918410778',\n",
       "     'message': 'Would love to visit. Can we perhaps work on visa-free travel to Bhutan? 😀...'},\n",
       "    {'created_time': '2016-11-30T04:51:16+0000',\n",
       "     'id': '1283105881752115_1283199871742716',\n",
       "     'message': 'Bhutan is beautiful country and worth a visit!!!😍💖'},\n",
       "    {'created_time': '2016-11-30T13:15:51+0000',\n",
       "     'id': '1283105881752115_1283740985021938',\n",
       "     'message': 'This is their message to their citizens. Respect'},\n",
       "    {'created_time': '2016-11-30T16:14:13+0000',\n",
       "     'id': '1283105881752115_1283946311668072',\n",
       "     'message': 'Thks PM LEE. Make an good example of relationship co-operation to other countries in Asia.'},\n",
       "    {'created_time': '2016-11-30T15:17:55+0000',\n",
       "     'id': '1283105881752115_1283909371671766',\n",
       "     'message': 'Thank you George for sharing this post...... Singapore always fascinates me in all ways ! (Paul Ho)'},\n",
       "    {'created_time': '2016-11-30T09:11:23+0000',\n",
       "     'id': '1283105881752115_1283397948389575',\n",
       "     'message': 'I have watched his TED lecture. This lecture alone increased my respect towards Bhutan by few folds.'},\n",
       "    {'created_time': '2016-11-30T02:26:26+0000',\n",
       "     'id': '1283105881752115_1283125015083535',\n",
       "     'message': 'And I like his boots👍'},\n",
       "    {'created_time': '2016-11-30T02:05:12+0000',\n",
       "     'id': '1283105881752115_1283113198418050',\n",
       "     'message': 'We can do better for each other'},\n",
       "    {'created_time': '2016-11-30T02:32:36+0000',\n",
       "     'id': '1283105881752115_1283128128416557',\n",
       "     'message': 'Sidetrack: His boots/shoes are amazing!'},\n",
       "    {'created_time': '2016-11-30T02:33:33+0000',\n",
       "     'id': '1283105881752115_1283128668416503',\n",
       "     'message': 'His shoes are kool'},\n",
       "    {'created_time': '2016-12-01T08:44:46+0000',\n",
       "     'id': '1283105881752115_1284678478261522',\n",
       "     'message': 'A blessed country that measures success by Gross National Happiness.'},\n",
       "    {'created_time': '2016-12-01T04:57:07+0000',\n",
       "     'id': '1283105881752115_1284529504943086',\n",
       "     'message': 'Yes Singapore must go even greener, much more!!!'},\n",
       "    {'created_time': '2016-11-30T14:43:40+0000',\n",
       "     'id': '1283105881752115_1283872641675439',\n",
       "     'message': 'King Jigme is a humble leader.'},\n",
       "    {'created_time': '2016-12-01T02:39:44+0000',\n",
       "     'id': '1283105881752115_1284424671620236',\n",
       "     'message': 'I am surprised that the PM has never been to Bhutan. Time for an official visit!'},\n",
       "    {'created_time': '2016-12-01T08:37:01+0000',\n",
       "     'id': '1283105881752115_1284672631595440',\n",
       "     'message': 'One common thing between bhutan and Singapore is English is the medium of education.'},\n",
       "    {'created_time': '2016-11-30T02:13:08+0000',\n",
       "     'id': '1283105881752115_1283117655084271',\n",
       "     'message': ''},\n",
       "    {'created_time': '2016-11-30T14:00:17+0000',\n",
       "     'id': '1283105881752115_1283807928348577',\n",
       "     'message': 'Every asset in land is generating productive revenues. What is most crucial how Bhutan PM power in command of English to express his opinion.'},\n",
       "    {'created_time': '2016-11-30T02:13:33+0000',\n",
       "     'id': '1283105881752115_1283117858417584',\n",
       "     'message': 'Historical photo\\n ✌'},\n",
       "    {'created_time': '2016-11-30T05:11:12+0000',\n",
       "     'id': '1283105881752115_1283210301741673',\n",
       "     'message': 'May our bilateral ties go from strength to strength!'},\n",
       "    {'created_time': '2016-11-30T02:53:45+0000',\n",
       "     'id': '1283105881752115_1283139435082093',\n",
       "     'message': '要在不犧牲人文價值及天然景色前提下，提高知識和實踐水平，是一項了不起的工程。\\n不丹，你行的！加油！'},\n",
       "    {'created_time': '2016-11-30T14:46:41+0000',\n",
       "     'id': '1283105881752115_1283879648341405',\n",
       "     'message': 'Two inspirational leaders and role models.'},\n",
       "    {'created_time': '2016-11-30T04:11:15+0000',\n",
       "     'id': '1283105881752115_1283180751744628',\n",
       "     'message': ''},\n",
       "    {'created_time': '2016-11-30T02:11:27+0000',\n",
       "     'id': '1283105881752115_1283116875084349',\n",
       "     'message': 'Dear Mr Lee. Thank you for sharing. Noted with thanks.'},\n",
       "    {'created_time': '2016-11-30T04:49:12+0000',\n",
       "     'id': '1283105881752115_1283199135076123',\n",
       "     'message': ''},\n",
       "    {'created_time': '2016-11-30T04:05:43+0000',\n",
       "     'id': '1283105881752115_1283177151744988',\n",
       "     'message': 'There is much room for mutual learning'},\n",
       "    {'created_time': '2016-12-01T01:26:46+0000',\n",
       "     'id': '1283105881752115_1284377931624910',\n",
       "     'message': ''},\n",
       "    {'created_time': '2016-11-30T14:20:37+0000',\n",
       "     'id': '1283105881752115_1283820648347305',\n",
       "     'message': 'The attack on Tokyo took off from Shangri la'},\n",
       "    {'created_time': '2016-11-30T04:45:35+0000',\n",
       "     'id': '1283105881752115_1283197095076327',\n",
       "     'message': 'Great to share with your on facebook, Sir ( Mr Prime Minister ).'},\n",
       "    {'created_time': '2016-11-30T08:56:47+0000',\n",
       "     'id': '1283105881752115_1283389275057109',\n",
       "     'message': 'Dear PM, it would be great if we could work out some waiver free program with Bhutan. Such a beautiful place but is too expensive to travel there at this time.'},\n",
       "    {'created_time': '2016-12-01T07:39:56+0000',\n",
       "     'id': '1283105881752115_1284636488265721',\n",
       "     'message': 'SY Teo your trip is gonna be great'},\n",
       "    {'created_time': '2016-11-30T11:07:23+0000',\n",
       "     'id': '1283105881752115_1283539411708762',\n",
       "     'message': 'My another Favourite country !!!'},\n",
       "    {'created_time': '2016-11-30T02:06:06+0000',\n",
       "     'id': '1283105881752115_1283113438418026',\n",
       "     'message': ''},\n",
       "    {'created_time': '2016-12-01T13:21:18+0000',\n",
       "     'id': '1283105881752115_1284935278235842',\n",
       "     'message': ''},\n",
       "    {'created_time': '2016-11-30T04:17:54+0000',\n",
       "     'id': '1283105881752115_1283183475077689',\n",
       "     'message': 'Welcome Sir 🇧🇹 🇸🇬'},\n",
       "    {'created_time': '2016-11-30T02:48:31+0000',\n",
       "     'id': '1283105881752115_1283137431748960',\n",
       "     'message': 'I love you boss'},\n",
       "    {'created_time': '2016-12-03T04:16:24+0000',\n",
       "     'id': '1283105881752115_1287548967974473',\n",
       "     'message': 'Thanks'},\n",
       "    {'created_time': '2016-12-03T07:18:07+0000',\n",
       "     'id': '1283105881752115_1287807764615260',\n",
       "     'message': 'Cannot Happen ...NATO...😡😡😡😡😡😡😡😡😡😡😡'},\n",
       "    {'created_time': '2016-12-03T13:44:47+0000',\n",
       "     'id': '1283105881752115_1288182221244481',\n",
       "     'message': 'Thank for sharing'},\n",
       "    {'created_time': '2016-11-30T14:19:01+0000',\n",
       "     'id': '1283105881752115_1283819878347382',\n",
       "     'message': 'Look at his footwear!'},\n",
       "    {'created_time': '2016-12-01T05:30:17+0000',\n",
       "     'id': '1283105881752115_1284550661607637',\n",
       "     'message': 'Fantastic boots'}],\n",
       "   'paging': {'cursors': {'after': 'MTI0', 'before': 'MjI0'},\n",
       "    'next': 'https://graph.facebook.com/v2.12/125845680811480_1283105881752115/comments?access_token=808617492679338%7Cf6bf833565e982767677ab89bb935797&summary=true&limit=100&after=MTI0'},\n",
       "   'summary': {'can_comment': False, 'order': 'ranked', 'total_count': 224}},\n",
       "  'created_time': '2016-11-30T02:00:27+0000',\n",
       "  'id': '125845680811480_1283105881752115',\n",
       "  'likes': {'data': [],\n",
       "   'paging': {'cursors': {'after': 'Mzk3NTc0ODEwNzEzMzA0',\n",
       "     'before': 'MTYyMjM4MDUxNDUxNTA5MAZDZD'},\n",
       "    'next': 'https://graph.facebook.com/v2.12/125845680811480_1283105881752115/likes?access_token=808617492679338%7Cf6bf833565e982767677ab89bb935797&summary=true&limit=100&after=Mzk3NTc0ODEwNzEzMzA0'},\n",
       "   'summary': {'can_like': False, 'has_liked': False, 'total_count': 9914}},\n",
       "  'link': 'https://www.facebook.com/leehsienloong/photos/a.344710778924968.83425.125845680811480/1283105881752115/?type=3',\n",
       "  'message': 'I have never visited Bhutan, but I have read and heard much about the country described as “the last Shangri-la on earth”. I was also struck by what Bhutan Prime Minister Tshering Tobgay said in a TED lecture, that 72% of Bhutan’s land area is forested, and that it is the only country in the world that is a net ‘carbon sink’ (meaning it removes more carbon dioxide from the air than it produces). Bhutan has much to offer, protect and preserve for generations to come.\\n\\nHappy to welcome PM Tobgay yesterday during his first official visit to Singapore. We established diplomatic relations with Bhutan in 2002 and have built warm and friendly ties since. I also deeply appreciated His Majesty King Jigme Khesar Namgyel Wangchuck’s attendance at Mr Lee Kuan Yew’s funeral service last year.\\n\\nAs small states with limited resources, Singapore and Bhutan face similar challenges. We both understand the importance of investing in our people through education and training. PM Tobgay told me that he visited the Singapore Tourism Board, Institute of Technical Education, Singapore and Immigration & Checkpoints Authority to learn more about our agencies and processes. Look forward to growing and strengthening our ties with Bhutan. – LHL\\n\\n(MCI Photo by Fyrol)',\n",
       "  'name': 'Timeline Photos',\n",
       "  'reactions': {'data': [],\n",
       "   'paging': {'cursors': {'after': 'T0RBMU5qY3lOemMzT2pFME9ERTJNREk1TWpjNk1qVTBNRGsyTVRZAeE13PT0ZD',\n",
       "     'before': 'TVRBd01EQXlNamswTnpFeE5USXpPakUxTURZAeE5ETXdNRE02TWpVME1EazJNVFl4TXc9PQZDZD'},\n",
       "    'next': 'https://graph.facebook.com/v2.12/125845680811480_1283105881752115/reactions?access_token=808617492679338%7Cf6bf833565e982767677ab89bb935797&summary=true&limit=100&after=T0RBMU5qY3lOemMzT2pFME9ERTJNREk1TWpjNk1qVTBNRGsyTVRZAeE13PT0ZD'},\n",
       "   'summary': {'total_count': 10247, 'viewer_reaction': 'NONE'}},\n",
       "  'shares': {'count': 526},\n",
       "  'type': 'photo'}]"
      ]
     },
     "execution_count": 15,
     "metadata": {},
     "output_type": "execute_result"
    }
   ],
   "source": [
    "dict_data['data']"
   ]
  },
  {
   "cell_type": "code",
   "execution_count": 19,
   "metadata": {},
   "outputs": [
    {
     "data": {
      "text/plain": [
       "{'comments': {'data': [{'created_time': '2016-12-01T13:06:09+0000',\n",
       "    'id': '1284900154906021_1284923291570374',\n",
       "    'message': 'Brilliant. Terrific work and thanks for sharing. Goes to prove why Singapore is second to none in execution and transparency.'},\n",
       "   {'created_time': '2016-12-01T13:19:17+0000',\n",
       "    'id': '1284900154906021_1284934018235968',\n",
       "    'message': 'Amazing investigation! Hats off to the whole team who worked hand in hand to resolve this issue within a short period of time.'},\n",
       "   {'created_time': '2016-12-01T15:22:59+0000',\n",
       "    'id': '1284900154906021_1285115971551106',\n",
       "    'message': 'I am impressed by so many support ur views n not sure they understand what u hv posted like a zig zag graph. For me very simple, is either human aheas in control of technology or we just blindly follow technology without consideration to human ability n capability so just let me know where we are? Public can judge whether money is use wisely n effectively for the people n not making Singapore so called world class or first class but lack human ability n capability.'},\n",
       "   {'created_time': '2016-12-01T15:48:00+0000',\n",
       "    'id': '1284900154906021_1285164674879569',\n",
       "    'message': 'Awesome job! The team deserve our applause with respect. It is always easier to give comment which define the mediocre grp but the outstanding ones are those who solve the problem and strive fwd!'},\n",
       "   {'created_time': '2016-12-01T13:03:27+0000',\n",
       "    'id': '1284900154906021_1284920878237282',\n",
       "    'message': 'Must get these brainy Engineers / Technologists to marry and have as many kids as possible!!! ;-)'},\n",
       "   {'created_time': '2016-12-01T23:41:36+0000',\n",
       "    'id': '1284900154906021_1285657868163583',\n",
       "    'message': 'Though I do not know how to read and analyze the graph but I totally agree with you that teamwork is important. One is limited and weak but a team in one noble objective is formidable and powerful'},\n",
       "   {'created_time': '2016-12-01T13:37:09+0000',\n",
       "    'id': '1284900154906021_1284957934900243',\n",
       "    'message': 'As a whole our MRT faults had occurred more than we can count, so we surely want to see some better solutions how to run better than HK MTR , and how our maintenance can expedite the repair to get the lines running. We noticed lines breakdown at many times happened during the rush hours and it can be quite frustrating. We sincerely want to see better results. No doubt our team had tried their very best to calm the commuters but the staff handling at some stations are still not well trained to control the chaotic situation.'},\n",
       "   {'created_time': '2016-12-01T20:34:21+0000',\n",
       "    'id': '1284900154906021_1285431724852864',\n",
       "    'message': \"Great job by the engineers. Many people do not understand why sometimes it takes time to resolve technical issues. These people dun understand that engineers need to replicate the fault and then they will be able to come out with solutions to solve them, especially if it's a new fault or system, you are bound to get many such incidents. It's like you just got a new car, and you experienced some weird issues and you highlighted it to your car mechanic. If he never come across such issues with this new car before, it will take him time to try recreate the fault or experienced it himself before he can shortlist the number of problems or steps gone wrong to solve the problem.\"},\n",
       "   {'created_time': '2016-12-01T20:42:36+0000',\n",
       "    'id': '1284900154906021_1285449934851043',\n",
       "    'message': 'Wow!!! Impressive work done! Why I feel like to become a scientist after reading this as I can mostly understand what are the logic behind. Clap clap clap...'},\n",
       "   {'created_time': '2016-12-01T15:30:22+0000',\n",
       "    'id': '1284900154906021_1285131134882923',\n",
       "    'message': 'Sir, tbh, on a flip side it shows people be it in operator or in LTA are not familiar in their own work i.e. runtime of trains, how it turnaround, etc.\\n\\nSometimes I find that people are just complicating matters for themselves.'},\n",
       "   {'created_time': '2016-12-01T13:10:05+0000',\n",
       "    'id': '1284900154906021_1284926301570073',\n",
       "    'message': 'This is currently the most popular topic on Hacker News: https://news.ycombinator.com/item?id=13078124'},\n",
       "   {'created_time': '2016-12-01T13:24:54+0000',\n",
       "    'id': '1284900154906021_1284939214902115',\n",
       "    'message': 'Great investigation. much appreciate you as our PM able to understand such technical detail study.'},\n",
       "   {'created_time': '2017-01-20T18:20:44+0000',\n",
       "    'id': '1284900154906021_1340225699373466',\n",
       "    'message': 'I did a project at a hospital in Melbourne and the Aussie contact I worked with realized that I was someone who had lived in and was based out of Singapore for many years. He couldn\\'t help but exclaim to me just how impressed he was with how things worked. He said it was the Ideal or Model Society.\\n\\nI also have a friend from Spain who also lives in Singapore and he too says \"Singapur es una ciudad muy fácil.\" (\"Singapore is an easy city.\") --- essentially to emphasize just how efficient and user-friendly it is.\\n\\nSingapore has inspired many of us to want to make our own countries improve. Singapore showed to us that IT CAN BE DONE.\\n\\nCongratulations to Singapore for being the Model/Ideal State from the point of view of many objective observers.'},\n",
       "   {'created_time': '2016-12-01T12:43:47+0000',\n",
       "    'id': '1284900154906021_1284905968238773',\n",
       "    'message': 'This is amazing! Analytics put to use like this is a technology feat...proud of our data scientists'},\n",
       "   {'created_time': '2016-12-01T13:05:39+0000',\n",
       "    'id': '1284900154906021_1284922458237124',\n",
       "    'message': \"It's those pesky rebels again and their Rogue train!!! Use the at-ats at them (kidding) 😂 😁 very interesting data analysis\"},\n",
       "   {'created_time': '2016-12-02T04:37:39+0000',\n",
       "    'id': '1284900154906021_1286011884794848',\n",
       "    'message': \"From industry point view, it's great troubleshooting work and get the direct cause. But it's still far away from systematic root cause and also need dig it out and take preventive action.\"},\n",
       "   {'created_time': '2016-12-01T13:21:57+0000',\n",
       "    'id': '1284900154906021_1284935928235777',\n",
       "    'message': 'Singaporean is gifted to have pap as their guardian angles than now and forever lky lhl and company may god bless them for taking care of the nation'},\n",
       "   {'created_time': '2016-12-02T17:40:13+0000',\n",
       "    'id': '1284900154906021_1286808254715211',\n",
       "    'message': 'Very good job done! You guys should come to Stockholm Sweden and solve the malfunctioning signal system on our new street trams system.'},\n",
       "   {'created_time': '2016-12-01T14:18:23+0000',\n",
       "    'id': '1284900154906021_1285023428227027',\n",
       "    'message': 'Interesting but sad that it is a reactive measure rather than a preventive one. Is there no other way to detect a faulty train before it is put into operation?'},\n",
       "   {'created_time': '2016-12-01T14:47:21+0000',\n",
       "    'id': '1284900154906021_1285071984888838',\n",
       "    'message': 'Best real life example for someone to learn python ..extremely impressive'},\n",
       "   {'created_time': '2016-12-01T13:16:32+0000',\n",
       "    'id': '1284900154906021_1284930981569605',\n",
       "    'message': 'Fantastique piece of work! Love data, always has something to reveal!!'},\n",
       "   {'created_time': '2016-12-01T14:00:54+0000',\n",
       "    'id': '1284900154906021_1284980371564666',\n",
       "    'message': 'Awesome investigation 👏👏and remarkable identity and support by ever smiling PM Lee👏👏'},\n",
       "   {'created_time': '2016-12-02T09:00:32+0000',\n",
       "    'id': '1284900154906021_1286212928108077',\n",
       "    'message': 'Thank u for sharing Sir and thank u very much for the team working so hard for us. Well done.'},\n",
       "   {'created_time': '2016-12-01T14:08:00+0000',\n",
       "    'id': '1284900154906021_1284985678230802',\n",
       "    'message': 'Excellent analysis...\\nA big Thank to the research team !👏🏻👏🏻👏🏻'},\n",
       "   {'created_time': '2016-12-02T08:11:45+0000',\n",
       "    'id': '1284900154906021_1286185184777518',\n",
       "    'message': 'In awe of our Engineers problem solving capabilities. A job well done. Give them all an extra bonus. They deserved it.'},\n",
       "   {'created_time': '2016-12-03T01:01:49+0000',\n",
       "    'id': '1284900154906021_1287332941329409',\n",
       "    'message': 'It says the code was written 5 nov 2016. Today is 3 nov 2016. \\n\\nForget about the algorithms, just look at the dates, they are way advance than I thought !'},\n",
       "   {'created_time': '2016-12-01T15:12:29+0000',\n",
       "    'id': '1284900154906021_1285096028219767',\n",
       "    'message': 'Wonder if Mediacorp is going to be inspired by this and create a drama out of it!'},\n",
       "   {'created_time': '2016-12-01T15:42:51+0000',\n",
       "    'id': '1284900154906021_1285155741547129',\n",
       "    'message': 'Hummm i hope they can solve all other problems rather then looking into how they solve 1 breakdown.'},\n",
       "   {'created_time': '2016-12-01T13:03:32+0000',\n",
       "    'id': '1284900154906021_1284920998237270',\n",
       "    'message': 'Amazing workout and Team work. This data will help the R&D team in future.'},\n",
       "   {'created_time': '2016-12-04T16:46:12+0000',\n",
       "    'id': '1284900154906021_1289982194397817',\n",
       "    'message': \"Well done👍😍 data analysis is a very important skill in new world. Now I've activated them to analyze Singtel broadband failure 😜🍻🍾😝\"},\n",
       "   {'created_time': '2016-12-01T22:09:43+0000',\n",
       "    'id': '1284900154906021_1285585888170781',\n",
       "    'message': 'Mr Lee, thank u for sharing.Mr Ng and his teams have done a good job.'},\n",
       "   {'created_time': '2016-12-01T14:36:51+0000',\n",
       "    'id': '1284900154906021_1285063268223043',\n",
       "    'message': 'Wow, impressive to understand how this mystery was solved using such methodical data analysis. Simply brilliant.'},\n",
       "   {'created_time': '2016-12-01T13:35:25+0000',\n",
       "    'id': '1284900154906021_1284955644900472',\n",
       "    'message': 'Heartening to see refreshing post of innovation and collaboration to move civilisation ahead instead of negative backward thinking incidents'},\n",
       "   {'created_time': '2016-12-02T12:14:30+0000',\n",
       "    'id': '1284900154906021_1286419211420782',\n",
       "    'message': 'Mark Richmund de Leon Kuya Mark, you might find this interesting 😊'},\n",
       "   {'created_time': '2016-12-02T03:21:50+0000',\n",
       "    'id': '1284900154906021_1285957821466921',\n",
       "    'message': 'This for putting the Circle Line on tract again! Appreciated!'},\n",
       "   {'created_time': '2016-12-01T13:44:49+0000',\n",
       "    'id': '1284900154906021_1284968094899227',\n",
       "    'message': 'Only took them a few months to figure it out, and after two big disruptions....'},\n",
       "   {'created_time': '2017-01-20T08:48:22+0000',\n",
       "    'id': '1284900154906021_1339855869410449',\n",
       "    'message': 'Teasing and enthralling recount the data story! Remarkable work by the Data Scientists of the Govt. of Singapore.'},\n",
       "   {'created_time': '2016-12-01T14:25:34+0000',\n",
       "    'id': '1284900154906021_1285040484891988',\n",
       "    'message': 'Im convinced that I live in the coolest 😎 country in the world 🌎 Love ❤️ 🇸🇬'},\n",
       "   {'created_time': '2016-12-01T12:50:36+0000',\n",
       "    'id': '1284900154906021_1284910721571631',\n",
       "    'message': 'This is our Singaporean \"Rogue One\"!'},\n",
       "   {'created_time': '2016-12-02T10:27:18+0000',\n",
       "    'id': '1284900154906021_1286267938102576',\n",
       "    'message': 'Taquin Ho , is data analytics a national sport in Singapore?'},\n",
       "   {'created_time': '2016-12-01T13:45:09+0000',\n",
       "    'id': '1284900154906021_1284968468232523',\n",
       "    'message': 'Really excellent. Very very real life modern problem solving using data and well worth highlighting and celebrating. Well done SG.'},\n",
       "   {'created_time': '2016-12-02T01:43:48+0000',\n",
       "    'id': '1284900154906021_1285804211482282',\n",
       "    'message': 'Wow, unbelievable Mr Ng Eng Hen ,I salute to you n ur TEAM WORK how to MR LKY brought HIS TEAM UP !! Although is not your BUSINESS or duty but u take it HARD TO BE PART 🇸🇬 regardlessly 🙏🏻'},\n",
       "   {'created_time': '2016-12-02T02:32:41+0000',\n",
       "    'id': '1284900154906021_1285905908138779',\n",
       "    'message': 'Terrific job accomplished by the team who fixed this 👏'},\n",
       "   {'created_time': '2016-12-01T13:00:56+0000',\n",
       "    'id': '1284900154906021_1284918704904166',\n",
       "    'message': ''},\n",
       "   {'created_time': '2016-12-01T13:59:07+0000',\n",
       "    'id': '1284900154906021_1284979318231438',\n",
       "    'message': '大开眼界\\n\\nThere is so much to learn in this world'},\n",
       "   {'created_time': '2016-12-01T14:47:30+0000',\n",
       "    'id': '1284900154906021_1285072111555492',\n",
       "    'message': 'Excellent work 👏🏻👏🏻👏🏻'},\n",
       "   {'created_time': '2016-12-02T11:49:39+0000',\n",
       "    'id': '1284900154906021_1286368708092499',\n",
       "    'message': 'Brilliant!'},\n",
       "   {'created_time': '2016-12-01T16:47:58+0000',\n",
       "    'id': '1284900154906021_1285242621538441',\n",
       "    'message': 'WOW!!!'},\n",
       "   {'created_time': '2016-12-01T14:31:45+0000',\n",
       "    'id': '1284900154906021_1285055138223856',\n",
       "    'message': 'It was PV46.'},\n",
       "   {'created_time': '2016-12-01T15:04:47+0000',\n",
       "    'id': '1284900154906021_1285090908220279',\n",
       "    'message': 'Awesome!'},\n",
       "   {'created_time': '2016-12-01T13:07:08+0000',\n",
       "    'id': '1284900154906021_1284924048236965',\n",
       "    'message': ''},\n",
       "   {'created_time': '2016-12-05T05:37:30+0000',\n",
       "    'id': '1284900154906021_1290922934303743',\n",
       "    'message': ''},\n",
       "   {'created_time': '2016-12-01T14:57:30+0000',\n",
       "    'id': '1284900154906021_1285082898221080',\n",
       "    'message': 'Thumbs-up for the good work!🖒🖒Proud of you team.'},\n",
       "   {'created_time': '2016-12-01T14:10:44+0000',\n",
       "    'id': '1284900154906021_1284992924896744',\n",
       "    'message': 'Wow !!! Awesome indeed 😁😁👍👍'},\n",
       "   {'created_time': '2016-12-01T12:58:40+0000',\n",
       "    'id': '1284900154906021_1284916984904338',\n",
       "    'message': 'Thank you Mr Lee'},\n",
       "   {'created_time': '2016-12-01T12:45:15+0000',\n",
       "    'id': '1284900154906021_1284906631572040',\n",
       "    'message': 'My sincere congratulations to the team.👏👏👏'},\n",
       "   {'created_time': '2016-12-03T13:38:55+0000',\n",
       "    'id': '1284900154906021_1288177631244940',\n",
       "    'message': 'Thank for sharing'},\n",
       "   {'created_time': '2016-12-01T14:27:47+0000',\n",
       "    'id': '1284900154906021_1285045748224795',\n",
       "    'message': 'Thank you very much for sharing.'},\n",
       "   {'created_time': '2016-12-01T14:57:48+0000',\n",
       "    'id': '1284900154906021_1285083008221069',\n",
       "    'message': ''},\n",
       "   {'created_time': '2016-12-01T12:44:26+0000',\n",
       "    'id': '1284900154906021_1284906234905413',\n",
       "    'message': 'Awesome use of technology.'},\n",
       "   {'created_time': '2016-12-01T12:42:15+0000',\n",
       "    'id': '1284900154906021_1284905101572193',\n",
       "    'message': 'Well done 👍🏻'},\n",
       "   {'created_time': '2016-12-01T12:49:31+0000',\n",
       "    'id': '1284900154906021_1284909858238384',\n",
       "    'message': 'Cool.'},\n",
       "   {'created_time': '2016-12-01T15:42:45+0000',\n",
       "    'id': '1284900154906021_1285155658213804',\n",
       "    'message': 'awesome'},\n",
       "   {'created_time': '2016-12-01T12:51:09+0000',\n",
       "    'id': '1284900154906021_1284910991571604',\n",
       "    'message': 'Amazing to read this!! Good work by the team of students!!'},\n",
       "   {'created_time': '2016-12-01T12:58:55+0000',\n",
       "    'id': '1284900154906021_1284917138237656',\n",
       "    'message': 'Smart People. Smart Nation.Good RCA.'},\n",
       "   {'created_time': '2016-12-01T14:17:38+0000',\n",
       "    'id': '1284900154906021_1285021518227218',\n",
       "    'message': 'Well done..👍'},\n",
       "   {'created_time': '2016-12-01T18:32:22+0000',\n",
       "    'id': '1284900154906021_1285327514863285',\n",
       "    'message': 'mus be promo for new star wars film.. wakakaka'},\n",
       "   {'created_time': '2016-12-01T13:28:47+0000',\n",
       "    'id': '1284900154906021_1284948354901201',\n",
       "    'message': 'Wow'},\n",
       "   {'created_time': '2016-12-01T14:31:52+0000',\n",
       "    'id': '1284900154906021_1285055501557153',\n",
       "    'message': 'Kudos to the whole team 👍🏻👍🏻'},\n",
       "   {'created_time': '2016-12-01T12:58:26+0000',\n",
       "    'id': '1284900154906021_1284916794904357',\n",
       "    'message': ''},\n",
       "   {'created_time': '2016-12-01T16:15:02+0000',\n",
       "    'id': '1284900154906021_1285218844874152',\n",
       "    'message': 'very impressive'},\n",
       "   {'created_time': '2016-12-01T14:22:07+0000',\n",
       "    'id': '1284900154906021_1285032724892764',\n",
       "    'message': 'Great detective work..great application..great guys..'},\n",
       "   {'created_time': '2016-12-01T14:02:48+0000',\n",
       "    'id': '1284900154906021_1284981781564525',\n",
       "    'message': ''},\n",
       "   {'created_time': '2016-12-01T14:37:49+0000',\n",
       "    'id': '1284900154906021_1285063978222972',\n",
       "    'message': '👍🏼'},\n",
       "   {'created_time': '2016-12-02T16:30:03+0000',\n",
       "    'id': '1284900154906021_1286714854724551',\n",
       "    'message': 'Brilliant. Singapore is the place for R& R. You have great brains there PM Loong ji.'},\n",
       "   {'created_time': '2016-12-02T15:42:50+0000',\n",
       "    'id': '1284900154906021_1286643278065042',\n",
       "    'message': 'Singapore leader talks about data. Comparing with the Philippine President.'},\n",
       "   {'created_time': '2016-12-02T09:07:24+0000',\n",
       "    'id': '1284900154906021_1286215924774444',\n",
       "    'message': 'Brilliant job!!!!!'},\n",
       "   {'created_time': '2016-12-01T13:45:47+0000',\n",
       "    'id': '1284900154906021_1284969241565779',\n",
       "    'message': '👍😘'},\n",
       "   {'created_time': '2016-12-01T13:12:40+0000',\n",
       "    'id': '1284900154906021_1284928498236520',\n",
       "    'message': 'Excellent analysis!'},\n",
       "   {'created_time': '2016-12-01T15:44:12+0000',\n",
       "    'id': '1284900154906021_1285156711547032',\n",
       "    'message': 'Well done Sir'},\n",
       "   {'created_time': '2016-12-01T23:34:00+0000',\n",
       "    'id': '1284900154906021_1285644881498215',\n",
       "    'message': \"Mia Hassoun, this one's for you!\"},\n",
       "   {'created_time': '2016-12-01T14:59:12+0000',\n",
       "    'id': '1284900154906021_1285083728220997',\n",
       "    'message': 'Gary Peh data, data and more data!'},\n",
       "   {'created_time': '2016-12-01T12:55:40+0000',\n",
       "    'id': '1284900154906021_1284915094904527',\n",
       "    'message': 'Nice article'},\n",
       "   {'created_time': '2016-12-01T19:24:04+0000',\n",
       "    'id': '1284900154906021_1285365541526149',\n",
       "    'message': '?'},\n",
       "   {'created_time': '2016-12-01T13:06:05+0000',\n",
       "    'id': '1284900154906021_1284923248237045',\n",
       "    'message': '👍'},\n",
       "   {'created_time': '2016-12-01T13:31:38+0000',\n",
       "    'id': '1284900154906021_1284952514900785',\n",
       "    'message': 'Great work! I am sure you have eased the lives of many Singaporeans who take the MRT on a daily basis.'},\n",
       "   {'created_time': '2016-12-01T18:22:30+0000',\n",
       "    'id': '1284900154906021_1285320108197359',\n",
       "    'message': 'No wonder it was a rogue train .... it was going zig zag on the Circle Line !! 😂'},\n",
       "   {'created_time': '2016-12-01T21:58:10+0000',\n",
       "    'id': '1284900154906021_1285573961505307',\n",
       "    'message': 'For every problem there is solution if you can find a team.'},\n",
       "   {'created_time': '2016-12-03T00:03:20+0000',\n",
       "    'id': '1284900154906021_1287247634671273',\n",
       "    'message': 'alstom should have given procedure to check the well being of a train to smrt. that procedure should include checking for all signal emitted from a train'},\n",
       "   {'created_time': '2016-12-01T13:26:39+0000',\n",
       "    'id': '1284900154906021_1284943281568375',\n",
       "    'message': 'NV read about any pm who is so involved concerned in the day to day running. Well done to the whole team\\n.'},\n",
       "   {'created_time': '2016-12-01T13:32:00+0000',\n",
       "    'id': '1284900154906021_1284952831567420',\n",
       "    'message': \"Well done. Lesson learnt, do not exclude any data before any analysis.  The 'mastermind' will not show up so easily.  Next challenge is to detect rouge train before putting them into service.  Prevention is better than cure.\"},\n",
       "   {'created_time': '2016-12-01T13:17:36+0000',\n",
       "    'id': '1284900154906021_1284932131569490',\n",
       "    'message': 'Brilliant work. This is why SG is a Smart Nation.'},\n",
       "   {'created_time': '2016-12-01T13:36:51+0000',\n",
       "    'id': '1284900154906021_1284957374900299',\n",
       "    'message': ''},\n",
       "   {'created_time': '2016-12-01T19:09:42+0000',\n",
       "    'id': '1284900154906021_1285356111527092',\n",
       "    'message': 'Ong Heng Gnee your dream company'},\n",
       "   {'created_time': '2016-12-01T14:37:46+0000',\n",
       "    'id': '1284900154906021_1285063938222976',\n",
       "    'message': 'Thanks for sharing Sir! Very impressive indeed...thank you Daniel Sim, Lee Shangqian and Clarence Ng ,SMRT,LTA....a remarkable example of the use of data :-)'},\n",
       "   {'created_time': '2016-12-01T14:50:57+0000',\n",
       "    'id': '1284900154906021_1285076668221703',\n",
       "    'message': 'Brilliant !!!'},\n",
       "   {'created_time': '2016-12-01T13:28:44+0000',\n",
       "    'id': '1284900154906021_1284948258234544',\n",
       "    'message': 'Thanks be to the \\nTeam & Scientists~\\nSG ~ TO go go <3\\n\\nCan they solve the System problem with 2 sets of signals ? \\nIt looks funny , \\nif we add in 3 generation train,\\nThen 3 sets of signals ...\\nShould prevent such funny system in advance ... ???'},\n",
       "   {'created_time': '2016-12-02T06:55:00+0000',\n",
       "    'id': '1284900154906021_1286099861452717',\n",
       "    'message': 'Fascinating'},\n",
       "   {'created_time': '2016-12-01T17:29:22+0000',\n",
       "    'id': '1284900154906021_1285278678201502',\n",
       "    'message': 'Impressive 👍'},\n",
       "   {'created_time': '2016-12-01T13:41:15+0000',\n",
       "    'id': '1284900154906021_1284960681566635',\n",
       "    'message': 'Love it!!'}],\n",
       "  'paging': {'cursors': {'after': 'NTgZD', 'before': 'MTYz'},\n",
       "   'next': 'https://graph.facebook.com/v2.12/125845680811480_1284900154906021/comments?access_token=808617492679338%7Cf6bf833565e982767677ab89bb935797&summary=true&limit=100&after=NTgZD'},\n",
       "  'summary': {'can_comment': False, 'order': 'ranked', 'total_count': 163}},\n",
       " 'created_time': '2016-12-01T12:34:47+0000',\n",
       " 'id': '125845680811480_1284900154906021',\n",
       " 'likes': {'data': [],\n",
       "  'paging': {'cursors': {'after': 'MTAxNTQ0NjAzODQwNDI3MDYZD',\n",
       "    'before': 'MTAxNTQ5OTE2NzU3MDI0NDcZD'},\n",
       "   'next': 'https://graph.facebook.com/v2.12/125845680811480_1284900154906021/likes?access_token=808617492679338%7Cf6bf833565e982767677ab89bb935797&summary=true&limit=100&after=MTAxNTQ0NjAzODQwNDI3MDYZD'},\n",
       "  'summary': {'can_like': False, 'has_liked': False, 'total_count': 6025}},\n",
       " 'link': 'https://medium.com/m/global-identity?redirectUrl=https%3A%2F%2Fblog.data.gov.sg%2Fhow-we-caught-the-circle-line-rogue-train-with-data-79405c86ab6a#.xh25ybtd2',\n",
       " 'message': 'Two weeks ago, Ng Eng Hen posted on Facebook (bit.ly/2gLCl4n) how a cross-agency team identified a rogue MRT train as the cause of the Circle Line disruptions. Here is a blog by data scientists at GovTech (Government Technology Agency of Singapore) explaining how they processed the data, plotted it graphically, and solved the mystery.\\n\\nIt is a fascinating account, demonstrating close teamwork, sharp analysis, and a never-say-die attitude. This is how a #SmartNation should use data to solve real-world problems. Proud of the team’s good work, and a big thank you to all the officers who worked so hard to crack the puzzle! –  LHL',\n",
       " 'name': 'How the Circle Line rogue train was caught with data',\n",
       " 'reactions': {'data': [],\n",
       "  'paging': {'cursors': {'after': 'TVRFek5qSTFOemswTnpveE5EZA3dPVEEwTWpJME9qSTFOREE1TmpFMk1UTT0ZD',\n",
       "    'before': 'TmpnMU5ESXlORFEyT2pFMU1ESXlNekV3TWpNNk1qVTBNRGsyTVRZAeE13PT0ZD'},\n",
       "   'next': 'https://graph.facebook.com/v2.12/125845680811480_1284900154906021/reactions?access_token=808617492679338%7Cf6bf833565e982767677ab89bb935797&summary=true&limit=100&after=TVRFek5qSTFOemswTnpveE5EZA3dPVEEwTWpJME9qSTFOREE1TmpFMk1UTT0ZD'},\n",
       "  'summary': {'total_count': 6444, 'viewer_reaction': 'NONE'}},\n",
       " 'shares': {'count': 1475},\n",
       " 'type': 'link'}"
      ]
     },
     "execution_count": 19,
     "metadata": {},
     "output_type": "execute_result"
    }
   ],
   "source": [
    "dict_data['data'][0]"
   ]
  },
  {
   "cell_type": "markdown",
   "metadata": {},
   "source": [
    "### Post \\#0 keys"
   ]
  },
  {
   "cell_type": "code",
   "execution_count": 20,
   "metadata": {},
   "outputs": [
    {
     "data": {
      "text/plain": [
       "dict_keys(['message', 'link', 'created_time', 'type', 'name', 'id', 'likes', 'comments', 'reactions', 'shares'])"
      ]
     },
     "execution_count": 20,
     "metadata": {},
     "output_type": "execute_result"
    }
   ],
   "source": [
    "dict_data['data'][0].keys()"
   ]
  },
  {
   "cell_type": "code",
   "execution_count": 21,
   "metadata": {},
   "outputs": [
    {
     "data": {
      "text/plain": [
       "{'created_time': '2016-12-01T13:41:15+0000',\n",
       " 'id': '1284900154906021_1284960681566635',\n",
       " 'message': 'Love it!!'}"
      ]
     },
     "execution_count": 21,
     "metadata": {},
     "output_type": "execute_result"
    }
   ],
   "source": [
    "dict_data['data'][0]['comments']['data'][-1]"
   ]
  },
  {
   "cell_type": "code",
   "execution_count": 23,
   "metadata": {},
   "outputs": [
    {
     "name": "stdout",
     "output_type": "stream",
     "text": [
      "id: 125845680811480_1284900154906021\n",
      "name: How the Circle Line rogue train was caught with data\n",
      "type: link\n",
      "link: https://medium.com/m/global-identity?redirectUrl=https%3A%2F%2Fblog.data.gov.sg%2Fhow-we-caught-the-circle-line-rogue-train-with-data-79405c86ab6a#.xh25ybtd2\n",
      "created_time: 2016-12-01T12:34:47+0000\n",
      "shares: {'count': 1475}\n"
     ]
    }
   ],
   "source": [
    "print('id:', dict_data['data'][0]['id'])\n",
    "print('name:', dict_data['data'][0]['name'])\n",
    "print('type:', dict_data['data'][0]['type'])\n",
    "print('link:', dict_data['data'][0]['link'])\n",
    "print('created_time:', dict_data['data'][0]['created_time'])\n",
    "print('shares:', dict_data['data'][0]['shares'])"
   ]
  },
  {
   "cell_type": "markdown",
   "metadata": {},
   "source": [
    "### Messages"
   ]
  },
  {
   "cell_type": "code",
   "execution_count": 30,
   "metadata": {
    "scrolled": true
   },
   "outputs": [
    {
     "data": {
      "text/plain": [
       "'Two weeks ago, Ng Eng Hen posted on Facebook (bit.ly/2gLCl4n) how a cross-agency team identified a rogue MRT train as the cause of the Circle Line disruptions. Here is a blog by data scientists at GovTech (Government Technology Agency of Singapore) explaining how they processed the data, plotted it graphically, and solved the mystery.\\n\\nIt is a fascinating account, demonstrating close teamwork, sharp analysis, and a never-say-die attitude. This is how a #SmartNation should use data to solve real-world problems. Proud of the team’s good work, and a big thank you to all the officers who worked so hard to crack the puzzle! –  LHL'"
      ]
     },
     "execution_count": 30,
     "metadata": {},
     "output_type": "execute_result"
    }
   ],
   "source": [
    "dict_data['data'][0]['message']"
   ]
  },
  {
   "cell_type": "code",
   "execution_count": 30,
   "metadata": {
    "scrolled": false
   },
   "outputs": [
    {
     "data": {
      "text/plain": [
       "'I have never visited Bhutan, but I have read and heard much about the country described as “the last Shangri-la on earth”. I was also struck by what Bhutan Prime Minister Tshering Tobgay said in a TED lecture, that 72% of Bhutan’s land area is forested, and that it is the only country in the world that is a net ‘carbon sink’ (meaning it removes more carbon dioxide from the air than it produces). Bhutan has much to offer, protect and preserve for generations to come.\\n\\nHappy to welcome PM Tobgay yesterday during his first official visit to Singapore. We established diplomatic relations with Bhutan in 2002 and have built warm and friendly ties since. I also deeply appreciated His Majesty King Jigme Khesar Namgyel Wangchuck’s attendance at Mr Lee Kuan Yew’s funeral service last year.\\n\\nAs small states with limited resources, Singapore and Bhutan face similar challenges. We both understand the importance of investing in our people through education and training. PM Tobgay told me that he visited the Singapore Tourism Board, Institute of Technical Education, Singapore and Immigration & Checkpoints Authority to learn more about our agencies and processes. Look forward to growing and strengthening our ties with Bhutan. – LHL\\n\\n(MCI Photo by Fyrol)'"
      ]
     },
     "execution_count": 30,
     "metadata": {},
     "output_type": "execute_result"
    }
   ],
   "source": [
    "dict_data['data'][-1]['message']"
   ]
  },
  {
   "cell_type": "markdown",
   "metadata": {},
   "source": [
    "### Select Some Fields and Convert them into a Pandas DataFrame"
   ]
  },
  {
   "cell_type": "code",
   "execution_count": 31,
   "metadata": {},
   "outputs": [
    {
     "data": {
      "text/plain": [
       "['message',\n",
       " 'link',\n",
       " 'created_time',\n",
       " 'type',\n",
       " 'name',\n",
       " 'id',\n",
       " 'likes',\n",
       " 'comments',\n",
       " 'reactions',\n",
       " 'shares']"
      ]
     },
     "execution_count": 31,
     "metadata": {},
     "output_type": "execute_result"
    }
   ],
   "source": [
    "list(dict_data['data'][0].keys())"
   ]
  },
  {
   "cell_type": "code",
   "execution_count": 32,
   "metadata": {},
   "outputs": [],
   "source": [
    "import pandas as pd\n",
    "pd.set_option('display.max_colwidth', 150)"
   ]
  },
  {
   "cell_type": "code",
   "execution_count": 33,
   "metadata": {},
   "outputs": [],
   "source": [
    "from collections import defaultdict"
   ]
  },
  {
   "cell_type": "code",
   "execution_count": 34,
   "metadata": {},
   "outputs": [],
   "source": [
    "from collections import defaultdict\n",
    "\n",
    "dd = defaultdict(list)\n",
    "\n",
    "for post in dict_data['data']:\n",
    "    dd['message'].append( post['message'] )\n",
    "    dd['id'].append( post['id'] )\n",
    "    dd['type'].append( post['type'] )\n",
    "    dd['link'].append( post['link'] )\n",
    "    dd['created_time'].append( post['created_time'] )\n",
    "# End of for loop.\n",
    "\n",
    "posts_df = pd.DataFrame(dd).set_index('id')"
   ]
  },
  {
   "cell_type": "code",
   "execution_count": 37,
   "metadata": {
    "scrolled": false
   },
   "outputs": [
    {
     "data": {
      "text/html": [
       "<div>\n",
       "<style>\n",
       "    .dataframe thead tr:only-child th {\n",
       "        text-align: right;\n",
       "    }\n",
       "\n",
       "    .dataframe thead th {\n",
       "        text-align: left;\n",
       "    }\n",
       "\n",
       "    .dataframe tbody tr th {\n",
       "        vertical-align: top;\n",
       "    }\n",
       "</style>\n",
       "<table border=\"1\" class=\"dataframe\">\n",
       "  <thead>\n",
       "    <tr style=\"text-align: right;\">\n",
       "      <th></th>\n",
       "      <th>created_time</th>\n",
       "      <th>link</th>\n",
       "      <th>message</th>\n",
       "      <th>type</th>\n",
       "    </tr>\n",
       "    <tr>\n",
       "      <th>id</th>\n",
       "      <th></th>\n",
       "      <th></th>\n",
       "      <th></th>\n",
       "      <th></th>\n",
       "    </tr>\n",
       "  </thead>\n",
       "  <tbody>\n",
       "    <tr>\n",
       "      <th>125845680811480_1284900154906021</th>\n",
       "      <td>2016-12-01T12:34:47+0000</td>\n",
       "      <td>https://medium.com/m/global-identity?redirectUrl=https%3A%2F%2Fblog.data.gov.sg%2Fhow-we-caught-the-circle-line-rogue-train-with-data-79405c86ab6a...</td>\n",
       "      <td>Two weeks ago, Ng Eng Hen posted on Facebook (bit.ly/2gLCl4n) how a cross-agency team identified a rogue MRT train as the cause of the Circle Line...</td>\n",
       "      <td>link</td>\n",
       "    </tr>\n",
       "    <tr>\n",
       "      <th>125845680811480_1283389658390404</th>\n",
       "      <td>2016-11-30T08:57:49+0000</td>\n",
       "      <td>http://www.bernama.com/bernama/v8/ge/newsgeneral.php?id=1307337</td>\n",
       "      <td>Sat down with Datuk Seri Azman Ujang, Chairman of BERNAMA News Agency, on Monday. We spoke about many things, including Singapore’s deep and long-...</td>\n",
       "      <td>link</td>\n",
       "    </tr>\n",
       "  </tbody>\n",
       "</table>\n",
       "</div>"
      ],
      "text/plain": [
       "                                              created_time  \\\n",
       "id                                                           \n",
       "125845680811480_1284900154906021  2016-12-01T12:34:47+0000   \n",
       "125845680811480_1283389658390404  2016-11-30T08:57:49+0000   \n",
       "\n",
       "                                                                                                                                                                                   link  \\\n",
       "id                                                                                                                                                                                        \n",
       "125845680811480_1284900154906021  https://medium.com/m/global-identity?redirectUrl=https%3A%2F%2Fblog.data.gov.sg%2Fhow-we-caught-the-circle-line-rogue-train-with-data-79405c86ab6a...   \n",
       "125845680811480_1283389658390404                                                                                        http://www.bernama.com/bernama/v8/ge/newsgeneral.php?id=1307337   \n",
       "\n",
       "                                                                                                                                                                                message  \\\n",
       "id                                                                                                                                                                                        \n",
       "125845680811480_1284900154906021  Two weeks ago, Ng Eng Hen posted on Facebook (bit.ly/2gLCl4n) how a cross-agency team identified a rogue MRT train as the cause of the Circle Line...   \n",
       "125845680811480_1283389658390404  Sat down with Datuk Seri Azman Ujang, Chairman of BERNAMA News Agency, on Monday. We spoke about many things, including Singapore’s deep and long-...   \n",
       "\n",
       "                                  type  \n",
       "id                                      \n",
       "125845680811480_1284900154906021  link  \n",
       "125845680811480_1283389658390404  link  "
      ]
     },
     "execution_count": 37,
     "metadata": {},
     "output_type": "execute_result"
    }
   ],
   "source": [
    "posts_df.head(2)"
   ]
  },
  {
   "cell_type": "code",
   "execution_count": 38,
   "metadata": {
    "scrolled": true
   },
   "outputs": [
    {
     "data": {
      "text/plain": [
       "created_time    object\n",
       "link            object\n",
       "message         object\n",
       "type            object\n",
       "dtype: object"
      ]
     },
     "execution_count": 38,
     "metadata": {},
     "output_type": "execute_result"
    }
   ],
   "source": [
    "posts_df.dtypes"
   ]
  },
  {
   "cell_type": "code",
   "execution_count": 39,
   "metadata": {},
   "outputs": [],
   "source": [
    "# Convert the \"created_time\" column from a String to a Datetime\n",
    "posts_df['created_time'] = pd.to_datetime( posts_df['created_time'] )"
   ]
  },
  {
   "cell_type": "code",
   "execution_count": 40,
   "metadata": {},
   "outputs": [
    {
     "data": {
      "text/plain": [
       "created_time    datetime64[ns]\n",
       "link                    object\n",
       "message                 object\n",
       "type                    object\n",
       "dtype: object"
      ]
     },
     "execution_count": 40,
     "metadata": {},
     "output_type": "execute_result"
    }
   ],
   "source": [
    "posts_df.dtypes  # Note that \"created_time\" i now a \"datetime64\" instead of an \"object\""
   ]
  },
  {
   "cell_type": "code",
   "execution_count": 41,
   "metadata": {
    "scrolled": false
   },
   "outputs": [
    {
     "data": {
      "text/html": [
       "<div>\n",
       "<style>\n",
       "    .dataframe thead tr:only-child th {\n",
       "        text-align: right;\n",
       "    }\n",
       "\n",
       "    .dataframe thead th {\n",
       "        text-align: left;\n",
       "    }\n",
       "\n",
       "    .dataframe tbody tr th {\n",
       "        vertical-align: top;\n",
       "    }\n",
       "</style>\n",
       "<table border=\"1\" class=\"dataframe\">\n",
       "  <thead>\n",
       "    <tr style=\"text-align: right;\">\n",
       "      <th></th>\n",
       "      <th>created_time</th>\n",
       "      <th>link</th>\n",
       "      <th>message</th>\n",
       "      <th>type</th>\n",
       "    </tr>\n",
       "    <tr>\n",
       "      <th>id</th>\n",
       "      <th></th>\n",
       "      <th></th>\n",
       "      <th></th>\n",
       "      <th></th>\n",
       "    </tr>\n",
       "  </thead>\n",
       "  <tbody>\n",
       "    <tr>\n",
       "      <th>125845680811480_1284900154906021</th>\n",
       "      <td>2016-12-01 12:34:47</td>\n",
       "      <td>https://medium.com/m/global-identity?redirectUrl=https%3A%2F%2Fblog.data.gov.sg%2Fhow-we-caught-the-circle-line-rogue-train-with-data-79405c86ab6a...</td>\n",
       "      <td>Two weeks ago, Ng Eng Hen posted on Facebook (bit.ly/2gLCl4n) how a cross-agency team identified a rogue MRT train as the cause of the Circle Line...</td>\n",
       "      <td>link</td>\n",
       "    </tr>\n",
       "    <tr>\n",
       "      <th>125845680811480_1283389658390404</th>\n",
       "      <td>2016-11-30 08:57:49</td>\n",
       "      <td>http://www.bernama.com/bernama/v8/ge/newsgeneral.php?id=1307337</td>\n",
       "      <td>Sat down with Datuk Seri Azman Ujang, Chairman of BERNAMA News Agency, on Monday. We spoke about many things, including Singapore’s deep and long-...</td>\n",
       "      <td>link</td>\n",
       "    </tr>\n",
       "  </tbody>\n",
       "</table>\n",
       "</div>"
      ],
      "text/plain": [
       "                                        created_time  \\\n",
       "id                                                     \n",
       "125845680811480_1284900154906021 2016-12-01 12:34:47   \n",
       "125845680811480_1283389658390404 2016-11-30 08:57:49   \n",
       "\n",
       "                                                                                                                                                                                   link  \\\n",
       "id                                                                                                                                                                                        \n",
       "125845680811480_1284900154906021  https://medium.com/m/global-identity?redirectUrl=https%3A%2F%2Fblog.data.gov.sg%2Fhow-we-caught-the-circle-line-rogue-train-with-data-79405c86ab6a...   \n",
       "125845680811480_1283389658390404                                                                                        http://www.bernama.com/bernama/v8/ge/newsgeneral.php?id=1307337   \n",
       "\n",
       "                                                                                                                                                                                message  \\\n",
       "id                                                                                                                                                                                        \n",
       "125845680811480_1284900154906021  Two weeks ago, Ng Eng Hen posted on Facebook (bit.ly/2gLCl4n) how a cross-agency team identified a rogue MRT train as the cause of the Circle Line...   \n",
       "125845680811480_1283389658390404  Sat down with Datuk Seri Azman Ujang, Chairman of BERNAMA News Agency, on Monday. We spoke about many things, including Singapore’s deep and long-...   \n",
       "\n",
       "                                  type  \n",
       "id                                      \n",
       "125845680811480_1284900154906021  link  \n",
       "125845680811480_1283389658390404  link  "
      ]
     },
     "execution_count": 41,
     "metadata": {},
     "output_type": "execute_result"
    }
   ],
   "source": [
    "posts_df.head(2)"
   ]
  },
  {
   "cell_type": "markdown",
   "metadata": {},
   "source": [
    "# Comments, Likes, Reactions"
   ]
  },
  {
   "cell_type": "markdown",
   "metadata": {},
   "source": [
    "### Post \\#0 Comments"
   ]
  },
  {
   "cell_type": "code",
   "execution_count": 42,
   "metadata": {
    "scrolled": true
   },
   "outputs": [
    {
     "data": {
      "text/plain": [
       "dict_keys(['data', 'paging', 'summary'])"
      ]
     },
     "execution_count": 42,
     "metadata": {},
     "output_type": "execute_result"
    }
   ],
   "source": [
    "dict_data['data'][0]['comments'].keys()"
   ]
  },
  {
   "cell_type": "code",
   "execution_count": 43,
   "metadata": {},
   "outputs": [
    {
     "data": {
      "text/plain": [
       "163"
      ]
     },
     "execution_count": 43,
     "metadata": {},
     "output_type": "execute_result"
    }
   ],
   "source": [
    "dict_data['data'][0]['comments']['summary']['total_count']"
   ]
  },
  {
   "cell_type": "code",
   "execution_count": 44,
   "metadata": {},
   "outputs": [
    {
     "data": {
      "text/plain": [
       "{'created_time': '2016-12-01T23:41:36+0000',\n",
       " 'id': '1284900154906021_1285657868163583',\n",
       " 'message': 'Though I do not know how to read and analyze the graph but I totally agree with you that teamwork is important. One is limited and weak but a team in one noble objective is formidable and powerful'}"
      ]
     },
     "execution_count": 44,
     "metadata": {},
     "output_type": "execute_result"
    }
   ],
   "source": [
    "dict_data['data'][0]['comments']['data'][5]"
   ]
  },
  {
   "cell_type": "code",
   "execution_count": 49,
   "metadata": {},
   "outputs": [
    {
     "data": {
      "text/plain": [
       "[{'created_time': '2016-12-01T13:06:09+0000',\n",
       "  'from': {'id': '10156514568681679', 'name': 'Vitor Ferreira'},\n",
       "  'id': '1284900154906021_1284923291570374',\n",
       "  'message': 'Brilliant. Terrific work and thanks for sharing. Goes to prove why Singapore is second to none in execution and transparency.'},\n",
       " {'created_time': '2016-12-01T13:19:17+0000',\n",
       "  'from': {'id': '10155387284781900', 'name': 'Juby Koshy Varghese'},\n",
       "  'id': '1284900154906021_1284934018235968',\n",
       "  'message': 'Amazing investigation! Hats off to the whole team who worked hand in hand to resolve this issue within a short period of time.'},\n",
       " {'created_time': '2016-12-01T15:22:59+0000',\n",
       "  'from': {'id': '10211741405944417', 'name': 'Kah Tiong Koh'},\n",
       "  'id': '1284900154906021_1285115971551106',\n",
       "  'message': 'I am impressed by so many support ur views n not sure they understand what u hv posted like a zig zag graph. For me very simple, is either human aheas in control of technology or we just blindly follow technology without consideration to human ability n capability so just let me know where we are? Public can judge whether money is use wisely n effectively for the people n not making Singapore so called world class or first class but lack human ability n capability.'},\n",
       " {'created_time': '2016-12-01T15:48:00+0000',\n",
       "  'from': {'id': '10155627605693524', 'name': 'Geraldine Tang'},\n",
       "  'id': '1284900154906021_1285164674879569',\n",
       "  'message': 'Awesome job! The team deserve our applause with respect. It is always easier to give comment which define the mediocre grp but the outstanding ones are those who solve the problem and strive fwd!'},\n",
       " {'created_time': '2016-12-01T13:03:27+0000',\n",
       "  'from': {'id': '10155635577618684', 'name': 'Kasey Tan'},\n",
       "  'id': '1284900154906021_1284920878237282',\n",
       "  'message': 'Must get these brainy Engineers / Technologists to marry and have as many kids as possible!!! ;-)'},\n",
       " {'created_time': '2016-12-01T23:41:36+0000',\n",
       "  'from': {'id': '1723461087947494', 'name': 'Nancy Khoo'},\n",
       "  'id': '1284900154906021_1285657868163583',\n",
       "  'message': 'Though I do not know how to read and analyze the graph but I totally agree with you that teamwork is important. One is limited and weak but a team in one noble objective is formidable and powerful'},\n",
       " {'created_time': '2016-12-01T13:37:09+0000',\n",
       "  'from': {'id': '10155518641968608', 'name': 'Chris Lee'},\n",
       "  'id': '1284900154906021_1284957934900243',\n",
       "  'message': 'As a whole our MRT faults had occurred more than we can count, so we surely want to see some better solutions how to run better than HK MTR , and how our maintenance can expedite the repair to get the lines running. We noticed lines breakdown at many times happened during the rush hours and it can be quite frustrating. We sincerely want to see better results. No doubt our team had tried their very best to calm the commuters but the staff handling at some stations are still not well trained to control the chaotic situation.'}]"
      ]
     },
     "execution_count": 49,
     "metadata": {},
     "output_type": "execute_result"
    }
   ],
   "source": [
    "dict_data['data'][0]['comments']['data'][0:7]"
   ]
  },
  {
   "cell_type": "markdown",
   "metadata": {},
   "source": [
    "### Post \\#0 Likes"
   ]
  },
  {
   "cell_type": "code",
   "execution_count": 50,
   "metadata": {},
   "outputs": [
    {
     "data": {
      "text/plain": [
       "dict_keys(['data', 'summary', 'paging'])"
      ]
     },
     "execution_count": 50,
     "metadata": {},
     "output_type": "execute_result"
    }
   ],
   "source": [
    "dict_data['data'][0]['likes'].keys()"
   ]
  },
  {
   "cell_type": "code",
   "execution_count": 51,
   "metadata": {},
   "outputs": [
    {
     "data": {
      "text/plain": [
       "{'can_like': False, 'has_liked': False, 'total_count': 6026}"
      ]
     },
     "execution_count": 51,
     "metadata": {},
     "output_type": "execute_result"
    }
   ],
   "source": [
    "dict_data['data'][0]['likes']['summary']"
   ]
  },
  {
   "cell_type": "code",
   "execution_count": 52,
   "metadata": {},
   "outputs": [
    {
     "data": {
      "text/plain": [
       "[{'id': '10154592204142447', 'name': 'Yu Khing Poh'},\n",
       " {'id': '10155605143408064', 'name': 'Yang Jimmy Liu'},\n",
       " {'id': '10155325430010081', 'name': 'Hu Nan'},\n",
       " {'id': '1232720453540647', 'name': 'Yang Anwen'},\n",
       " {'id': '1463314923749042', 'name': 'Siu Foong Leong'}]"
      ]
     },
     "execution_count": 52,
     "metadata": {},
     "output_type": "execute_result"
    }
   ],
   "source": [
    "dict_data['data'][0]['likes']['data'][0:5]"
   ]
  },
  {
   "cell_type": "markdown",
   "metadata": {},
   "source": [
    "### Post \\#0 Reactions"
   ]
  },
  {
   "cell_type": "code",
   "execution_count": 53,
   "metadata": {},
   "outputs": [
    {
     "data": {
      "text/plain": [
       "dict_keys(['data', 'summary', 'paging'])"
      ]
     },
     "execution_count": 53,
     "metadata": {},
     "output_type": "execute_result"
    }
   ],
   "source": [
    "dict_data['data'][0]['reactions'].keys()"
   ]
  },
  {
   "cell_type": "code",
   "execution_count": 54,
   "metadata": {},
   "outputs": [
    {
     "data": {
      "text/plain": [
       "{'total_count': 6445, 'viewer_reaction': 'NONE'}"
      ]
     },
     "execution_count": 54,
     "metadata": {},
     "output_type": "execute_result"
    }
   ],
   "source": [
    "dict_data['data'][0]['reactions']['summary']"
   ]
  },
  {
   "cell_type": "code",
   "execution_count": 55,
   "metadata": {},
   "outputs": [
    {
     "data": {
      "text/plain": [
       "[{'id': '10154592204142447', 'name': 'Yu Khing Poh', 'type': 'LIKE'},\n",
       " {'id': '10155605143408064', 'name': 'Yang Jimmy Liu', 'type': 'LIKE'},\n",
       " {'id': '10155325430010081', 'name': 'Hu Nan', 'type': 'LIKE'},\n",
       " {'id': '1232720453540647', 'name': 'Yang Anwen', 'type': 'LIKE'},\n",
       " {'id': '1463314923749042', 'name': 'Siu Foong Leong', 'type': 'LIKE'}]"
      ]
     },
     "execution_count": 55,
     "metadata": {},
     "output_type": "execute_result"
    }
   ],
   "source": [
    "dict_data['data'][0]['reactions']['data'][0:5]"
   ]
  },
  {
   "cell_type": "code",
   "execution_count": null,
   "metadata": {
    "collapsed": true
   },
   "outputs": [],
   "source": []
  },
  {
   "cell_type": "code",
   "execution_count": null,
   "metadata": {
    "collapsed": true
   },
   "outputs": [],
   "source": []
  },
  {
   "cell_type": "code",
   "execution_count": null,
   "metadata": {
    "collapsed": true
   },
   "outputs": [],
   "source": []
  },
  {
   "cell_type": "code",
   "execution_count": null,
   "metadata": {
    "collapsed": true
   },
   "outputs": [],
   "source": []
  }
 ],
 "metadata": {
  "kernelspec": {
   "display_name": "Python 3",
   "language": "python",
   "name": "python3"
  },
  "language_info": {
   "codemirror_mode": {
    "name": "ipython",
    "version": 3
   },
   "file_extension": ".py",
   "mimetype": "text/x-python",
   "name": "python",
   "nbconvert_exporter": "python",
   "pygments_lexer": "ipython3",
   "version": "3.6.3"
  }
 },
 "nbformat": 4,
 "nbformat_minor": 2
}
